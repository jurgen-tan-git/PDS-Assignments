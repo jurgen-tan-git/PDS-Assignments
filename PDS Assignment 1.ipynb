{
 "cells": [
  {
   "cell_type": "code",
   "execution_count": 1,
   "metadata": {},
   "outputs": [],
   "source": [
    "import numpy as np\n",
    "import matplotlib.pyplot as plt"
   ]
  },
  {
   "cell_type": "code",
   "execution_count": 7,
   "metadata": {},
   "outputs": [],
   "source": [
    "path = r\"Datasets\"\n",
    "\n",
    "coe = np.genfromtxt(path + \"\\coe-results.csv\", delimiter=\",\", skip_header = 1,\n",
    "                    dtype = [(\"month\", \"U7\"), \n",
    "                              (\"bidding_no\", \"int64\"), \n",
    "                              (\"vehicle_class\", \"U100\"),\n",
    "                              (\"quota\", \"int64\"),\n",
    "                              (\"bids_success\", \"int64\"),\n",
    "                              (\"bids_received\", \"int64\"),\n",
    "                              (\"premium\", \"int64\")])\n",
    "\n",
    "license = np.genfromtxt(path + \"\\\\total-number-of-persons-holding-qualified-driving-licence.csv\", delimiter = \",\", skip_header = 1,\n",
    "                       dtype = [(\"year\", \"U4\"),\n",
    "                                (\"qualified_driving_licence_holders\", \"int64\")])\n",
    "\n",
    "# travel = np.genfromtxt(path + \"\\\\average-annual-kilometres-travelled-per-vehicle.csv\",delimiter=\",\",  skip_header = 1,\n",
    "#                        dtype = [(\"year\", \"U4\"), \n",
    "#                               (\"vehicle_type\", \"U100\"),\n",
    "#                               (\"average_annual_mileage\", \"int64\")])\n",
    "\n",
    "\n",
    "hdb = np.genfromtxt(path + \"\\hdb-carpark-information.txt\", delimiter = \"\\t\", skip_header = 1,\n",
    "                   dtype = [(\"car_park_no\", \"U5\"),\n",
    "                            (\"address\", \"U100\"),\n",
    "                            (\"x_coord\", \"float\"),\n",
    "                            (\"y_coord\", \"float\"),\n",
    "                            (\"car_park_type\", \"U100\"),\n",
    "                            (\"type_of_parking_system\", \"U100\"),\n",
    "                            (\"short_term_parking\", \"U100\"),\n",
    "                            (\"free_parking\", \"U100\"),\n",
    "                            (\"night_parking\", \"U100\"),\n",
    "                            (\"car_park_decks\", \"int64\"),\n",
    "                            (\"gantry_height\", \"float\"),\n",
    "                            (\"car_park_basement\", \"U1\")])"
   ]
  },
  {
   "cell_type": "code",
   "execution_count": null,
   "metadata": {},
   "outputs": [],
   "source": []
  },
  {
   "cell_type": "markdown",
   "metadata": {},
   "source": [
    "# Graph 1: Price Difference For Category A (1,600cc <) Every Month From 2015 to 2018"
   ]
  },
  {
   "cell_type": "code",
   "execution_count": null,
   "metadata": {},
   "outputs": [],
   "source": [
    "#Function to generate the data for 2 years by Category \n",
    "def Category(year):\n",
    "    bid_A = []\n",
    "    bid_B = []\n",
    "    bid_C = []\n",
    "    bid_D = []\n",
    "    bid_E = []\n",
    "    bid_rec_E = []\n",
    "    for i in range(len(coe['month'])):\n",
    "        if coe['month'][i].startswith(year) and coe['bidding_no'][i] == 1:\n",
    "            if coe['vehicle_class'][i] == \"Category A\":\n",
    "                bid_A.append(int(coe['premium'][i]))\n",
    "            elif coe['vehicle_class'][i] == \"Category B\":\n",
    "                bid_B.append(int(coe['premium'][i]))\n",
    "            elif coe['vehicle_class'][i] == \"Category C\":\n",
    "                bid_C.append(int(coe['premium'][i]))\n",
    "            elif coe['vehicle_class'][i] == \"Category D\":\n",
    "                bid_D.append(int(coe['premium'][i]))\n",
    "            elif coe['vehicle_class'][i] == \"Category E\":\n",
    "                bid_E.append(int(coe['premium'][i]))\n",
    "                bid_rec_E.append(int(coe['bids_received'][i]))\n",
    "    return [bid_A, bid_B, bid_C, bid_D, bid_E, bid_rec_E]"
   ]
  },
  {
   "cell_type": "code",
   "execution_count": null,
   "metadata": {},
   "outputs": [],
   "source": [
    "#Choosing the years to be visualised \n",
    "year1 = \"2015\"\n",
    "year2 = \"2016\"\n",
    "year3 = \"2017\"\n",
    "year4 = \"2018\"\n",
    "\n",
    "categories_1 = Category(year1)\n",
    "# print(categories_1)\n",
    "\n",
    "categories_2 = Category(year2)\n",
    "# print(categories_2)\n",
    "\n",
    "categories_3 = Category(year3)\n",
    "# print(categories_3)\n",
    "\n",
    "categories_4 = Category(year4)\n",
    "# print(categories_4)"
   ]
  },
  {
   "cell_type": "code",
   "execution_count": null,
   "metadata": {},
   "outputs": [],
   "source": [
    "# Calculation of the difference for the respective years\n",
    "\n",
    "#Year 1\n",
    "cata_diff_1 = []\n",
    "\n",
    "for i in range(len(categories_1[0])):\n",
    "    if i == len(categories_1[0])-1:\n",
    "        break\n",
    "    else:\n",
    "        cata_diff_1.append(categories_1[0][i] - categories_1[0][i +1])\n",
    "    \n",
    "# print(cata_diff_1)\n",
    "\n",
    "\n",
    "#Year 2\n",
    "cata_diff_2 = []\n",
    "\n",
    "for i in range(len(categories_2[0])):\n",
    "    if i == len(categories_2[0])-1:\n",
    "        break\n",
    "    else:\n",
    "        cata_diff_2.append(categories_2[0][i] - categories_2[0][i +1])\n",
    "    \n",
    "# print(cata_diff_2)\n",
    "\n",
    "#Year 3\n",
    "cata_diff_3 = []\n",
    "\n",
    "for i in range(len(categories_3[0])):\n",
    "    if i == len(categories_3[0])-1:\n",
    "        break\n",
    "    else:\n",
    "        cata_diff_3.append(categories_3[0][i] - categories_3[0][i +1])\n",
    "    \n",
    "\n",
    "#Year 4\n",
    "cata_diff_4 = []\n",
    "\n",
    "for i in range(len(categories_4[0])):\n",
    "    if i == len(categories_4[0])-1:\n",
    "        break\n",
    "    else:\n",
    "        cata_diff_4.append(categories_4[0][i] - categories_4[0][i +1])\n",
    "    \n"
   ]
  },
  {
   "cell_type": "code",
   "execution_count": null,
   "metadata": {},
   "outputs": [],
   "source": [
    "# Formatting of data in months\n",
    "\n",
    "months = [\"Jan-Feb\", \"Feb-Mar\", \"Mar-Apr\", \"Apr-May\", \"May-Jun\", \"Jun-Jul\", \"Jul-Aug\", \"Aug-Sep\", \"Sep-Oct\", \"Oct-Nov\", \"Nov-Dec\"]"
   ]
  },
  {
   "cell_type": "code",
   "execution_count": null,
   "metadata": {},
   "outputs": [],
   "source": [
    "fig,ax = plt.subplots(figsize=(20,10))\n",
    "\n",
    "ax.plot(months, cata_diff_1, 'bo-', label = year1)\n",
    "ax.plot(months, cata_diff_2, 'ro-', label = year2)\n",
    "ax.plot(months, cata_diff_3, 'ko-', label = year3)\n",
    "ax.plot(months, cata_diff_4, 'go-', label = year4)\n",
    "\n",
    "ax.set_title(\"Difference between the COE for Category A in {} vs {}\".format(year1, year2))\n",
    "ax.set_xlabel('Calculated Months')\n",
    "ax.set_ylabel('Price Difference')\n",
    "\n",
    "# plt.title = \"Difference between the COE for Category A in {} vs {}\".format(year1, year2)\n",
    "\n",
    "plt.legend(loc='upper right')\n",
    "plt.show()"
   ]
  },
  {
   "cell_type": "markdown",
   "metadata": {},
   "source": [
    "# Graph 2: The Price Range For Category B (1,600cc >) COE Over The Range Of 4 Years"
   ]
  },
  {
   "cell_type": "code",
   "execution_count": null,
   "metadata": {},
   "outputs": [],
   "source": [
    "plt.figure(figsize=(20, 10))\n",
    "\n",
    "data = [categories_1[1], categories_2[1], categories_3[1], categories_4[1]]\n",
    "label = [year1, year2, year3, year4]\n",
    "\n",
    "bp = plt.boxplot(data ,labels = label ,patch_artist=True)\n",
    "\n",
    "for patch in bp[\"boxes\"]:\n",
    "    patch.set(facecolor=\"pink\")\n",
    "\n",
    "    \n",
    "plt.title(\"Boxplot For The Cost Of A Bigger Car's COE From 2015 to 2018\")\n",
    "plt.xlabel(\"Year\")\n",
    "plt.ylabel(\"COE Price For Big Cars\")\n",
    "plt.show()"
   ]
  },
  {
   "cell_type": "markdown",
   "metadata": {},
   "source": [
    "# Graph 3: The relation between the bids received and the COE price for Category D (Motorbikes)"
   ]
  },
  {
   "cell_type": "code",
   "execution_count": null,
   "metadata": {},
   "outputs": [],
   "source": [
    "Cat_D_Premium = categories_1[4] + categories_2[4] + categories_3[4] + categories_4[4]\n",
    "\n",
    "Cat_D_Bids = categories_1[5] + categories_2[5] + categories_3[5] + categories_4[5]"
   ]
  },
  {
   "cell_type": "code",
   "execution_count": null,
   "metadata": {},
   "outputs": [],
   "source": [
    "plt.figure(figsize=(20, 10))\n",
    "x = []\n",
    "plt.scatter(Cat_D_Bids,Cat_D_Premium, s = 100, color = \"red\", edgecolor = \"black\")\n",
    "\n",
    "plt.title(\"The Relation Between The Bids Received & The COE Price For Motobikes\")\n",
    "plt.xlabel(\"Number Of Bids\")\n",
    "plt.ylabel(\"COE Price For Motobikes\")\n",
    "plt.show()"
   ]
  },
  {
   "cell_type": "markdown",
   "metadata": {},
   "source": [
    "# Graph 4: The Number Of Driving Licences Over The Years"
   ]
  },
  {
   "cell_type": "code",
   "execution_count": null,
   "metadata": {},
   "outputs": [],
   "source": [
    "fig,ax = plt.subplots(figsize=(20,10))\n",
    "ax.bar(license['year'], license['qualified_driving_licence_holders'], color = \"yellow\", edgecolor = \"black\")\n",
    "\n",
    "plt.title(\"The Number Of Driving Licenses In The Last Decade\")\n",
    "plt.xlabel(\"Year\")\n",
    "plt.ylabel(\"Number Of Licenses\")\n",
    "plt.show()"
   ]
  },
  {
   "cell_type": "markdown",
   "metadata": {},
   "source": [
    "# Graph 5: Scatterplot"
   ]
  },
  {
   "cell_type": "code",
   "execution_count": null,
   "metadata": {},
   "outputs": [],
   "source": [
    "plt.figure(figsize=(20, 10))\n",
    "plt.hist(distances, bins=13)\n",
    "plt.title(\"Histogram for Average Distances per Trip\")\n",
    "plt.xlabel(\"Average Distance per Trip\")\n",
    "plt.ylabel(\"Count\")\n",
    "plt.show()"
   ]
  },
  {
   "cell_type": "code",
   "execution_count": null,
   "metadata": {},
   "outputs": [],
   "source": []
  },
  {
   "cell_type": "code",
   "execution_count": null,
   "metadata": {},
   "outputs": [],
   "source": []
  }
 ],
 "metadata": {
  "kernelspec": {
   "display_name": "Python 3",
   "language": "python",
   "name": "python3"
  },
  "language_info": {
   "codemirror_mode": {
    "name": "ipython",
    "version": 3
   },
   "file_extension": ".py",
   "mimetype": "text/x-python",
   "name": "python",
   "nbconvert_exporter": "python",
   "pygments_lexer": "ipython3",
   "version": "3.7.4"
  }
 },
 "nbformat": 4,
 "nbformat_minor": 2
}
