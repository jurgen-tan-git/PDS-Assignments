{
 "cells": [
  {
   "cell_type": "code",
   "execution_count": 1,
   "metadata": {},
   "outputs": [],
   "source": [
    "import numpy as np\n",
    "import matplotlib.pyplot as plt"
   ]
  },
  {
   "cell_type": "code",
   "execution_count": 2,
   "metadata": {},
   "outputs": [],
   "source": [
    "#Reading of datasets \n",
    "path = r\"Datasets\"\n",
    "\n",
    "coe = np.genfromtxt(path + \"\\coe-results.csv\", delimiter=\",\", skip_header = 1,\n",
    "                    dtype = [(\"month\", \"U7\"), \n",
    "                              (\"bidding_no\", \"int64\"), \n",
    "                              (\"vehicle_class\", \"U100\"),\n",
    "                              (\"quota\", \"int64\"),\n",
    "                              (\"bids_success\", \"int64\"),\n",
    "                              (\"bids_received\", \"int64\"),\n",
    "                              (\"premium\", \"int64\")])\n",
    "\n",
    "license = np.genfromtxt(path + \"\\\\total-number-of-persons-holding-qualified-driving-licence.csv\", delimiter = \",\", \n",
    "                        skip_header = 1,\n",
    "                       dtype = [(\"year\", \"U4\"),\n",
    "                                (\"qualified_driving_licence_holders\", \"int64\")])\n",
    "\n",
    "hdb = np.genfromtxt(path + \"\\hdb-carpark-information.txt\", delimiter = \"\\t\", skip_header = 1,\n",
    "                   dtype = [(\"car_park_no\", \"U5\"),\n",
    "                            (\"address\", \"U100\"),\n",
    "                            (\"x_coord\", \"float\"),\n",
    "                            (\"y_coord\", \"float\"),\n",
    "                            (\"car_park_type\", \"U100\"),\n",
    "                            (\"type_of_parking_system\", \"U100\"),\n",
    "                            (\"short_term_parking\", \"U100\"),\n",
    "                            (\"free_parking\", \"U100\"),\n",
    "                            (\"night_parking\", \"U100\"),\n",
    "                            (\"car_park_decks\", \"int64\"),\n",
    "                            (\"gantry_height\", \"float\"),\n",
    "                            (\"car_park_basement\", \"U1\")])"
   ]
  },
  {
   "cell_type": "code",
   "execution_count": null,
   "metadata": {},
   "outputs": [],
   "source": [
    "#Function to generate the data for 2 years by Category \n",
    "\n",
    "year = [\"2015\", \"2016\", \"2017\", \"2018\"]\n",
    "\n",
    "def Category(year):\n",
    "    bid_A = []\n",
    "    bid_B = []\n",
    "    bid_C = []\n",
    "    bid_D = []\n",
    "    bid_E = []\n",
    "    bid_rec_E = []\n",
    "    for i in range(len(coe['month'])):\n",
    "        if coe['month'][i].startswith(year) and coe['bidding_no'][i] == 1:\n",
    "            if coe['vehicle_class'][i] == \"Category A\":\n",
    "                bid_A.append(int(coe['premium'][i]))\n",
    "            elif coe['vehicle_class'][i] == \"Category B\":\n",
    "                bid_B.append(int(coe['premium'][i]))\n",
    "            elif coe['vehicle_class'][i] == \"Category C\":\n",
    "                bid_C.append(int(coe['premium'][i]))\n",
    "            elif coe['vehicle_class'][i] == \"Category D\":\n",
    "                bid_D.append(int(coe['premium'][i]))\n",
    "            elif coe['vehicle_class'][i] == \"Category E\":\n",
    "                bid_E.append(int(coe['premium'][i]))\n",
    "                bid_rec_E.append(int(coe['bids_received'][i]))\n",
    "    return [bid_A, bid_B, bid_C, bid_D, bid_E, bid_rec_E]"
   ]
  },
  {
   "cell_type": "code",
   "execution_count": null,
   "metadata": {},
   "outputs": [],
   "source": [
    "#Choosing the years to be visualised \n",
    "\n",
    "year = [\"2015\", \"2016\", \"2017\", \"2018\"]\n",
    "\n",
    "categories = []\n",
    "\n",
    "for i in range(4):\n",
    "    categories.append(Category(year[i]))"
   ]
  },
  {
   "cell_type": "code",
   "execution_count": null,
   "metadata": {},
   "outputs": [],
   "source": [
    "# Calculation of the difference for the respective years\n",
    "\n",
    "#Year 2015\n",
    "cata_diff_1 = []\n",
    "\n",
    "for i in range(len(categories[0][0]) - 1):\n",
    "    cata_diff_1.append(categories[0][0][i + 1] - categories[0][0][i])\n",
    "\n",
    "\n",
    "#Year 2016\n",
    "cata_diff_2 = []\n",
    "\n",
    "for i in range(len(categories[1][0]) - 1):\n",
    "    cata_diff_2.append(categories[0][1][i + 1] - categories[0][1][i])\n",
    "    \n",
    "\n",
    "\n",
    "#Year 3\n",
    "cata_diff_3 = []\n",
    "\n",
    "for i in range(len(categories[2][0]) - 1):\n",
    "    cata_diff_3.append(categories[2][0][i + 1] - categories[2][0][i])\n",
    "    \n",
    "\n",
    "#Year 4\n",
    "cata_diff_4 = []\n",
    "\n",
    "for i in range(len(categories[3][0]) - 1):\n",
    "    cata_diff_4.append(categories[3][0][i + 1] - categories[3][0][i])\n",
    "    \n",
    "cata_diff = [cata_diff_1, cata_diff_2, cata_diff_3, cata_diff_4]"
   ]
  },
  {
   "cell_type": "markdown",
   "metadata": {},
   "source": [
    "# Graph 1: Price Difference For Category A (1,600cc <) Every Month From 2015 to 2018"
   ]
  },
  {
   "cell_type": "code",
   "execution_count": null,
   "metadata": {},
   "outputs": [],
   "source": [
    "# Formatting of data in months\n",
    "\n",
    "months = [\"Jan-Feb\", \"Feb-Mar\", \"Mar-Apr\", \"Apr-May\", \"May-Jun\", \"Jun-Jul\", \n",
    "          \"Jul-Aug\", \"Aug-Sep\", \"Sep-Oct\", \"Oct-Nov\", \"Nov-Dec\"]\n",
    "\n",
    "\n",
    "#Plotting Of Line Graph\n",
    "\n",
    "fig,ax = plt.subplots(figsize=(20,10))\n",
    "\n",
    "ax.plot(months, cata_diff[0], 'bo-', label = year[0])\n",
    "ax.plot(months, cata_diff[1], 'ro-', label = year[1])\n",
    "ax.plot(months, cata_diff[2], 'ko-', label = year[2])\n",
    "ax.plot(months, cata_diff[3], 'go-', label = year[3])\n",
    "\n",
    "ax.set_title(\"Difference between the COE price for Category A from {} to {}\".format(year[0], year[3]))\n",
    "ax.set_xlabel('Calculated Months')\n",
    "ax.set_ylabel('Price Difference')\n",
    "\n",
    "\n",
    "\n",
    "plt.legend(loc='upper right')\n",
    "plt.show()\n",
    "\n",
    "\n",
    "def mean(value):\n",
    "    return sum(value) / len(value)\n",
    "\n",
    "for i in range(4):\n",
    "    print(\"The average difference for {} is {:.2f}\".format(year[i], mean(cata_diff[i])))"
   ]
  },
  {
   "cell_type": "markdown",
   "metadata": {},
   "source": [
    "# Graph 2: The Price Range For Category B (1,600cc >) COE Over The Range Of 4 Years"
   ]
  },
  {
   "cell_type": "code",
   "execution_count": null,
   "metadata": {
    "scrolled": false
   },
   "outputs": [],
   "source": [
    "#Adding the data for Category B from the different years\n",
    "data = []\n",
    "label = []\n",
    "\n",
    "for i in range(4):\n",
    "    data.append(categories[i][1])\n",
    "    label.append(year[i])\n",
    "\n",
    "#Plotting Of Box Plot\n",
    "plt.figure(figsize=(20, 10))\n",
    "bp = plt.boxplot(data, labels = label , notch = True, patch_artist = True)\n",
    "\n",
    "for patch in bp[\"boxes\"]:\n",
    "    patch.set(facecolor=\"pink\")\n",
    "\n",
    "    \n",
    "plt.title(\"The Cost Of Category B From 2015 to 2018\")\n",
    "plt.xlabel(\"Year\")\n",
    "plt.ylabel(\"COE Price For Big Cars\")\n",
    "plt.show()\n",
    "\n",
    "print(\"In {}, the max is {:.2f}, the min is {:.2f} and the mean is {:.2f}\"\n",
    "      .format(year[0], max(categories[0][1]), min(categories[0][1]), mean(categories[0][1])))\n",
    "print(\"\\nIn {}, the max is {:.2f}, the min is {:.2f} and the mean is {:.2f}\"\n",
    "      .format(year[1], max(categories[1][1]), min(categories[1][1]), mean(categories[1][1])))\n",
    "print(\"\\nIn {}, the max is {:.2f}, the min is {:.2f} and the mean is {:.2f}\"\n",
    "      .format(year[2], max(categories[2][1]), min(categories[2][1]), mean(categories[2][1])))\n",
    "print(\"\\nIn {}, the max is {:.2f}, the min is {:.2f} and the mean is {:.2f}\"\n",
    "      .format(year[3], max(categories[3][1]), min(categories[3][1]), mean(categories[3][1])))\n"
   ]
  },
  {
   "cell_type": "markdown",
   "metadata": {},
   "source": [
    "# Graph 3: The relation between the bids received and the COE price for Category D (Motorbikes)"
   ]
  },
  {
   "cell_type": "code",
   "execution_count": null,
   "metadata": {},
   "outputs": [],
   "source": [
    "Cat_D_Premium = categories[0][4] + categories[1][4] + categories[2][4] + categories[3][4]\n",
    "\n",
    "Cat_D_Bids = categories[0][5] + categories[1][5] + categories[2][5] + categories[3][5]"
   ]
  },
  {
   "cell_type": "code",
   "execution_count": null,
   "metadata": {},
   "outputs": [],
   "source": [
    "#Combining The Price & Bids Received From The Different Years\n",
    "Cat_D_Premium = categories[0][4] + categories[1][4] + categories[2][4] + categories[3][4]\n",
    "\n",
    "Cat_D_Bids = categories[0][5] + categories[1][5] + categories[2][5] + categories[3][5]\n",
    "\n",
    "#Plotting Of Scatterplot\n",
    "plt.figure(figsize=(20, 10))\n",
    "plt.scatter(Cat_D_Bids,Cat_D_Premium, s = 100, color = \"red\", edgecolor = \"black\")\n",
    "\n",
    "plt.title(\"The Relation Between The Bids Received & The COE Price For Motobikes\")\n",
    "plt.xlabel(\"Number Of Bids\")\n",
    "plt.ylabel(\"COE Price For Motobikes\")\n",
    "plt.show()\n",
    "\n",
    "print(\"The max is {:.2f}, the min is {:.2f} and the mean is {:.2f}\"\n",
    "      .format(max(Cat_D_Premium), min(Cat_D_Premium), mean(Cat_D_Premium)))"
   ]
  },
  {
   "cell_type": "markdown",
   "metadata": {},
   "source": [
    "# Graph 4: The Number Of Driving Licences Over The Years"
   ]
  },
  {
   "cell_type": "code",
   "execution_count": 5,
   "metadata": {},
   "outputs": [],
   "source": [
    "#To generate the y-value for the bar chart\n",
    "def labeling(barchart):\n",
    "    for bar in barchart:\n",
    "        height = bar.get_height()\n",
    "        ax.text(bar.get_x() + bar.get_width()/2., 1.005 * height, int(height),\n",
    "        ha='center', va='bottom')"
   ]
  },
  {
   "cell_type": "code",
   "execution_count": 6,
   "metadata": {},
   "outputs": [
    {
     "data": {
      "image/png": "[encoded data removed]",
      "text/plain": [
       "<Figure size 1440x720 with 1 Axes>"
      ]
     },
     "metadata": {
      "needs_background": "light"
     },
     "output_type": "display_data"
    },
    {
     "name": "stdout",
     "output_type": "stream",
     "text": [
      "In year 2008, the difference was the highest of 94700\n"
     ]
    }
   ],
   "source": [
    "#Plotting Of Bar Charts\n",
    "fig,ax = plt.subplots(figsize=(20,10))\n",
    "barchart = ax.bar(license['year'], license['qualified_driving_licence_holders'], color = \"yellow\", edgecolor = \"black\")\n",
    "\n",
    "plt.title(\"The Number Of Driving Licenses In The Last 12 Years\")\n",
    "plt.xlabel(\"Year\")\n",
    "plt.ylabel(\"Number Of Licenses\") \n",
    "\n",
    "#Function to print count\n",
    "labeling(barchart)\n",
    "\n",
    "plt.show()\n",
    "\n",
    "#Calculating The Difference \n",
    "driving_diff = []\n",
    "for i in range(11):\n",
    "    driving_diff.append(license['qualified_driving_licence_holders'][i + 1] - license['qualified_driving_licence_holders'][i])\n",
    "\n",
    "print(\"In year {}, the difference was the highest of {}\"\n",
    "      .format((license['year'][driving_diff.index(max(driving_diff))]), max(driving_diff)))"
   ]
  },
  {
   "cell_type": "markdown",
   "metadata": {},
   "source": [
    "# Graph 5: The Number Of Decks In Singapore's HDB Carparks"
   ]
  },
  {
   "cell_type": "code",
   "execution_count": 4,
   "metadata": {},
   "outputs": [
    {
     "data": {
      "image/png": "[encoded data removed]",
      "text/plain": [
       "<Figure size 1440x720 with 1 Axes>"
      ]
     },
     "metadata": {
      "needs_background": "light"
     },
     "output_type": "display_data"
    },
    {
     "ename": "NameError",
     "evalue": "name 'mean' is not defined",
     "output_type": "error",
     "traceback": [
      "\u001b[1;31m---------------------------------------------------------------------------\u001b[0m",
      "\u001b[1;31mNameError\u001b[0m                                 Traceback (most recent call last)",
      "\u001b[1;32m<ipython-input-4-b21350da3dc2>\u001b[0m in \u001b[0;36m<module>\u001b[1;34m\u001b[0m\n\u001b[0;32m     11\u001b[0m print(\"The highest number of decks is {} with a count of {:.0f},\"\n\u001b[0;32m     12\u001b[0m       \u001b[1;34m\" the least number of decks is {} with a count of {:.0f} and the mean is {:.0f}\"\u001b[0m\u001b[1;33m\u001b[0m\u001b[1;33m\u001b[0m\u001b[0m\n\u001b[1;32m---> 13\u001b[1;33m       .format(max(hdb['car_park_decks']), count[-1], min(hdb['car_park_decks']), count[0], mean(hdb['car_park_decks'])))\n\u001b[0m",
      "\u001b[1;31mNameError\u001b[0m: name 'mean' is not defined"
     ]
    }
   ],
   "source": [
    "#Plotting Of Histogram\n",
    "plt.figure(figsize=(20, 10))\n",
    "plt.xticks(np.arange(20))\n",
    "(count, bins, color) = plt.hist(hdb['car_park_decks'], bins = 12, color = \"cyan\", edgecolor = \"black\")\n",
    "plt.title(\"Histogram for The Number Of Decks In Singapore's HDB Carparks\")\n",
    "plt.xlabel(\"Number Of Decks\")\n",
    "plt.ylabel(\"Count\")\n",
    "plt.show()\n",
    "\n",
    "\n",
    "print(\"The highest number of decks is {} with a count of {:.0f},\"\n",
    "      \" the least number of decks is {} with a count of {:.0f} and the mean is {:.0f}\"\n",
    "      .format(max(hdb['car_park_decks']), count[-1], min(hdb['car_park_decks']), count[0], mean(hdb['car_park_decks'])))"
   ]
  }
 ],
 "metadata": {
  "kernelspec": {
   "display_name": "Python 3",
   "language": "python",
   "name": "python3"
  },
  "language_info": {
   "codemirror_mode": {
    "name": "ipython",
    "version": 3
   },
   "file_extension": ".py",
   "mimetype": "text/x-python",
   "name": "python",
   "nbconvert_exporter": "python",
   "pygments_lexer": "ipython3",
   "version": "3.7.4"
  }
 },
 "nbformat": 4,
 "nbformat_minor": 2
}
