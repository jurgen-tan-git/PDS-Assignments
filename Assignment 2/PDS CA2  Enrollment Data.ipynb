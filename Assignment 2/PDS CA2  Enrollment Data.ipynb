{
 "cells": [
  {
   "cell_type": "code",
   "execution_count": 1,
   "metadata": {},
   "outputs": [],
   "source": [
    "import pandas as pd\n",
    "import numpy as np\n"
   ]
  },
  {
   "cell_type": "code",
   "execution_count": 2,
   "metadata": {
    "scrolled": true
   },
   "outputs": [],
   "source": [
    "enroll = pd.read_csv(\"enrolment-by-institutions.csv\", index_col = [\"year\",\"sex\"], na_values = \"-\")\n",
    "# enroll = enroll.fillna(0)\n",
    "enroll = enroll.dropna()\n",
    "col = enroll.columns\n",
    "\n",
    "for value in col:\n",
    "    enroll[value] = enroll[value].astype(\"int32\")"
   ]
  },
  {
   "cell_type": "code",
   "execution_count": 3,
   "metadata": {},
   "outputs": [],
   "source": [
    "male = []\n",
    "for i in range(len(enroll)-1):\n",
    "    if enroll.index[i][0] == enroll.index[i+1][0]:\n",
    "        male.append((enroll.iloc[i] - enroll.iloc[i + 1]))\n",
    "        "
   ]
  },
  {
   "cell_type": "code",
   "execution_count": 4,
   "metadata": {},
   "outputs": [],
   "source": [
    "male_data = pd.DataFrame(columns = [\"year\",\n",
    "                               \"sex\",\n",
    "                               \"nus\", \n",
    "                               \"ntu\",\n",
    "                               \"smu\", \n",
    "                               \"sit\", \n",
    "                               \"sutd\",\n",
    "                               \"suss\", \n",
    "                               \"nie\", \n",
    "                               \"singapore_polytechnic\",\n",
    "                               \"ngee_ann_polytechnic\", \n",
    "                               \"temasek_polytechnic\",\n",
    "                               \"nanyang_polytechnic\", \n",
    "                               \"republic_polytechnic\", \n",
    "                               \"lasalle_diploma\",\n",
    "                               \"lasalle_degree\", \n",
    "                               \"nafa_diploma\", \n",
    "                               \"nafa_degree\", \n",
    "                               \"ite\"])\n",
    "\n",
    "for i in range(len(male)):\n",
    "    male_data = male_data.append({\"year\" : enroll.index[i*2][0],\n",
    "                \"sex\" : \"M\",\n",
    "                \"nus\" : int(male[i][0]),\n",
    "                \"ntu\" : int(male[i][1]),\n",
    "                \"smu\" : int(male[i][2]),\n",
    "                \"sit\" : int(male[i][3]),\n",
    "                \"sutd\": int(male[i][4]),\n",
    "                \"suss\" : int(male[i][5]),\n",
    "                \"nie\" : int(male[i][6]),\n",
    "                \"singapore_polytechnic\" : int(male[i][7]),\n",
    "                \"ngee_ann_polytechnic\" : int(male[i][8]),\n",
    "                \"temasek_polytechnic\" : int(male[i][9]),\n",
    "                \"nanyang_polytechnic\" : int(male[i][10]),\n",
    "                \"republic_polytechnic\" : int(male[i][11]),\n",
    "                \"lasalle_diploma\" : int(male[i][12]),\n",
    "                \"lasalle_degree\" : int(male[i][13]),\n",
    "                \"nafa_diploma\" : int(male[i][14]),\n",
    "                \"nafa_degree\" : int(male[i][15]),\n",
    "                \"ite\" :  int(male[i][16])}, ignore_index=True)"
   ]
  },
  {
   "cell_type": "code",
   "execution_count": 5,
   "metadata": {
    "scrolled": false
   },
   "outputs": [],
   "source": [
    "male_data = male_data.set_index([\"year\", \"sex\"])"
   ]
  },
  {
   "cell_type": "code",
   "execution_count": 6,
   "metadata": {},
   "outputs": [],
   "source": [
    "enroll = pd.concat([male_data, enroll], sort = True).sort_index()\n"
   ]
  },
  {
   "cell_type": "code",
   "execution_count": 25,
   "metadata": {},
   "outputs": [
    {
     "data": {
      "text/plain": [
       "dtype('O')"
      ]
     },
     "execution_count": 25,
     "metadata": {},
     "output_type": "execute_result"
    }
   ],
   "source": [
    "enroll.iloc[0].dtype"
   ]
  }
 ],
 "metadata": {
  "kernelspec": {
   "display_name": "Python 3",
   "language": "python",
   "name": "python3"
  },
  "language_info": {
   "codemirror_mode": {
    "name": "ipython",
    "version": 3
   },
   "file_extension": ".py",
   "mimetype": "text/x-python",
   "name": "python",
   "nbconvert_exporter": "python",
   "pygments_lexer": "ipython3",
   "version": "3.7.4"
  }
 },
 "nbformat": 4,
 "nbformat_minor": 2
}
