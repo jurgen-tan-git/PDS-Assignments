{
 "cells": [
  {
   "cell_type": "code",
   "execution_count": null,
   "metadata": {},
   "outputs": [],
   "source": [
    "import pandas as pd\n",
    "import numpy as np\n",
    "import seaborn as sns\n",
    "import matplotlib.pyplot as plt\n",
    "\n",
    "firstgrad = pd.read_csv(r\"~\\Desktop\\School Related\\PDS-Assignment-1\\Assignment 2\\Raw Data\\graduates-from-university-first-degree-courses-by-type-of-course.csv\",\n",
    "                       na_values = \"na\")\n",
    "firstgrad = firstgrad[firstgrad.year >= 2000].reset_index(drop = True).set_index([\"year\", \"type_of_course\"])\n",
    "firstgrad.no_of_graduates = firstgrad.no_of_graduates.fillna(0).astype(int)\n",
    "firstgrad[\"total\"] = firstgrad.no_of_graduates.groupby(level=[\"year\", \"type_of_course\"]).sum()\n",
    "firstgrad = firstgrad.reset_index()\n",
    "firstgrad"
   ]
  },
  {
   "cell_type": "code",
   "execution_count": null,
   "metadata": {},
   "outputs": [],
   "source": [
    "sns.set(style=\"whitegrid\")\n",
    "sns.set(rc={'figure.figsize':(15.7,8.27)})\n",
    "\n",
    "lineplot = sns.lineplot(x=\"year\", y=\"total\", hue = \"type_of_course\", marker = \"o\", data=firstgrad, palette=\"nipy_spectral\")\n",
    "\n",
    "\n",
    "plt.legend(loc='upper left')\n",
    "lineplot.set(xlabel='Year', ylabel='Graduates', title=\"Number Of Graduates In Different Faculties Over The Years\")\n",
    "plt.show(lineplot)"
   ]
  }
 ],
 "metadata": {
  "kernelspec": {
   "display_name": "Python 3",
   "language": "python",
   "name": "python3"
  },
  "language_info": {
   "codemirror_mode": {
    "name": "ipython",
    "version": 3
   },
   "file_extension": ".py",
   "mimetype": "text/x-python",
   "name": "python",
   "nbconvert_exporter": "python",
   "pygments_lexer": "ipython3",
   "version": "3.7.3"
  }
 },
 "nbformat": 4,
 "nbformat_minor": 2
}
