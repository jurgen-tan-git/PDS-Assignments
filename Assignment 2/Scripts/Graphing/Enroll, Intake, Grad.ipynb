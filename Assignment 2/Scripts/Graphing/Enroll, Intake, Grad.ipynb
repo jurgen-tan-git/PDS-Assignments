{
 "cells": [
  {
   "cell_type": "code",
   "execution_count": 2,
   "metadata": {},
   "outputs": [],
   "source": [
    "import pandas as pd\n",
    "import numpy as np\n",
    "import seaborn as sns\n",
    "import matplotlib.pyplot as plt\n",
    "\n",
    "merged = pd.read_csv(r\"~\\Desktop\\School Related\\PDS-Assignment-1\\Assignment 2\\After Cleansing\\Merged.csv\")\n",
    "merged = merged[merged.year >= 2000]\n",
    "# merged"
   ]
  },
  {
   "cell_type": "code",
   "execution_count": 10,
   "metadata": {},
   "outputs": [
    {
     "data": {
      "text/html": [
       "<div>\n",
       "<style scoped>\n",
       "    .dataframe tbody tr th:only-of-type {\n",
       "        vertical-align: middle;\n",
       "    }\n",
       "\n",
       "    .dataframe tbody tr th {\n",
       "        vertical-align: top;\n",
       "    }\n",
       "\n",
       "    .dataframe thead th {\n",
       "        text-align: right;\n",
       "    }\n",
       "</style>\n",
       "<table border=\"1\" class=\"dataframe\">\n",
       "  <thead>\n",
       "    <tr style=\"text-align: right;\">\n",
       "      <th></th>\n",
       "      <th>year</th>\n",
       "      <th>sex</th>\n",
       "      <th>nus</th>\n",
       "      <th>total</th>\n",
       "      <th>type</th>\n",
       "    </tr>\n",
       "  </thead>\n",
       "  <tbody>\n",
       "    <tr>\n",
       "      <th>54</th>\n",
       "      <td>2000</td>\n",
       "      <td>F</td>\n",
       "      <td>11341</td>\n",
       "      <td>20023</td>\n",
       "      <td>enroll</td>\n",
       "    </tr>\n",
       "    <tr>\n",
       "      <th>55</th>\n",
       "      <td>2000</td>\n",
       "      <td>MF</td>\n",
       "      <td>21233</td>\n",
       "      <td>39193</td>\n",
       "      <td>enroll</td>\n",
       "    </tr>\n",
       "    <tr>\n",
       "      <th>56</th>\n",
       "      <td>2000</td>\n",
       "      <td>M</td>\n",
       "      <td>9892</td>\n",
       "      <td>19170</td>\n",
       "      <td>enroll</td>\n",
       "    </tr>\n",
       "    <tr>\n",
       "      <th>57</th>\n",
       "      <td>2001</td>\n",
       "      <td>F</td>\n",
       "      <td>11781</td>\n",
       "      <td>21156</td>\n",
       "      <td>enroll</td>\n",
       "    </tr>\n",
       "    <tr>\n",
       "      <th>58</th>\n",
       "      <td>2001</td>\n",
       "      <td>MF</td>\n",
       "      <td>22172</td>\n",
       "      <td>41078</td>\n",
       "      <td>enroll</td>\n",
       "    </tr>\n",
       "    <tr>\n",
       "      <th>59</th>\n",
       "      <td>2001</td>\n",
       "      <td>M</td>\n",
       "      <td>10391</td>\n",
       "      <td>19922</td>\n",
       "      <td>enroll</td>\n",
       "    </tr>\n",
       "    <tr>\n",
       "      <th>60</th>\n",
       "      <td>2002</td>\n",
       "      <td>MF</td>\n",
       "      <td>22169</td>\n",
       "      <td>42524</td>\n",
       "      <td>enroll</td>\n",
       "    </tr>\n",
       "    <tr>\n",
       "      <th>61</th>\n",
       "      <td>2002</td>\n",
       "      <td>M</td>\n",
       "      <td>10516</td>\n",
       "      <td>20620</td>\n",
       "      <td>enroll</td>\n",
       "    </tr>\n",
       "    <tr>\n",
       "      <th>62</th>\n",
       "      <td>2002</td>\n",
       "      <td>F</td>\n",
       "      <td>11653</td>\n",
       "      <td>21904</td>\n",
       "      <td>enroll</td>\n",
       "    </tr>\n",
       "    <tr>\n",
       "      <th>63</th>\n",
       "      <td>2003</td>\n",
       "      <td>F</td>\n",
       "      <td>11036</td>\n",
       "      <td>21415</td>\n",
       "      <td>enroll</td>\n",
       "    </tr>\n",
       "    <tr>\n",
       "      <th>64</th>\n",
       "      <td>2003</td>\n",
       "      <td>MF</td>\n",
       "      <td>22149</td>\n",
       "      <td>43048</td>\n",
       "      <td>enroll</td>\n",
       "    </tr>\n",
       "    <tr>\n",
       "      <th>65</th>\n",
       "      <td>2003</td>\n",
       "      <td>M</td>\n",
       "      <td>11113</td>\n",
       "      <td>21633</td>\n",
       "      <td>enroll</td>\n",
       "    </tr>\n",
       "    <tr>\n",
       "      <th>66</th>\n",
       "      <td>2004</td>\n",
       "      <td>M</td>\n",
       "      <td>10409</td>\n",
       "      <td>21528</td>\n",
       "      <td>enroll</td>\n",
       "    </tr>\n",
       "    <tr>\n",
       "      <th>67</th>\n",
       "      <td>2004</td>\n",
       "      <td>MF</td>\n",
       "      <td>21781</td>\n",
       "      <td>43910</td>\n",
       "      <td>enroll</td>\n",
       "    </tr>\n",
       "    <tr>\n",
       "      <th>68</th>\n",
       "      <td>2004</td>\n",
       "      <td>F</td>\n",
       "      <td>11372</td>\n",
       "      <td>22382</td>\n",
       "      <td>enroll</td>\n",
       "    </tr>\n",
       "    <tr>\n",
       "      <th>69</th>\n",
       "      <td>2005</td>\n",
       "      <td>MF</td>\n",
       "      <td>22105</td>\n",
       "      <td>46544</td>\n",
       "      <td>enroll</td>\n",
       "    </tr>\n",
       "    <tr>\n",
       "      <th>70</th>\n",
       "      <td>2005</td>\n",
       "      <td>M</td>\n",
       "      <td>10779</td>\n",
       "      <td>22945</td>\n",
       "      <td>enroll</td>\n",
       "    </tr>\n",
       "    <tr>\n",
       "      <th>71</th>\n",
       "      <td>2005</td>\n",
       "      <td>F</td>\n",
       "      <td>11326</td>\n",
       "      <td>23599</td>\n",
       "      <td>enroll</td>\n",
       "    </tr>\n",
       "    <tr>\n",
       "      <th>72</th>\n",
       "      <td>2006</td>\n",
       "      <td>F</td>\n",
       "      <td>11766</td>\n",
       "      <td>24990</td>\n",
       "      <td>enroll</td>\n",
       "    </tr>\n",
       "    <tr>\n",
       "      <th>73</th>\n",
       "      <td>2006</td>\n",
       "      <td>MF</td>\n",
       "      <td>22836</td>\n",
       "      <td>49147</td>\n",
       "      <td>enroll</td>\n",
       "    </tr>\n",
       "    <tr>\n",
       "      <th>74</th>\n",
       "      <td>2006</td>\n",
       "      <td>M</td>\n",
       "      <td>11070</td>\n",
       "      <td>24157</td>\n",
       "      <td>enroll</td>\n",
       "    </tr>\n",
       "    <tr>\n",
       "      <th>75</th>\n",
       "      <td>2007</td>\n",
       "      <td>F</td>\n",
       "      <td>12396</td>\n",
       "      <td>26801</td>\n",
       "      <td>enroll</td>\n",
       "    </tr>\n",
       "    <tr>\n",
       "      <th>76</th>\n",
       "      <td>2007</td>\n",
       "      <td>MF</td>\n",
       "      <td>23578</td>\n",
       "      <td>51687</td>\n",
       "      <td>enroll</td>\n",
       "    </tr>\n",
       "    <tr>\n",
       "      <th>77</th>\n",
       "      <td>2007</td>\n",
       "      <td>M</td>\n",
       "      <td>11182</td>\n",
       "      <td>24886</td>\n",
       "      <td>enroll</td>\n",
       "    </tr>\n",
       "    <tr>\n",
       "      <th>78</th>\n",
       "      <td>2008</td>\n",
       "      <td>MF</td>\n",
       "      <td>24086</td>\n",
       "      <td>53485</td>\n",
       "      <td>enroll</td>\n",
       "    </tr>\n",
       "    <tr>\n",
       "      <th>79</th>\n",
       "      <td>2008</td>\n",
       "      <td>F</td>\n",
       "      <td>12663</td>\n",
       "      <td>27823</td>\n",
       "      <td>enroll</td>\n",
       "    </tr>\n",
       "    <tr>\n",
       "      <th>80</th>\n",
       "      <td>2008</td>\n",
       "      <td>M</td>\n",
       "      <td>11423</td>\n",
       "      <td>25662</td>\n",
       "      <td>enroll</td>\n",
       "    </tr>\n",
       "    <tr>\n",
       "      <th>81</th>\n",
       "      <td>2009</td>\n",
       "      <td>M</td>\n",
       "      <td>11854</td>\n",
       "      <td>27143</td>\n",
       "      <td>enroll</td>\n",
       "    </tr>\n",
       "    <tr>\n",
       "      <th>82</th>\n",
       "      <td>2009</td>\n",
       "      <td>MF</td>\n",
       "      <td>24798</td>\n",
       "      <td>56383</td>\n",
       "      <td>enroll</td>\n",
       "    </tr>\n",
       "    <tr>\n",
       "      <th>83</th>\n",
       "      <td>2009</td>\n",
       "      <td>F</td>\n",
       "      <td>12944</td>\n",
       "      <td>29240</td>\n",
       "      <td>enroll</td>\n",
       "    </tr>\n",
       "    <tr>\n",
       "      <th>...</th>\n",
       "      <td>...</td>\n",
       "      <td>...</td>\n",
       "      <td>...</td>\n",
       "      <td>...</td>\n",
       "      <td>...</td>\n",
       "    </tr>\n",
       "    <tr>\n",
       "      <th>267</th>\n",
       "      <td>2005</td>\n",
       "      <td>MF</td>\n",
       "      <td>5779</td>\n",
       "      <td>14126</td>\n",
       "      <td>graduate</td>\n",
       "    </tr>\n",
       "    <tr>\n",
       "      <th>268</th>\n",
       "      <td>2005</td>\n",
       "      <td>M</td>\n",
       "      <td>2767</td>\n",
       "      <td>6490</td>\n",
       "      <td>graduate</td>\n",
       "    </tr>\n",
       "    <tr>\n",
       "      <th>269</th>\n",
       "      <td>2005</td>\n",
       "      <td>F</td>\n",
       "      <td>3012</td>\n",
       "      <td>7636</td>\n",
       "      <td>graduate</td>\n",
       "    </tr>\n",
       "    <tr>\n",
       "      <th>270</th>\n",
       "      <td>2006</td>\n",
       "      <td>F</td>\n",
       "      <td>3124</td>\n",
       "      <td>7836</td>\n",
       "      <td>graduate</td>\n",
       "    </tr>\n",
       "    <tr>\n",
       "      <th>271</th>\n",
       "      <td>2006</td>\n",
       "      <td>MF</td>\n",
       "      <td>5833</td>\n",
       "      <td>14867</td>\n",
       "      <td>graduate</td>\n",
       "    </tr>\n",
       "    <tr>\n",
       "      <th>272</th>\n",
       "      <td>2006</td>\n",
       "      <td>M</td>\n",
       "      <td>2709</td>\n",
       "      <td>7031</td>\n",
       "      <td>graduate</td>\n",
       "    </tr>\n",
       "    <tr>\n",
       "      <th>273</th>\n",
       "      <td>2007</td>\n",
       "      <td>F</td>\n",
       "      <td>3403</td>\n",
       "      <td>8811</td>\n",
       "      <td>graduate</td>\n",
       "    </tr>\n",
       "    <tr>\n",
       "      <th>274</th>\n",
       "      <td>2007</td>\n",
       "      <td>MF</td>\n",
       "      <td>6088</td>\n",
       "      <td>15740</td>\n",
       "      <td>graduate</td>\n",
       "    </tr>\n",
       "    <tr>\n",
       "      <th>275</th>\n",
       "      <td>2007</td>\n",
       "      <td>M</td>\n",
       "      <td>2685</td>\n",
       "      <td>6929</td>\n",
       "      <td>graduate</td>\n",
       "    </tr>\n",
       "    <tr>\n",
       "      <th>276</th>\n",
       "      <td>2008</td>\n",
       "      <td>MF</td>\n",
       "      <td>5969</td>\n",
       "      <td>15867</td>\n",
       "      <td>graduate</td>\n",
       "    </tr>\n",
       "    <tr>\n",
       "      <th>277</th>\n",
       "      <td>2008</td>\n",
       "      <td>F</td>\n",
       "      <td>3149</td>\n",
       "      <td>8649</td>\n",
       "      <td>graduate</td>\n",
       "    </tr>\n",
       "    <tr>\n",
       "      <th>278</th>\n",
       "      <td>2008</td>\n",
       "      <td>M</td>\n",
       "      <td>2820</td>\n",
       "      <td>7218</td>\n",
       "      <td>graduate</td>\n",
       "    </tr>\n",
       "    <tr>\n",
       "      <th>279</th>\n",
       "      <td>2009</td>\n",
       "      <td>M</td>\n",
       "      <td>3114</td>\n",
       "      <td>8388</td>\n",
       "      <td>graduate</td>\n",
       "    </tr>\n",
       "    <tr>\n",
       "      <th>280</th>\n",
       "      <td>2009</td>\n",
       "      <td>MF</td>\n",
       "      <td>6395</td>\n",
       "      <td>18119</td>\n",
       "      <td>graduate</td>\n",
       "    </tr>\n",
       "    <tr>\n",
       "      <th>281</th>\n",
       "      <td>2009</td>\n",
       "      <td>F</td>\n",
       "      <td>3281</td>\n",
       "      <td>9731</td>\n",
       "      <td>graduate</td>\n",
       "    </tr>\n",
       "    <tr>\n",
       "      <th>282</th>\n",
       "      <td>2010</td>\n",
       "      <td>MF</td>\n",
       "      <td>6210</td>\n",
       "      <td>17318</td>\n",
       "      <td>graduate</td>\n",
       "    </tr>\n",
       "    <tr>\n",
       "      <th>283</th>\n",
       "      <td>2010</td>\n",
       "      <td>M</td>\n",
       "      <td>2986</td>\n",
       "      <td>8253</td>\n",
       "      <td>graduate</td>\n",
       "    </tr>\n",
       "    <tr>\n",
       "      <th>284</th>\n",
       "      <td>2010</td>\n",
       "      <td>F</td>\n",
       "      <td>3224</td>\n",
       "      <td>9065</td>\n",
       "      <td>graduate</td>\n",
       "    </tr>\n",
       "    <tr>\n",
       "      <th>285</th>\n",
       "      <td>2011</td>\n",
       "      <td>M</td>\n",
       "      <td>2987</td>\n",
       "      <td>8357</td>\n",
       "      <td>graduate</td>\n",
       "    </tr>\n",
       "    <tr>\n",
       "      <th>286</th>\n",
       "      <td>2011</td>\n",
       "      <td>MF</td>\n",
       "      <td>6179</td>\n",
       "      <td>17503</td>\n",
       "      <td>graduate</td>\n",
       "    </tr>\n",
       "    <tr>\n",
       "      <th>287</th>\n",
       "      <td>2011</td>\n",
       "      <td>F</td>\n",
       "      <td>3192</td>\n",
       "      <td>9146</td>\n",
       "      <td>graduate</td>\n",
       "    </tr>\n",
       "    <tr>\n",
       "      <th>288</th>\n",
       "      <td>2012</td>\n",
       "      <td>M</td>\n",
       "      <td>2973</td>\n",
       "      <td>8116</td>\n",
       "      <td>graduate</td>\n",
       "    </tr>\n",
       "    <tr>\n",
       "      <th>289</th>\n",
       "      <td>2012</td>\n",
       "      <td>MF</td>\n",
       "      <td>6305</td>\n",
       "      <td>17556</td>\n",
       "      <td>graduate</td>\n",
       "    </tr>\n",
       "    <tr>\n",
       "      <th>290</th>\n",
       "      <td>2012</td>\n",
       "      <td>F</td>\n",
       "      <td>3332</td>\n",
       "      <td>9440</td>\n",
       "      <td>graduate</td>\n",
       "    </tr>\n",
       "    <tr>\n",
       "      <th>291</th>\n",
       "      <td>2013</td>\n",
       "      <td>M</td>\n",
       "      <td>3096</td>\n",
       "      <td>8375</td>\n",
       "      <td>graduate</td>\n",
       "    </tr>\n",
       "    <tr>\n",
       "      <th>292</th>\n",
       "      <td>2013</td>\n",
       "      <td>F</td>\n",
       "      <td>3350</td>\n",
       "      <td>9577</td>\n",
       "      <td>graduate</td>\n",
       "    </tr>\n",
       "    <tr>\n",
       "      <th>293</th>\n",
       "      <td>2013</td>\n",
       "      <td>MF</td>\n",
       "      <td>6446</td>\n",
       "      <td>17952</td>\n",
       "      <td>graduate</td>\n",
       "    </tr>\n",
       "    <tr>\n",
       "      <th>294</th>\n",
       "      <td>2014</td>\n",
       "      <td>M</td>\n",
       "      <td>3094</td>\n",
       "      <td>8773</td>\n",
       "      <td>graduate</td>\n",
       "    </tr>\n",
       "    <tr>\n",
       "      <th>295</th>\n",
       "      <td>2014</td>\n",
       "      <td>MF</td>\n",
       "      <td>6700</td>\n",
       "      <td>18420</td>\n",
       "      <td>graduate</td>\n",
       "    </tr>\n",
       "    <tr>\n",
       "      <th>296</th>\n",
       "      <td>2014</td>\n",
       "      <td>F</td>\n",
       "      <td>3606</td>\n",
       "      <td>9647</td>\n",
       "      <td>graduate</td>\n",
       "    </tr>\n",
       "  </tbody>\n",
       "</table>\n",
       "<p>135 rows × 5 columns</p>\n",
       "</div>"
      ],
      "text/plain": [
       "     year sex    nus  total      type\n",
       "54   2000   F  11341  20023    enroll\n",
       "55   2000  MF  21233  39193    enroll\n",
       "56   2000   M   9892  19170    enroll\n",
       "57   2001   F  11781  21156    enroll\n",
       "58   2001  MF  22172  41078    enroll\n",
       "59   2001   M  10391  19922    enroll\n",
       "60   2002  MF  22169  42524    enroll\n",
       "61   2002   M  10516  20620    enroll\n",
       "62   2002   F  11653  21904    enroll\n",
       "63   2003   F  11036  21415    enroll\n",
       "64   2003  MF  22149  43048    enroll\n",
       "65   2003   M  11113  21633    enroll\n",
       "66   2004   M  10409  21528    enroll\n",
       "67   2004  MF  21781  43910    enroll\n",
       "68   2004   F  11372  22382    enroll\n",
       "69   2005  MF  22105  46544    enroll\n",
       "70   2005   M  10779  22945    enroll\n",
       "71   2005   F  11326  23599    enroll\n",
       "72   2006   F  11766  24990    enroll\n",
       "73   2006  MF  22836  49147    enroll\n",
       "74   2006   M  11070  24157    enroll\n",
       "75   2007   F  12396  26801    enroll\n",
       "76   2007  MF  23578  51687    enroll\n",
       "77   2007   M  11182  24886    enroll\n",
       "78   2008  MF  24086  53485    enroll\n",
       "79   2008   F  12663  27823    enroll\n",
       "80   2008   M  11423  25662    enroll\n",
       "81   2009   M  11854  27143    enroll\n",
       "82   2009  MF  24798  56383    enroll\n",
       "83   2009   F  12944  29240    enroll\n",
       "..    ...  ..    ...    ...       ...\n",
       "267  2005  MF   5779  14126  graduate\n",
       "268  2005   M   2767   6490  graduate\n",
       "269  2005   F   3012   7636  graduate\n",
       "270  2006   F   3124   7836  graduate\n",
       "271  2006  MF   5833  14867  graduate\n",
       "272  2006   M   2709   7031  graduate\n",
       "273  2007   F   3403   8811  graduate\n",
       "274  2007  MF   6088  15740  graduate\n",
       "275  2007   M   2685   6929  graduate\n",
       "276  2008  MF   5969  15867  graduate\n",
       "277  2008   F   3149   8649  graduate\n",
       "278  2008   M   2820   7218  graduate\n",
       "279  2009   M   3114   8388  graduate\n",
       "280  2009  MF   6395  18119  graduate\n",
       "281  2009   F   3281   9731  graduate\n",
       "282  2010  MF   6210  17318  graduate\n",
       "283  2010   M   2986   8253  graduate\n",
       "284  2010   F   3224   9065  graduate\n",
       "285  2011   M   2987   8357  graduate\n",
       "286  2011  MF   6179  17503  graduate\n",
       "287  2011   F   3192   9146  graduate\n",
       "288  2012   M   2973   8116  graduate\n",
       "289  2012  MF   6305  17556  graduate\n",
       "290  2012   F   3332   9440  graduate\n",
       "291  2013   M   3096   8375  graduate\n",
       "292  2013   F   3350   9577  graduate\n",
       "293  2013  MF   6446  17952  graduate\n",
       "294  2014   M   3094   8773  graduate\n",
       "295  2014  MF   6700  18420  graduate\n",
       "296  2014   F   3606   9647  graduate\n",
       "\n",
       "[135 rows x 5 columns]"
      ]
     },
     "execution_count": 10,
     "metadata": {},
     "output_type": "execute_result"
    }
   ],
   "source": [
    "total = merged[[\"year\", \"sex\",\"nus\", \"total\", \"type\"]]\n",
    "total"
   ]
  },
  {
   "cell_type": "code",
   "execution_count": 5,
   "metadata": {},
   "outputs": [
    {
     "data": {
      "image/png": "[encoded data removed]",
      "text/plain": [
       "<Figure size 1130.4x595.44 with 1 Axes>"
      ]
     },
     "metadata": {},
     "output_type": "display_data"
    }
   ],
   "source": [
    "sns.set(style=\"whitegrid\")\n",
    "sns.set(rc={'figure.figsize':(15.7,8.27)})\n",
    "barplot = sns.barplot(x=\"year\", y=\"total\", hue= \"type\", data=total, palette=\"GnBu_d\", ci=None)\n",
    "barplot.set(xlabel='Year', ylabel='Total Number Of Students In NUS', \n",
    "            title=\"Total Number Of Students Enrolled, Intaked and Graduated\")\n",
    "plt.legend(loc='upper left')\n",
    "plt.show(barplot)"
   ]
  },
  {
   "cell_type": "code",
   "execution_count": 11,
   "metadata": {},
   "outputs": [
    {
     "data": {
      "text/html": [
       "<div>\n",
       "<style scoped>\n",
       "    .dataframe tbody tr th:only-of-type {\n",
       "        vertical-align: middle;\n",
       "    }\n",
       "\n",
       "    .dataframe tbody tr th {\n",
       "        vertical-align: top;\n",
       "    }\n",
       "\n",
       "    .dataframe thead th {\n",
       "        text-align: right;\n",
       "    }\n",
       "</style>\n",
       "<table border=\"1\" class=\"dataframe\">\n",
       "  <thead>\n",
       "    <tr style=\"text-align: right;\">\n",
       "      <th></th>\n",
       "      <th>year</th>\n",
       "      <th>sex</th>\n",
       "      <th>nus</th>\n",
       "      <th>total</th>\n",
       "      <th>type</th>\n",
       "    </tr>\n",
       "  </thead>\n",
       "  <tbody>\n",
       "    <tr>\n",
       "      <th>0</th>\n",
       "      <td>2000</td>\n",
       "      <td>F</td>\n",
       "      <td>3437</td>\n",
       "      <td>7326</td>\n",
       "      <td>intake</td>\n",
       "    </tr>\n",
       "    <tr>\n",
       "      <th>1</th>\n",
       "      <td>2000</td>\n",
       "      <td>F</td>\n",
       "      <td>3161</td>\n",
       "      <td>6601</td>\n",
       "      <td>graduate</td>\n",
       "    </tr>\n",
       "    <tr>\n",
       "      <th>2</th>\n",
       "      <td>2000</td>\n",
       "      <td>M</td>\n",
       "      <td>2697</td>\n",
       "      <td>5553</td>\n",
       "      <td>graduate</td>\n",
       "    </tr>\n",
       "    <tr>\n",
       "      <th>3</th>\n",
       "      <td>2000</td>\n",
       "      <td>M</td>\n",
       "      <td>2984</td>\n",
       "      <td>6092</td>\n",
       "      <td>intake</td>\n",
       "    </tr>\n",
       "    <tr>\n",
       "      <th>4</th>\n",
       "      <td>2001</td>\n",
       "      <td>F</td>\n",
       "      <td>3534</td>\n",
       "      <td>7377</td>\n",
       "      <td>intake</td>\n",
       "    </tr>\n",
       "    <tr>\n",
       "      <th>5</th>\n",
       "      <td>2001</td>\n",
       "      <td>M</td>\n",
       "      <td>2524</td>\n",
       "      <td>5380</td>\n",
       "      <td>graduate</td>\n",
       "    </tr>\n",
       "    <tr>\n",
       "      <th>6</th>\n",
       "      <td>2001</td>\n",
       "      <td>F</td>\n",
       "      <td>3051</td>\n",
       "      <td>6671</td>\n",
       "      <td>graduate</td>\n",
       "    </tr>\n",
       "    <tr>\n",
       "      <th>7</th>\n",
       "      <td>2001</td>\n",
       "      <td>M</td>\n",
       "      <td>2945</td>\n",
       "      <td>5869</td>\n",
       "      <td>intake</td>\n",
       "    </tr>\n",
       "    <tr>\n",
       "      <th>8</th>\n",
       "      <td>2002</td>\n",
       "      <td>M</td>\n",
       "      <td>2767</td>\n",
       "      <td>5999</td>\n",
       "      <td>intake</td>\n",
       "    </tr>\n",
       "    <tr>\n",
       "      <th>9</th>\n",
       "      <td>2002</td>\n",
       "      <td>F</td>\n",
       "      <td>3252</td>\n",
       "      <td>7390</td>\n",
       "      <td>intake</td>\n",
       "    </tr>\n",
       "    <tr>\n",
       "      <th>10</th>\n",
       "      <td>2002</td>\n",
       "      <td>F</td>\n",
       "      <td>3055</td>\n",
       "      <td>6844</td>\n",
       "      <td>graduate</td>\n",
       "    </tr>\n",
       "    <tr>\n",
       "      <th>11</th>\n",
       "      <td>2002</td>\n",
       "      <td>M</td>\n",
       "      <td>2566</td>\n",
       "      <td>5679</td>\n",
       "      <td>graduate</td>\n",
       "    </tr>\n",
       "    <tr>\n",
       "      <th>12</th>\n",
       "      <td>2003</td>\n",
       "      <td>F</td>\n",
       "      <td>3413</td>\n",
       "      <td>6950</td>\n",
       "      <td>intake</td>\n",
       "    </tr>\n",
       "    <tr>\n",
       "      <th>13</th>\n",
       "      <td>2003</td>\n",
       "      <td>M</td>\n",
       "      <td>2832</td>\n",
       "      <td>6161</td>\n",
       "      <td>intake</td>\n",
       "    </tr>\n",
       "    <tr>\n",
       "      <th>14</th>\n",
       "      <td>2003</td>\n",
       "      <td>M</td>\n",
       "      <td>2557</td>\n",
       "      <td>6359</td>\n",
       "      <td>graduate</td>\n",
       "    </tr>\n",
       "    <tr>\n",
       "      <th>15</th>\n",
       "      <td>2003</td>\n",
       "      <td>F</td>\n",
       "      <td>2943</td>\n",
       "      <td>7160</td>\n",
       "      <td>graduate</td>\n",
       "    </tr>\n",
       "    <tr>\n",
       "      <th>16</th>\n",
       "      <td>2004</td>\n",
       "      <td>F</td>\n",
       "      <td>2955</td>\n",
       "      <td>7307</td>\n",
       "      <td>intake</td>\n",
       "    </tr>\n",
       "    <tr>\n",
       "      <th>17</th>\n",
       "      <td>2004</td>\n",
       "      <td>F</td>\n",
       "      <td>2982</td>\n",
       "      <td>7440</td>\n",
       "      <td>graduate</td>\n",
       "    </tr>\n",
       "    <tr>\n",
       "      <th>18</th>\n",
       "      <td>2004</td>\n",
       "      <td>M</td>\n",
       "      <td>2619</td>\n",
       "      <td>6220</td>\n",
       "      <td>graduate</td>\n",
       "    </tr>\n",
       "    <tr>\n",
       "      <th>19</th>\n",
       "      <td>2004</td>\n",
       "      <td>M</td>\n",
       "      <td>2767</td>\n",
       "      <td>6470</td>\n",
       "      <td>intake</td>\n",
       "    </tr>\n",
       "    <tr>\n",
       "      <th>20</th>\n",
       "      <td>2005</td>\n",
       "      <td>M</td>\n",
       "      <td>2973</td>\n",
       "      <td>6853</td>\n",
       "      <td>intake</td>\n",
       "    </tr>\n",
       "    <tr>\n",
       "      <th>21</th>\n",
       "      <td>2005</td>\n",
       "      <td>F</td>\n",
       "      <td>3012</td>\n",
       "      <td>7636</td>\n",
       "      <td>graduate</td>\n",
       "    </tr>\n",
       "    <tr>\n",
       "      <th>22</th>\n",
       "      <td>2005</td>\n",
       "      <td>M</td>\n",
       "      <td>2767</td>\n",
       "      <td>6490</td>\n",
       "      <td>graduate</td>\n",
       "    </tr>\n",
       "    <tr>\n",
       "      <th>23</th>\n",
       "      <td>2005</td>\n",
       "      <td>F</td>\n",
       "      <td>3122</td>\n",
       "      <td>7863</td>\n",
       "      <td>intake</td>\n",
       "    </tr>\n",
       "    <tr>\n",
       "      <th>24</th>\n",
       "      <td>2006</td>\n",
       "      <td>F</td>\n",
       "      <td>3618</td>\n",
       "      <td>8285</td>\n",
       "      <td>intake</td>\n",
       "    </tr>\n",
       "    <tr>\n",
       "      <th>25</th>\n",
       "      <td>2006</td>\n",
       "      <td>M</td>\n",
       "      <td>3013</td>\n",
       "      <td>7332</td>\n",
       "      <td>intake</td>\n",
       "    </tr>\n",
       "    <tr>\n",
       "      <th>26</th>\n",
       "      <td>2006</td>\n",
       "      <td>M</td>\n",
       "      <td>2709</td>\n",
       "      <td>7031</td>\n",
       "      <td>graduate</td>\n",
       "    </tr>\n",
       "    <tr>\n",
       "      <th>27</th>\n",
       "      <td>2006</td>\n",
       "      <td>F</td>\n",
       "      <td>3124</td>\n",
       "      <td>7836</td>\n",
       "      <td>graduate</td>\n",
       "    </tr>\n",
       "    <tr>\n",
       "      <th>28</th>\n",
       "      <td>2007</td>\n",
       "      <td>F</td>\n",
       "      <td>3403</td>\n",
       "      <td>8811</td>\n",
       "      <td>graduate</td>\n",
       "    </tr>\n",
       "    <tr>\n",
       "      <th>29</th>\n",
       "      <td>2007</td>\n",
       "      <td>F</td>\n",
       "      <td>3710</td>\n",
       "      <td>9099</td>\n",
       "      <td>intake</td>\n",
       "    </tr>\n",
       "    <tr>\n",
       "      <th>30</th>\n",
       "      <td>2007</td>\n",
       "      <td>M</td>\n",
       "      <td>2685</td>\n",
       "      <td>6929</td>\n",
       "      <td>graduate</td>\n",
       "    </tr>\n",
       "    <tr>\n",
       "      <th>31</th>\n",
       "      <td>2007</td>\n",
       "      <td>M</td>\n",
       "      <td>2844</td>\n",
       "      <td>7106</td>\n",
       "      <td>intake</td>\n",
       "    </tr>\n",
       "    <tr>\n",
       "      <th>32</th>\n",
       "      <td>2008</td>\n",
       "      <td>M</td>\n",
       "      <td>2820</td>\n",
       "      <td>7218</td>\n",
       "      <td>graduate</td>\n",
       "    </tr>\n",
       "    <tr>\n",
       "      <th>33</th>\n",
       "      <td>2008</td>\n",
       "      <td>F</td>\n",
       "      <td>3149</td>\n",
       "      <td>8649</td>\n",
       "      <td>graduate</td>\n",
       "    </tr>\n",
       "    <tr>\n",
       "      <th>34</th>\n",
       "      <td>2008</td>\n",
       "      <td>M</td>\n",
       "      <td>3043</td>\n",
       "      <td>7299</td>\n",
       "      <td>intake</td>\n",
       "    </tr>\n",
       "    <tr>\n",
       "      <th>35</th>\n",
       "      <td>2008</td>\n",
       "      <td>F</td>\n",
       "      <td>3389</td>\n",
       "      <td>8538</td>\n",
       "      <td>intake</td>\n",
       "    </tr>\n",
       "    <tr>\n",
       "      <th>36</th>\n",
       "      <td>2009</td>\n",
       "      <td>F</td>\n",
       "      <td>3281</td>\n",
       "      <td>9731</td>\n",
       "      <td>graduate</td>\n",
       "    </tr>\n",
       "    <tr>\n",
       "      <th>37</th>\n",
       "      <td>2009</td>\n",
       "      <td>F</td>\n",
       "      <td>3426</td>\n",
       "      <td>9084</td>\n",
       "      <td>intake</td>\n",
       "    </tr>\n",
       "    <tr>\n",
       "      <th>38</th>\n",
       "      <td>2009</td>\n",
       "      <td>M</td>\n",
       "      <td>3349</td>\n",
       "      <td>8183</td>\n",
       "      <td>intake</td>\n",
       "    </tr>\n",
       "    <tr>\n",
       "      <th>39</th>\n",
       "      <td>2009</td>\n",
       "      <td>M</td>\n",
       "      <td>3114</td>\n",
       "      <td>8388</td>\n",
       "      <td>graduate</td>\n",
       "    </tr>\n",
       "    <tr>\n",
       "      <th>40</th>\n",
       "      <td>2010</td>\n",
       "      <td>M</td>\n",
       "      <td>2986</td>\n",
       "      <td>8253</td>\n",
       "      <td>graduate</td>\n",
       "    </tr>\n",
       "    <tr>\n",
       "      <th>41</th>\n",
       "      <td>2010</td>\n",
       "      <td>F</td>\n",
       "      <td>3224</td>\n",
       "      <td>9065</td>\n",
       "      <td>graduate</td>\n",
       "    </tr>\n",
       "    <tr>\n",
       "      <th>42</th>\n",
       "      <td>2010</td>\n",
       "      <td>F</td>\n",
       "      <td>3405</td>\n",
       "      <td>8781</td>\n",
       "      <td>intake</td>\n",
       "    </tr>\n",
       "    <tr>\n",
       "      <th>43</th>\n",
       "      <td>2010</td>\n",
       "      <td>M</td>\n",
       "      <td>3163</td>\n",
       "      <td>8067</td>\n",
       "      <td>intake</td>\n",
       "    </tr>\n",
       "    <tr>\n",
       "      <th>44</th>\n",
       "      <td>2011</td>\n",
       "      <td>M</td>\n",
       "      <td>2987</td>\n",
       "      <td>8357</td>\n",
       "      <td>graduate</td>\n",
       "    </tr>\n",
       "    <tr>\n",
       "      <th>45</th>\n",
       "      <td>2011</td>\n",
       "      <td>F</td>\n",
       "      <td>3192</td>\n",
       "      <td>9146</td>\n",
       "      <td>graduate</td>\n",
       "    </tr>\n",
       "    <tr>\n",
       "      <th>46</th>\n",
       "      <td>2011</td>\n",
       "      <td>M</td>\n",
       "      <td>3158</td>\n",
       "      <td>8213</td>\n",
       "      <td>intake</td>\n",
       "    </tr>\n",
       "    <tr>\n",
       "      <th>47</th>\n",
       "      <td>2011</td>\n",
       "      <td>F</td>\n",
       "      <td>3566</td>\n",
       "      <td>9200</td>\n",
       "      <td>intake</td>\n",
       "    </tr>\n",
       "    <tr>\n",
       "      <th>48</th>\n",
       "      <td>2012</td>\n",
       "      <td>F</td>\n",
       "      <td>3332</td>\n",
       "      <td>9440</td>\n",
       "      <td>graduate</td>\n",
       "    </tr>\n",
       "    <tr>\n",
       "      <th>49</th>\n",
       "      <td>2012</td>\n",
       "      <td>M</td>\n",
       "      <td>2973</td>\n",
       "      <td>8116</td>\n",
       "      <td>graduate</td>\n",
       "    </tr>\n",
       "    <tr>\n",
       "      <th>50</th>\n",
       "      <td>2012</td>\n",
       "      <td>F</td>\n",
       "      <td>3545</td>\n",
       "      <td>9929</td>\n",
       "      <td>intake</td>\n",
       "    </tr>\n",
       "    <tr>\n",
       "      <th>51</th>\n",
       "      <td>2012</td>\n",
       "      <td>M</td>\n",
       "      <td>3188</td>\n",
       "      <td>8475</td>\n",
       "      <td>intake</td>\n",
       "    </tr>\n",
       "    <tr>\n",
       "      <th>52</th>\n",
       "      <td>2013</td>\n",
       "      <td>F</td>\n",
       "      <td>3350</td>\n",
       "      <td>9577</td>\n",
       "      <td>graduate</td>\n",
       "    </tr>\n",
       "    <tr>\n",
       "      <th>53</th>\n",
       "      <td>2013</td>\n",
       "      <td>M</td>\n",
       "      <td>3207</td>\n",
       "      <td>8948</td>\n",
       "      <td>intake</td>\n",
       "    </tr>\n",
       "    <tr>\n",
       "      <th>54</th>\n",
       "      <td>2013</td>\n",
       "      <td>M</td>\n",
       "      <td>3096</td>\n",
       "      <td>8375</td>\n",
       "      <td>graduate</td>\n",
       "    </tr>\n",
       "    <tr>\n",
       "      <th>55</th>\n",
       "      <td>2013</td>\n",
       "      <td>F</td>\n",
       "      <td>3685</td>\n",
       "      <td>10175</td>\n",
       "      <td>intake</td>\n",
       "    </tr>\n",
       "    <tr>\n",
       "      <th>56</th>\n",
       "      <td>2014</td>\n",
       "      <td>F</td>\n",
       "      <td>3857</td>\n",
       "      <td>10423</td>\n",
       "      <td>intake</td>\n",
       "    </tr>\n",
       "    <tr>\n",
       "      <th>57</th>\n",
       "      <td>2014</td>\n",
       "      <td>M</td>\n",
       "      <td>3251</td>\n",
       "      <td>9544</td>\n",
       "      <td>intake</td>\n",
       "    </tr>\n",
       "    <tr>\n",
       "      <th>58</th>\n",
       "      <td>2014</td>\n",
       "      <td>M</td>\n",
       "      <td>3094</td>\n",
       "      <td>8773</td>\n",
       "      <td>graduate</td>\n",
       "    </tr>\n",
       "    <tr>\n",
       "      <th>59</th>\n",
       "      <td>2014</td>\n",
       "      <td>F</td>\n",
       "      <td>3606</td>\n",
       "      <td>9647</td>\n",
       "      <td>graduate</td>\n",
       "    </tr>\n",
       "  </tbody>\n",
       "</table>\n",
       "</div>"
      ],
      "text/plain": [
       "    year sex   nus  total      type\n",
       "0   2000   F  3437   7326    intake\n",
       "1   2000   F  3161   6601  graduate\n",
       "2   2000   M  2697   5553  graduate\n",
       "3   2000   M  2984   6092    intake\n",
       "4   2001   F  3534   7377    intake\n",
       "5   2001   M  2524   5380  graduate\n",
       "6   2001   F  3051   6671  graduate\n",
       "7   2001   M  2945   5869    intake\n",
       "8   2002   M  2767   5999    intake\n",
       "9   2002   F  3252   7390    intake\n",
       "10  2002   F  3055   6844  graduate\n",
       "11  2002   M  2566   5679  graduate\n",
       "12  2003   F  3413   6950    intake\n",
       "13  2003   M  2832   6161    intake\n",
       "14  2003   M  2557   6359  graduate\n",
       "15  2003   F  2943   7160  graduate\n",
       "16  2004   F  2955   7307    intake\n",
       "17  2004   F  2982   7440  graduate\n",
       "18  2004   M  2619   6220  graduate\n",
       "19  2004   M  2767   6470    intake\n",
       "20  2005   M  2973   6853    intake\n",
       "21  2005   F  3012   7636  graduate\n",
       "22  2005   M  2767   6490  graduate\n",
       "23  2005   F  3122   7863    intake\n",
       "24  2006   F  3618   8285    intake\n",
       "25  2006   M  3013   7332    intake\n",
       "26  2006   M  2709   7031  graduate\n",
       "27  2006   F  3124   7836  graduate\n",
       "28  2007   F  3403   8811  graduate\n",
       "29  2007   F  3710   9099    intake\n",
       "30  2007   M  2685   6929  graduate\n",
       "31  2007   M  2844   7106    intake\n",
       "32  2008   M  2820   7218  graduate\n",
       "33  2008   F  3149   8649  graduate\n",
       "34  2008   M  3043   7299    intake\n",
       "35  2008   F  3389   8538    intake\n",
       "36  2009   F  3281   9731  graduate\n",
       "37  2009   F  3426   9084    intake\n",
       "38  2009   M  3349   8183    intake\n",
       "39  2009   M  3114   8388  graduate\n",
       "40  2010   M  2986   8253  graduate\n",
       "41  2010   F  3224   9065  graduate\n",
       "42  2010   F  3405   8781    intake\n",
       "43  2010   M  3163   8067    intake\n",
       "44  2011   M  2987   8357  graduate\n",
       "45  2011   F  3192   9146  graduate\n",
       "46  2011   M  3158   8213    intake\n",
       "47  2011   F  3566   9200    intake\n",
       "48  2012   F  3332   9440  graduate\n",
       "49  2012   M  2973   8116  graduate\n",
       "50  2012   F  3545   9929    intake\n",
       "51  2012   M  3188   8475    intake\n",
       "52  2013   F  3350   9577  graduate\n",
       "53  2013   M  3207   8948    intake\n",
       "54  2013   M  3096   8375  graduate\n",
       "55  2013   F  3685  10175    intake\n",
       "56  2014   F  3857  10423    intake\n",
       "57  2014   M  3251   9544    intake\n",
       "58  2014   M  3094   8773  graduate\n",
       "59  2014   F  3606   9647  graduate"
      ]
     },
     "execution_count": 11,
     "metadata": {},
     "output_type": "execute_result"
    }
   ],
   "source": [
    "intake_grad = total[total.type !=\"enroll\"]\n",
    "intake_grad = intake_grad[intake_grad.sex != \"MF\"].sort_values(\"year\").reset_index(drop = True)\n",
    "intake_grad"
   ]
  },
  {
   "cell_type": "code",
   "execution_count": 13,
   "metadata": {},
   "outputs": [
    {
     "data": {
      "application/vnd.plotly.v1+json": {
       "config": {
        "plotlyServerURL": "https://plot.ly"
       },
       "data": [
        {
         "alignmentgroup": "True",
         "boxpoints": "all",
         "customdata": [
          [
           2000
          ],
          [
           2000
          ],
          [
           2001
          ],
          [
           2001
          ],
          [
           2002
          ],
          [
           2002
          ],
          [
           2003
          ],
          [
           2003
          ],
          [
           2004
          ],
          [
           2004
          ],
          [
           2005
          ],
          [
           2005
          ],
          [
           2006
          ],
          [
           2006
          ],
          [
           2007
          ],
          [
           2007
          ],
          [
           2008
          ],
          [
           2008
          ],
          [
           2009
          ],
          [
           2009
          ],
          [
           2010
          ],
          [
           2010
          ],
          [
           2011
          ],
          [
           2011
          ],
          [
           2012
          ],
          [
           2012
          ],
          [
           2013
          ],
          [
           2013
          ],
          [
           2014
          ],
          [
           2014
          ]
         ],
         "hoverlabel": {
          "namelength": 0
         },
         "hovertemplate": "sex=F<br>type=%{x}<br>total=%{y}<br>year=%{customdata[0]}",
         "legendgroup": "F",
         "marker": {
          "color": "#636efa"
         },
         "name": "F",
         "notched": true,
         "offsetgroup": "F",
         "orientation": "v",
         "showlegend": true,
         "type": "box",
         "x": [
          "intake",
          "graduate",
          "intake",
          "graduate",
          "intake",
          "graduate",
          "intake",
          "graduate",
          "intake",
          "graduate",
          "graduate",
          "intake",
          "intake",
          "graduate",
          "graduate",
          "intake",
          "graduate",
          "intake",
          "graduate",
          "intake",
          "graduate",
          "intake",
          "graduate",
          "intake",
          "graduate",
          "intake",
          "graduate",
          "intake",
          "intake",
          "graduate"
         ],
         "x0": " ",
         "xaxis": "x",
         "y": [
          7326,
          6601,
          7377,
          6671,
          7390,
          6844,
          6950,
          7160,
          7307,
          7440,
          7636,
          7863,
          8285,
          7836,
          8811,
          9099,
          8649,
          8538,
          9731,
          9084,
          9065,
          8781,
          9146,
          9200,
          9440,
          9929,
          9577,
          10175,
          10423,
          9647
         ],
         "y0": " ",
         "yaxis": "y"
        },
        {
         "alignmentgroup": "True",
         "boxpoints": "all",
         "customdata": [
          [
           2000
          ],
          [
           2000
          ],
          [
           2001
          ],
          [
           2001
          ],
          [
           2002
          ],
          [
           2002
          ],
          [
           2003
          ],
          [
           2003
          ],
          [
           2004
          ],
          [
           2004
          ],
          [
           2005
          ],
          [
           2005
          ],
          [
           2006
          ],
          [
           2006
          ],
          [
           2007
          ],
          [
           2007
          ],
          [
           2008
          ],
          [
           2008
          ],
          [
           2009
          ],
          [
           2009
          ],
          [
           2010
          ],
          [
           2010
          ],
          [
           2011
          ],
          [
           2011
          ],
          [
           2012
          ],
          [
           2012
          ],
          [
           2013
          ],
          [
           2013
          ],
          [
           2014
          ],
          [
           2014
          ]
         ],
         "hoverlabel": {
          "namelength": 0
         },
         "hovertemplate": "sex=M<br>type=%{x}<br>total=%{y}<br>year=%{customdata[0]}",
         "legendgroup": "M",
         "marker": {
          "color": "#EF553B"
         },
         "name": "M",
         "notched": true,
         "offsetgroup": "M",
         "orientation": "v",
         "showlegend": true,
         "type": "box",
         "x": [
          "graduate",
          "intake",
          "graduate",
          "intake",
          "intake",
          "graduate",
          "intake",
          "graduate",
          "graduate",
          "intake",
          "intake",
          "graduate",
          "intake",
          "graduate",
          "graduate",
          "intake",
          "graduate",
          "intake",
          "intake",
          "graduate",
          "graduate",
          "intake",
          "graduate",
          "intake",
          "graduate",
          "intake",
          "intake",
          "graduate",
          "intake",
          "graduate"
         ],
         "x0": " ",
         "xaxis": "x",
         "y": [
          5553,
          6092,
          5380,
          5869,
          5999,
          5679,
          6161,
          6359,
          6220,
          6470,
          6853,
          6490,
          7332,
          7031,
          6929,
          7106,
          7218,
          7299,
          8183,
          8388,
          8253,
          8067,
          8357,
          8213,
          8116,
          8475,
          8948,
          8375,
          9544,
          8773
         ],
         "y0": " ",
         "yaxis": "y"
        }
       ],
       "layout": {
        "boxmode": "group",
        "legend": {
         "title": {
          "text": "sex"
         },
         "tracegroupgap": 0
        },
        "template": {
         "data": {
          "bar": [
           {
            "error_x": {
             "color": "#2a3f5f"
            },
            "error_y": {
             "color": "#2a3f5f"
            },
            "marker": {
             "line": {
              "color": "#E5ECF6",
              "width": 0.5
             }
            },
            "type": "bar"
           }
          ],
          "barpolar": [
           {
            "marker": {
             "line": {
              "color": "#E5ECF6",
              "width": 0.5
             }
            },
            "type": "barpolar"
           }
          ],
          "carpet": [
           {
            "aaxis": {
             "endlinecolor": "#2a3f5f",
             "gridcolor": "white",
             "linecolor": "white",
             "minorgridcolor": "white",
             "startlinecolor": "#2a3f5f"
            },
            "baxis": {
             "endlinecolor": "#2a3f5f",
             "gridcolor": "white",
             "linecolor": "white",
             "minorgridcolor": "white",
             "startlinecolor": "#2a3f5f"
            },
            "type": "carpet"
           }
          ],
          "choropleth": [
           {
            "colorbar": {
             "outlinewidth": 0,
             "ticks": ""
            },
            "type": "choropleth"
           }
          ],
          "contour": [
           {
            "colorbar": {
             "outlinewidth": 0,
             "ticks": ""
            },
            "colorscale": [
             [
              0,
              "#0d0887"
             ],
             [
              0.1111111111111111,
              "#46039f"
             ],
             [
              0.2222222222222222,
              "#7201a8"
             ],
             [
              0.3333333333333333,
              "#9c179e"
             ],
             [
              0.4444444444444444,
              "#bd3786"
             ],
             [
              0.5555555555555556,
              "#d8576b"
             ],
             [
              0.6666666666666666,
              "#ed7953"
             ],
             [
              0.7777777777777778,
              "#fb9f3a"
             ],
             [
              0.8888888888888888,
              "#fdca26"
             ],
             [
              1,
              "#f0f921"
             ]
            ],
            "type": "contour"
           }
          ],
          "contourcarpet": [
           {
            "colorbar": {
             "outlinewidth": 0,
             "ticks": ""
            },
            "type": "contourcarpet"
           }
          ],
          "heatmap": [
           {
            "colorbar": {
             "outlinewidth": 0,
             "ticks": ""
            },
            "colorscale": [
             [
              0,
              "#0d0887"
             ],
             [
              0.1111111111111111,
              "#46039f"
             ],
             [
              0.2222222222222222,
              "#7201a8"
             ],
             [
              0.3333333333333333,
              "#9c179e"
             ],
             [
              0.4444444444444444,
              "#bd3786"
             ],
             [
              0.5555555555555556,
              "#d8576b"
             ],
             [
              0.6666666666666666,
              "#ed7953"
             ],
             [
              0.7777777777777778,
              "#fb9f3a"
             ],
             [
              0.8888888888888888,
              "#fdca26"
             ],
             [
              1,
              "#f0f921"
             ]
            ],
            "type": "heatmap"
           }
          ],
          "heatmapgl": [
           {
            "colorbar": {
             "outlinewidth": 0,
             "ticks": ""
            },
            "colorscale": [
             [
              0,
              "#0d0887"
             ],
             [
              0.1111111111111111,
              "#46039f"
             ],
             [
              0.2222222222222222,
              "#7201a8"
             ],
             [
              0.3333333333333333,
              "#9c179e"
             ],
             [
              0.4444444444444444,
              "#bd3786"
             ],
             [
              0.5555555555555556,
              "#d8576b"
             ],
             [
              0.6666666666666666,
              "#ed7953"
             ],
             [
              0.7777777777777778,
              "#fb9f3a"
             ],
             [
              0.8888888888888888,
              "#fdca26"
             ],
             [
              1,
              "#f0f921"
             ]
            ],
            "type": "heatmapgl"
           }
          ],
          "histogram": [
           {
            "marker": {
             "colorbar": {
              "outlinewidth": 0,
              "ticks": ""
             }
            },
            "type": "histogram"
           }
          ],
          "histogram2d": [
           {
            "colorbar": {
             "outlinewidth": 0,
             "ticks": ""
            },
            "colorscale": [
             [
              0,
              "#0d0887"
             ],
             [
              0.1111111111111111,
              "#46039f"
             ],
             [
              0.2222222222222222,
              "#7201a8"
             ],
             [
              0.3333333333333333,
              "#9c179e"
             ],
             [
              0.4444444444444444,
              "#bd3786"
             ],
             [
              0.5555555555555556,
              "#d8576b"
             ],
             [
              0.6666666666666666,
              "#ed7953"
             ],
             [
              0.7777777777777778,
              "#fb9f3a"
             ],
             [
              0.8888888888888888,
              "#fdca26"
             ],
             [
              1,
              "#f0f921"
             ]
            ],
            "type": "histogram2d"
           }
          ],
          "histogram2dcontour": [
           {
            "colorbar": {
             "outlinewidth": 0,
             "ticks": ""
            },
            "colorscale": [
             [
              0,
              "#0d0887"
             ],
             [
              0.1111111111111111,
              "#46039f"
             ],
             [
              0.2222222222222222,
              "#7201a8"
             ],
             [
              0.3333333333333333,
              "#9c179e"
             ],
             [
              0.4444444444444444,
              "#bd3786"
             ],
             [
              0.5555555555555556,
              "#d8576b"
             ],
             [
              0.6666666666666666,
              "#ed7953"
             ],
             [
              0.7777777777777778,
              "#fb9f3a"
             ],
             [
              0.8888888888888888,
              "#fdca26"
             ],
             [
              1,
              "#f0f921"
             ]
            ],
            "type": "histogram2dcontour"
           }
          ],
          "mesh3d": [
           {
            "colorbar": {
             "outlinewidth": 0,
             "ticks": ""
            },
            "type": "mesh3d"
           }
          ],
          "parcoords": [
           {
            "line": {
             "colorbar": {
              "outlinewidth": 0,
              "ticks": ""
             }
            },
            "type": "parcoords"
           }
          ],
          "pie": [
           {
            "automargin": true,
            "type": "pie"
           }
          ],
          "scatter": [
           {
            "marker": {
             "colorbar": {
              "outlinewidth": 0,
              "ticks": ""
             }
            },
            "type": "scatter"
           }
          ],
          "scatter3d": [
           {
            "line": {
             "colorbar": {
              "outlinewidth": 0,
              "ticks": ""
             }
            },
            "marker": {
             "colorbar": {
              "outlinewidth": 0,
              "ticks": ""
             }
            },
            "type": "scatter3d"
           }
          ],
          "scattercarpet": [
           {
            "marker": {
             "colorbar": {
              "outlinewidth": 0,
              "ticks": ""
             }
            },
            "type": "scattercarpet"
           }
          ],
          "scattergeo": [
           {
            "marker": {
             "colorbar": {
              "outlinewidth": 0,
              "ticks": ""
             }
            },
            "type": "scattergeo"
           }
          ],
          "scattergl": [
           {
            "marker": {
             "colorbar": {
              "outlinewidth": 0,
              "ticks": ""
             }
            },
            "type": "scattergl"
           }
          ],
          "scattermapbox": [
           {
            "marker": {
             "colorbar": {
              "outlinewidth": 0,
              "ticks": ""
             }
            },
            "type": "scattermapbox"
           }
          ],
          "scatterpolar": [
           {
            "marker": {
             "colorbar": {
              "outlinewidth": 0,
              "ticks": ""
             }
            },
            "type": "scatterpolar"
           }
          ],
          "scatterpolargl": [
           {
            "marker": {
             "colorbar": {
              "outlinewidth": 0,
              "ticks": ""
             }
            },
            "type": "scatterpolargl"
           }
          ],
          "scatterternary": [
           {
            "marker": {
             "colorbar": {
              "outlinewidth": 0,
              "ticks": ""
             }
            },
            "type": "scatterternary"
           }
          ],
          "surface": [
           {
            "colorbar": {
             "outlinewidth": 0,
             "ticks": ""
            },
            "colorscale": [
             [
              0,
              "#0d0887"
             ],
             [
              0.1111111111111111,
              "#46039f"
             ],
             [
              0.2222222222222222,
              "#7201a8"
             ],
             [
              0.3333333333333333,
              "#9c179e"
             ],
             [
              0.4444444444444444,
              "#bd3786"
             ],
             [
              0.5555555555555556,
              "#d8576b"
             ],
             [
              0.6666666666666666,
              "#ed7953"
             ],
             [
              0.7777777777777778,
              "#fb9f3a"
             ],
             [
              0.8888888888888888,
              "#fdca26"
             ],
             [
              1,
              "#f0f921"
             ]
            ],
            "type": "surface"
           }
          ],
          "table": [
           {
            "cells": {
             "fill": {
              "color": "#EBF0F8"
             },
             "line": {
              "color": "white"
             }
            },
            "header": {
             "fill": {
              "color": "#C8D4E3"
             },
             "line": {
              "color": "white"
             }
            },
            "type": "table"
           }
          ]
         },
         "layout": {
          "annotationdefaults": {
           "arrowcolor": "#2a3f5f",
           "arrowhead": 0,
           "arrowwidth": 1
          },
          "coloraxis": {
           "colorbar": {
            "outlinewidth": 0,
            "ticks": ""
           }
          },
          "colorscale": {
           "diverging": [
            [
             0,
             "#8e0152"
            ],
            [
             0.1,
             "#c51b7d"
            ],
            [
             0.2,
             "#de77ae"
            ],
            [
             0.3,
             "#f1b6da"
            ],
            [
             0.4,
             "#fde0ef"
            ],
            [
             0.5,
             "#f7f7f7"
            ],
            [
             0.6,
             "#e6f5d0"
            ],
            [
             0.7,
             "#b8e186"
            ],
            [
             0.8,
             "#7fbc41"
            ],
            [
             0.9,
             "#4d9221"
            ],
            [
             1,
             "#276419"
            ]
           ],
           "sequential": [
            [
             0,
             "#0d0887"
            ],
            [
             0.1111111111111111,
             "#46039f"
            ],
            [
             0.2222222222222222,
             "#7201a8"
            ],
            [
             0.3333333333333333,
             "#9c179e"
            ],
            [
             0.4444444444444444,
             "#bd3786"
            ],
            [
             0.5555555555555556,
             "#d8576b"
            ],
            [
             0.6666666666666666,
             "#ed7953"
            ],
            [
             0.7777777777777778,
             "#fb9f3a"
            ],
            [
             0.8888888888888888,
             "#fdca26"
            ],
            [
             1,
             "#f0f921"
            ]
           ],
           "sequentialminus": [
            [
             0,
             "#0d0887"
            ],
            [
             0.1111111111111111,
             "#46039f"
            ],
            [
             0.2222222222222222,
             "#7201a8"
            ],
            [
             0.3333333333333333,
             "#9c179e"
            ],
            [
             0.4444444444444444,
             "#bd3786"
            ],
            [
             0.5555555555555556,
             "#d8576b"
            ],
            [
             0.6666666666666666,
             "#ed7953"
            ],
            [
             0.7777777777777778,
             "#fb9f3a"
            ],
            [
             0.8888888888888888,
             "#fdca26"
            ],
            [
             1,
             "#f0f921"
            ]
           ]
          },
          "colorway": [
           "#636efa",
           "#EF553B",
           "#00cc96",
           "#ab63fa",
           "#FFA15A",
           "#19d3f3",
           "#FF6692",
           "#B6E880",
           "#FF97FF",
           "#FECB52"
          ],
          "font": {
           "color": "#2a3f5f"
          },
          "geo": {
           "bgcolor": "white",
           "lakecolor": "white",
           "landcolor": "#E5ECF6",
           "showlakes": true,
           "showland": true,
           "subunitcolor": "white"
          },
          "hoverlabel": {
           "align": "left"
          },
          "hovermode": "closest",
          "mapbox": {
           "style": "light"
          },
          "paper_bgcolor": "white",
          "plot_bgcolor": "#E5ECF6",
          "polar": {
           "angularaxis": {
            "gridcolor": "white",
            "linecolor": "white",
            "ticks": ""
           },
           "bgcolor": "#E5ECF6",
           "radialaxis": {
            "gridcolor": "white",
            "linecolor": "white",
            "ticks": ""
           }
          },
          "scene": {
           "xaxis": {
            "backgroundcolor": "#E5ECF6",
            "gridcolor": "white",
            "gridwidth": 2,
            "linecolor": "white",
            "showbackground": true,
            "ticks": "",
            "zerolinecolor": "white"
           },
           "yaxis": {
            "backgroundcolor": "#E5ECF6",
            "gridcolor": "white",
            "gridwidth": 2,
            "linecolor": "white",
            "showbackground": true,
            "ticks": "",
            "zerolinecolor": "white"
           },
           "zaxis": {
            "backgroundcolor": "#E5ECF6",
            "gridcolor": "white",
            "gridwidth": 2,
            "linecolor": "white",
            "showbackground": true,
            "ticks": "",
            "zerolinecolor": "white"
           }
          },
          "shapedefaults": {
           "line": {
            "color": "#2a3f5f"
           }
          },
          "ternary": {
           "aaxis": {
            "gridcolor": "white",
            "linecolor": "white",
            "ticks": ""
           },
           "baxis": {
            "gridcolor": "white",
            "linecolor": "white",
            "ticks": ""
           },
           "bgcolor": "#E5ECF6",
           "caxis": {
            "gridcolor": "white",
            "linecolor": "white",
            "ticks": ""
           }
          },
          "title": {
           "x": 0.05
          },
          "xaxis": {
           "automargin": true,
           "gridcolor": "white",
           "linecolor": "white",
           "ticks": "",
           "title": {
            "standoff": 15
           },
           "zerolinecolor": "white",
           "zerolinewidth": 2
          },
          "yaxis": {
           "automargin": true,
           "gridcolor": "white",
           "linecolor": "white",
           "ticks": "",
           "title": {
            "standoff": 15
           },
           "zerolinecolor": "white",
           "zerolinewidth": 2
          }
         }
        },
        "title": {
         "text": "Number Of Students Intaked & Graduated Based On Genders In NUS Over The Years"
        },
        "xaxis": {
         "anchor": "y",
         "domain": [
          0,
          1
         ],
         "title": {
          "text": "type"
         }
        },
        "yaxis": {
         "anchor": "x",
         "domain": [
          0,
          1
         ],
         "title": {
          "text": "total"
         }
        }
       }
      },
      "text/html": [
       "<div>\n",
       "        \n",
       "        \n",
       "            <div id=\"2f389a45-4586-4c4f-94c4-ab254133812c\" class=\"plotly-graph-div\" style=\"height:525px; width:100%;\"></div>\n",
       "            <script type=\"text/javascript\">\n",
       "                require([\"plotly\"], function(Plotly) {\n",
       "                    window.PLOTLYENV=window.PLOTLYENV || {};\n",
       "                    \n",
       "                if (document.getElementById(\"2f389a45-4586-4c4f-94c4-ab254133812c\")) {\n",
       "                    Plotly.newPlot(\n",
       "                        '2f389a45-4586-4c4f-94c4-ab254133812c',\n",
       "                        [{\"alignmentgroup\": \"True\", \"boxpoints\": \"all\", \"customdata\": [[2000], [2000], [2001], [2001], [2002], [2002], [2003], [2003], [2004], [2004], [2005], [2005], [2006], [2006], [2007], [2007], [2008], [2008], [2009], [2009], [2010], [2010], [2011], [2011], [2012], [2012], [2013], [2013], [2014], [2014]], \"hoverlabel\": {\"namelength\": 0}, \"hovertemplate\": \"sex=F<br>type=%{x}<br>total=%{y}<br>year=%{customdata[0]}\", \"legendgroup\": \"F\", \"marker\": {\"color\": \"#636efa\"}, \"name\": \"F\", \"notched\": true, \"offsetgroup\": \"F\", \"orientation\": \"v\", \"showlegend\": true, \"type\": \"box\", \"x\": [\"intake\", \"graduate\", \"intake\", \"graduate\", \"intake\", \"graduate\", \"intake\", \"graduate\", \"intake\", \"graduate\", \"graduate\", \"intake\", \"intake\", \"graduate\", \"graduate\", \"intake\", \"graduate\", \"intake\", \"graduate\", \"intake\", \"graduate\", \"intake\", \"graduate\", \"intake\", \"graduate\", \"intake\", \"graduate\", \"intake\", \"intake\", \"graduate\"], \"x0\": \" \", \"xaxis\": \"x\", \"y\": [7326, 6601, 7377, 6671, 7390, 6844, 6950, 7160, 7307, 7440, 7636, 7863, 8285, 7836, 8811, 9099, 8649, 8538, 9731, 9084, 9065, 8781, 9146, 9200, 9440, 9929, 9577, 10175, 10423, 9647], \"y0\": \" \", \"yaxis\": \"y\"}, {\"alignmentgroup\": \"True\", \"boxpoints\": \"all\", \"customdata\": [[2000], [2000], [2001], [2001], [2002], [2002], [2003], [2003], [2004], [2004], [2005], [2005], [2006], [2006], [2007], [2007], [2008], [2008], [2009], [2009], [2010], [2010], [2011], [2011], [2012], [2012], [2013], [2013], [2014], [2014]], \"hoverlabel\": {\"namelength\": 0}, \"hovertemplate\": \"sex=M<br>type=%{x}<br>total=%{y}<br>year=%{customdata[0]}\", \"legendgroup\": \"M\", \"marker\": {\"color\": \"#EF553B\"}, \"name\": \"M\", \"notched\": true, \"offsetgroup\": \"M\", \"orientation\": \"v\", \"showlegend\": true, \"type\": \"box\", \"x\": [\"graduate\", \"intake\", \"graduate\", \"intake\", \"intake\", \"graduate\", \"intake\", \"graduate\", \"graduate\", \"intake\", \"intake\", \"graduate\", \"intake\", \"graduate\", \"graduate\", \"intake\", \"graduate\", \"intake\", \"intake\", \"graduate\", \"graduate\", \"intake\", \"graduate\", \"intake\", \"graduate\", \"intake\", \"intake\", \"graduate\", \"intake\", \"graduate\"], \"x0\": \" \", \"xaxis\": \"x\", \"y\": [5553, 6092, 5380, 5869, 5999, 5679, 6161, 6359, 6220, 6470, 6853, 6490, 7332, 7031, 6929, 7106, 7218, 7299, 8183, 8388, 8253, 8067, 8357, 8213, 8116, 8475, 8948, 8375, 9544, 8773], \"y0\": \" \", \"yaxis\": \"y\"}],\n",
       "                        {\"boxmode\": \"group\", \"legend\": {\"title\": {\"text\": \"sex\"}, \"tracegroupgap\": 0}, \"template\": {\"data\": {\"bar\": [{\"error_x\": {\"color\": \"#2a3f5f\"}, \"error_y\": {\"color\": \"#2a3f5f\"}, \"marker\": {\"line\": {\"color\": \"#E5ECF6\", \"width\": 0.5}}, \"type\": \"bar\"}], \"barpolar\": [{\"marker\": {\"line\": {\"color\": \"#E5ECF6\", \"width\": 0.5}}, \"type\": \"barpolar\"}], \"carpet\": [{\"aaxis\": {\"endlinecolor\": \"#2a3f5f\", \"gridcolor\": \"white\", \"linecolor\": \"white\", \"minorgridcolor\": \"white\", \"startlinecolor\": \"#2a3f5f\"}, \"baxis\": {\"endlinecolor\": \"#2a3f5f\", \"gridcolor\": \"white\", \"linecolor\": \"white\", \"minorgridcolor\": \"white\", \"startlinecolor\": \"#2a3f5f\"}, \"type\": \"carpet\"}], \"choropleth\": [{\"colorbar\": {\"outlinewidth\": 0, \"ticks\": \"\"}, \"type\": \"choropleth\"}], \"contour\": [{\"colorbar\": {\"outlinewidth\": 0, \"ticks\": \"\"}, \"colorscale\": [[0.0, \"#0d0887\"], [0.1111111111111111, \"#46039f\"], [0.2222222222222222, \"#7201a8\"], [0.3333333333333333, \"#9c179e\"], [0.4444444444444444, \"#bd3786\"], [0.5555555555555556, \"#d8576b\"], [0.6666666666666666, \"#ed7953\"], [0.7777777777777778, \"#fb9f3a\"], [0.8888888888888888, \"#fdca26\"], [1.0, \"#f0f921\"]], \"type\": \"contour\"}], \"contourcarpet\": [{\"colorbar\": {\"outlinewidth\": 0, \"ticks\": \"\"}, \"type\": \"contourcarpet\"}], \"heatmap\": [{\"colorbar\": {\"outlinewidth\": 0, \"ticks\": \"\"}, \"colorscale\": [[0.0, \"#0d0887\"], [0.1111111111111111, \"#46039f\"], [0.2222222222222222, \"#7201a8\"], [0.3333333333333333, \"#9c179e\"], [0.4444444444444444, \"#bd3786\"], [0.5555555555555556, \"#d8576b\"], [0.6666666666666666, \"#ed7953\"], [0.7777777777777778, \"#fb9f3a\"], [0.8888888888888888, \"#fdca26\"], [1.0, \"#f0f921\"]], \"type\": \"heatmap\"}], \"heatmapgl\": [{\"colorbar\": {\"outlinewidth\": 0, \"ticks\": \"\"}, \"colorscale\": [[0.0, \"#0d0887\"], [0.1111111111111111, \"#46039f\"], [0.2222222222222222, \"#7201a8\"], [0.3333333333333333, \"#9c179e\"], [0.4444444444444444, \"#bd3786\"], [0.5555555555555556, \"#d8576b\"], [0.6666666666666666, \"#ed7953\"], [0.7777777777777778, \"#fb9f3a\"], [0.8888888888888888, \"#fdca26\"], [1.0, \"#f0f921\"]], \"type\": \"heatmapgl\"}], \"histogram\": [{\"marker\": {\"colorbar\": {\"outlinewidth\": 0, \"ticks\": \"\"}}, \"type\": \"histogram\"}], \"histogram2d\": [{\"colorbar\": {\"outlinewidth\": 0, \"ticks\": \"\"}, \"colorscale\": [[0.0, \"#0d0887\"], [0.1111111111111111, \"#46039f\"], [0.2222222222222222, \"#7201a8\"], [0.3333333333333333, \"#9c179e\"], [0.4444444444444444, \"#bd3786\"], [0.5555555555555556, \"#d8576b\"], [0.6666666666666666, \"#ed7953\"], [0.7777777777777778, \"#fb9f3a\"], [0.8888888888888888, \"#fdca26\"], [1.0, \"#f0f921\"]], \"type\": \"histogram2d\"}], \"histogram2dcontour\": [{\"colorbar\": {\"outlinewidth\": 0, \"ticks\": \"\"}, \"colorscale\": [[0.0, \"#0d0887\"], [0.1111111111111111, \"#46039f\"], [0.2222222222222222, \"#7201a8\"], [0.3333333333333333, \"#9c179e\"], [0.4444444444444444, \"#bd3786\"], [0.5555555555555556, \"#d8576b\"], [0.6666666666666666, \"#ed7953\"], [0.7777777777777778, \"#fb9f3a\"], [0.8888888888888888, \"#fdca26\"], [1.0, \"#f0f921\"]], \"type\": \"histogram2dcontour\"}], \"mesh3d\": [{\"colorbar\": {\"outlinewidth\": 0, \"ticks\": \"\"}, \"type\": \"mesh3d\"}], \"parcoords\": [{\"line\": {\"colorbar\": {\"outlinewidth\": 0, \"ticks\": \"\"}}, \"type\": \"parcoords\"}], \"pie\": [{\"automargin\": true, \"type\": \"pie\"}], \"scatter\": [{\"marker\": {\"colorbar\": {\"outlinewidth\": 0, \"ticks\": \"\"}}, \"type\": \"scatter\"}], \"scatter3d\": [{\"line\": {\"colorbar\": {\"outlinewidth\": 0, \"ticks\": \"\"}}, \"marker\": {\"colorbar\": {\"outlinewidth\": 0, \"ticks\": \"\"}}, \"type\": \"scatter3d\"}], \"scattercarpet\": [{\"marker\": {\"colorbar\": {\"outlinewidth\": 0, \"ticks\": \"\"}}, \"type\": \"scattercarpet\"}], \"scattergeo\": [{\"marker\": {\"colorbar\": {\"outlinewidth\": 0, \"ticks\": \"\"}}, \"type\": \"scattergeo\"}], \"scattergl\": [{\"marker\": {\"colorbar\": {\"outlinewidth\": 0, \"ticks\": \"\"}}, \"type\": \"scattergl\"}], \"scattermapbox\": [{\"marker\": {\"colorbar\": {\"outlinewidth\": 0, \"ticks\": \"\"}}, \"type\": \"scattermapbox\"}], \"scatterpolar\": [{\"marker\": {\"colorbar\": {\"outlinewidth\": 0, \"ticks\": \"\"}}, \"type\": \"scatterpolar\"}], \"scatterpolargl\": [{\"marker\": {\"colorbar\": {\"outlinewidth\": 0, \"ticks\": \"\"}}, \"type\": \"scatterpolargl\"}], \"scatterternary\": [{\"marker\": {\"colorbar\": {\"outlinewidth\": 0, \"ticks\": \"\"}}, \"type\": \"scatterternary\"}], \"surface\": [{\"colorbar\": {\"outlinewidth\": 0, \"ticks\": \"\"}, \"colorscale\": [[0.0, \"#0d0887\"], [0.1111111111111111, \"#46039f\"], [0.2222222222222222, \"#7201a8\"], [0.3333333333333333, \"#9c179e\"], [0.4444444444444444, \"#bd3786\"], [0.5555555555555556, \"#d8576b\"], [0.6666666666666666, \"#ed7953\"], [0.7777777777777778, \"#fb9f3a\"], [0.8888888888888888, \"#fdca26\"], [1.0, \"#f0f921\"]], \"type\": \"surface\"}], \"table\": [{\"cells\": {\"fill\": {\"color\": \"#EBF0F8\"}, \"line\": {\"color\": \"white\"}}, \"header\": {\"fill\": {\"color\": \"#C8D4E3\"}, \"line\": {\"color\": \"white\"}}, \"type\": \"table\"}]}, \"layout\": {\"annotationdefaults\": {\"arrowcolor\": \"#2a3f5f\", \"arrowhead\": 0, \"arrowwidth\": 1}, \"coloraxis\": {\"colorbar\": {\"outlinewidth\": 0, \"ticks\": \"\"}}, \"colorscale\": {\"diverging\": [[0, \"#8e0152\"], [0.1, \"#c51b7d\"], [0.2, \"#de77ae\"], [0.3, \"#f1b6da\"], [0.4, \"#fde0ef\"], [0.5, \"#f7f7f7\"], [0.6, \"#e6f5d0\"], [0.7, \"#b8e186\"], [0.8, \"#7fbc41\"], [0.9, \"#4d9221\"], [1, \"#276419\"]], \"sequential\": [[0.0, \"#0d0887\"], [0.1111111111111111, \"#46039f\"], [0.2222222222222222, \"#7201a8\"], [0.3333333333333333, \"#9c179e\"], [0.4444444444444444, \"#bd3786\"], [0.5555555555555556, \"#d8576b\"], [0.6666666666666666, \"#ed7953\"], [0.7777777777777778, \"#fb9f3a\"], [0.8888888888888888, \"#fdca26\"], [1.0, \"#f0f921\"]], \"sequentialminus\": [[0.0, \"#0d0887\"], [0.1111111111111111, \"#46039f\"], [0.2222222222222222, \"#7201a8\"], [0.3333333333333333, \"#9c179e\"], [0.4444444444444444, \"#bd3786\"], [0.5555555555555556, \"#d8576b\"], [0.6666666666666666, \"#ed7953\"], [0.7777777777777778, \"#fb9f3a\"], [0.8888888888888888, \"#fdca26\"], [1.0, \"#f0f921\"]]}, \"colorway\": [\"#636efa\", \"#EF553B\", \"#00cc96\", \"#ab63fa\", \"#FFA15A\", \"#19d3f3\", \"#FF6692\", \"#B6E880\", \"#FF97FF\", \"#FECB52\"], \"font\": {\"color\": \"#2a3f5f\"}, \"geo\": {\"bgcolor\": \"white\", \"lakecolor\": \"white\", \"landcolor\": \"#E5ECF6\", \"showlakes\": true, \"showland\": true, \"subunitcolor\": \"white\"}, \"hoverlabel\": {\"align\": \"left\"}, \"hovermode\": \"closest\", \"mapbox\": {\"style\": \"light\"}, \"paper_bgcolor\": \"white\", \"plot_bgcolor\": \"#E5ECF6\", \"polar\": {\"angularaxis\": {\"gridcolor\": \"white\", \"linecolor\": \"white\", \"ticks\": \"\"}, \"bgcolor\": \"#E5ECF6\", \"radialaxis\": {\"gridcolor\": \"white\", \"linecolor\": \"white\", \"ticks\": \"\"}}, \"scene\": {\"xaxis\": {\"backgroundcolor\": \"#E5ECF6\", \"gridcolor\": \"white\", \"gridwidth\": 2, \"linecolor\": \"white\", \"showbackground\": true, \"ticks\": \"\", \"zerolinecolor\": \"white\"}, \"yaxis\": {\"backgroundcolor\": \"#E5ECF6\", \"gridcolor\": \"white\", \"gridwidth\": 2, \"linecolor\": \"white\", \"showbackground\": true, \"ticks\": \"\", \"zerolinecolor\": \"white\"}, \"zaxis\": {\"backgroundcolor\": \"#E5ECF6\", \"gridcolor\": \"white\", \"gridwidth\": 2, \"linecolor\": \"white\", \"showbackground\": true, \"ticks\": \"\", \"zerolinecolor\": \"white\"}}, \"shapedefaults\": {\"line\": {\"color\": \"#2a3f5f\"}}, \"ternary\": {\"aaxis\": {\"gridcolor\": \"white\", \"linecolor\": \"white\", \"ticks\": \"\"}, \"baxis\": {\"gridcolor\": \"white\", \"linecolor\": \"white\", \"ticks\": \"\"}, \"bgcolor\": \"#E5ECF6\", \"caxis\": {\"gridcolor\": \"white\", \"linecolor\": \"white\", \"ticks\": \"\"}}, \"title\": {\"x\": 0.05}, \"xaxis\": {\"automargin\": true, \"gridcolor\": \"white\", \"linecolor\": \"white\", \"ticks\": \"\", \"title\": {\"standoff\": 15}, \"zerolinecolor\": \"white\", \"zerolinewidth\": 2}, \"yaxis\": {\"automargin\": true, \"gridcolor\": \"white\", \"linecolor\": \"white\", \"ticks\": \"\", \"title\": {\"standoff\": 15}, \"zerolinecolor\": \"white\", \"zerolinewidth\": 2}}}, \"title\": {\"text\": \"Number Of Students Intaked & Graduated Based On Genders In NUS Over The Years\"}, \"xaxis\": {\"anchor\": \"y\", \"domain\": [0.0, 1.0], \"title\": {\"text\": \"type\"}}, \"yaxis\": {\"anchor\": \"x\", \"domain\": [0.0, 1.0], \"title\": {\"text\": \"total\"}}},\n",
       "                        {\"responsive\": true}\n",
       "                    ).then(function(){\n",
       "                            \n",
       "var gd = document.getElementById('2f389a45-4586-4c4f-94c4-ab254133812c');\n",
       "var x = new MutationObserver(function (mutations, observer) {{\n",
       "        var display = window.getComputedStyle(gd).display;\n",
       "        if (!display || display === 'none') {{\n",
       "            console.log([gd, 'removed!']);\n",
       "            Plotly.purge(gd);\n",
       "            observer.disconnect();\n",
       "        }}\n",
       "}});\n",
       "\n",
       "// Listen for the removal of the full notebook cells\n",
       "var notebookContainer = gd.closest('#notebook-container');\n",
       "if (notebookContainer) {{\n",
       "    x.observe(notebookContainer, {childList: true});\n",
       "}}\n",
       "\n",
       "// Listen for the clearing of the current output cell\n",
       "var outputEl = gd.closest('.output');\n",
       "if (outputEl) {{\n",
       "    x.observe(outputEl, {childList: true});\n",
       "}}\n",
       "\n",
       "                        })\n",
       "                };\n",
       "                });\n",
       "            </script>\n",
       "        </div>"
      ]
     },
     "metadata": {},
     "output_type": "display_data"
    }
   ],
   "source": [
    "import plotly.express as px\n",
    "fig = px.box(intake_grad, x=\"type\", y=\"total\", color=\"sex\",\n",
    "             notched = True, # used notched shape\n",
    "             title=\"Number Of Students Intaked & Graduated Based On Genders In NUS Over The Years\",\n",
    "             hover_data = [\"year\"],\n",
    "             points = \"all\")\n",
    "fig.show()"
   ]
  },
  {
   "cell_type": "code",
   "execution_count": 64,
   "metadata": {},
   "outputs": [
    {
     "name": "stdout",
     "output_type": "stream",
     "text": [
      "type      sex\n",
      "graduate  F      8283.600000\n",
      "          M      7141.400000\n",
      "intake    F      8515.133333\n",
      "          M      7374.066667\n",
      "Name: total, dtype: float64\n",
      " Female: 2% , Boys : 3%\n"
     ]
    }
   ],
   "source": [
    "medians = intake_grad.groupby(['type',\"sex\"])[\"total\"].mean()\n",
    "for value in medians:\n",
    "    value = int(value)\n",
    "print(medians)\n",
    "# print(\"Difference For Female: {.:1f}\".format((medians[3]-medians[0])/medians[3] * 100))\n",
    "print(\" Female: {}% , Boys : {}%\".format(int((medians[2]-medians[0])/medians[2] * 100), int((medians[3]-medians[1])/medians[3] * 100))) "
   ]
  },
  {
   "cell_type": "code",
   "execution_count": 62,
   "metadata": {},
   "outputs": [],
   "source": []
  }
 ],
 "metadata": {
  "kernelspec": {
   "display_name": "Python 3",
   "language": "python",
   "name": "python3"
  },
  "language_info": {
   "codemirror_mode": {
    "name": "ipython",
    "version": 3
   },
   "file_extension": ".py",
   "mimetype": "text/x-python",
   "name": "python",
   "nbconvert_exporter": "python",
   "pygments_lexer": "ipython3",
   "version": "3.7.3"
  }
 },
 "nbformat": 4,
 "nbformat_minor": 2
}
