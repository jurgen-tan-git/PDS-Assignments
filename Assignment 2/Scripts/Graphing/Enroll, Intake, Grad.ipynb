{
 "cells": [
  {
   "cell_type": "code",
   "execution_count": null,
   "metadata": {},
   "outputs": [],
   "source": [
    "import pandas as pd\n",
    "import numpy as np\n",
    "import seaborn as sns\n",
    "import matplotlib.pyplot as plt\n",
    "\n",
    "merged = pd.read_csv(r\"~\\Desktop\\PDS-Assignment-1\\Assignment 2\\After Cleansing\\Merged.csv\")\n",
    "merged = merged[merged.year >= 2000]\n",
    "# merged"
   ]
  },
  {
   "cell_type": "code",
   "execution_count": null,
   "metadata": {},
   "outputs": [],
   "source": [
    "total = merged[[\"year\", \"sex\",\"nus\", \"total\", \"type\"]]\n",
    "total"
   ]
  },
  {
   "cell_type": "code",
   "execution_count": null,
   "metadata": {},
   "outputs": [],
   "source": [
    "sns.set(style=\"whitegrid\")\n",
    "sns.set(rc={'figure.figsize':(15.7,8.27)})\n",
    "barplot = sns.barplot(x=\"year\", y=\"total\", hue= \"type\", data=total, palette=\"GnBu_d\", ci=None)\n",
    "barplot.set(xlabel='Year', ylabel='Total Number Of Students', \n",
    "            title=\"Total Number Of Students Enrolled, Intaked and Graduated\")\n",
    "plt.legend(loc='upper left')\n",
    "plt.show(barplot)"
   ]
  },
  {
   "cell_type": "code",
   "execution_count": null,
   "metadata": {},
   "outputs": [],
   "source": [
    "intake_grad = total[total.type !=\"enroll\"]\n",
    "intake_grad = intake_grad[intake_grad.sex != \"MF\"].sort_values(\"year\").reset_index(drop = True)\n",
    "intake_grad"
   ]
  },
  {
   "cell_type": "code",
   "execution_count": null,
   "metadata": {},
   "outputs": [],
   "source": [
    "import plotly.express as px\n",
    "fig = px.box(intake_grad, x=\"type\", y=\"total\", color=\"sex\",\n",
    "             notched = True, # used notched shape\n",
    "             title=\"Number Of Students Intaked & Graduated Based On Genders In NUS Over The Years\",\n",
    "             hover_data = [\"year\"],\n",
    "             points = \"all\")\n",
    "fig.show()"
   ]
  },
  {
   "cell_type": "code",
   "execution_count": null,
   "metadata": {},
   "outputs": [],
   "source": [
    "medians = intake_grad.groupby(['type',\"sex\"])[\"total\"].mean()\n",
    "for value in medians:\n",
    "    value = int(value)\n",
    "print(medians)\n",
    "# print(\"Difference For Female: {.:1f}\".format((medians[3]-medians[0])/medians[3] * 100))\n",
    "print(\" Female: {}% , Boys : {}%\".format(int((medians[2]-medians[0])/medians[2] * 100), int((medians[3]-medians[1])/medians[3] * 100))) "
   ]
  },
  {
   "cell_type": "code",
   "execution_count": null,
   "metadata": {},
   "outputs": [],
   "source": [
    "!pip install plotly"
   ]
  }
 ],
 "metadata": {
  "kernelspec": {
   "display_name": "Python 3",
   "language": "python",
   "name": "python3"
  },
  "language_info": {
   "codemirror_mode": {
    "name": "ipython",
    "version": 3
   },
   "file_extension": ".py",
   "mimetype": "text/x-python",
   "name": "python",
   "nbconvert_exporter": "python",
   "pygments_lexer": "ipython3",
   "version": "3.7.4"
  }
 },
 "nbformat": 4,
 "nbformat_minor": 2
}
