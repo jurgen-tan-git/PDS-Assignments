{
 "cells": [
  {
   "cell_type": "code",
   "execution_count": null,
   "metadata": {},
   "outputs": [],
   "source": [
    "import pandas as pd\n",
    "import numpy as np\n",
    "import seaborn as sns\n",
    "import matplotlib.pyplot as plt\n",
    "\n",
    "employment = pd.read_csv(r\"~\\Desktop\\PDS-Assignment-1\\Assignment 2\\Raw Data\\graduate-employment-survey-ntu-nus-sit-smu-sutd.csv\", \n",
    "                         na_values = \"na\").fillna(0)\n",
    "employment = employment[employment.university == \"National University of Singapore\"]\n",
    "employment = employment[employment.school.isin([\"Faculty of Arts & Social Sciences\", \n",
    "                                                \"Faculty of Engineering\", \n",
    "                                                \"Faculty of Science\"])]\n",
    "employment = employment.drop(employment.loc[(employment==0).any(axis=1)].index)\n",
    "employment"
   ]
  },
  {
   "cell_type": "code",
   "execution_count": null,
   "metadata": {},
   "outputs": [],
   "source": [
    "#In accordance to top 3 courses intake in NUS, the graduation will be from these faculties\n",
    "#Engineering Sciences, Humanities & Social Sciences, Natural, Physical & Mathematical Sciences\n",
    "sns.set(style=\"whitegrid\")\n",
    "sns.set(rc={'figure.figsize':(15.7,8.27)})\n",
    "\n",
    "scatterplot = sns.scatterplot(x=employment.employment_rate_ft_perm , \n",
    "                              y=employment.gross_monthly_mean, \n",
    "                              hue=employment.school, \n",
    "                              style = employment.school,\n",
    "                              data=employment)\n",
    "\n",
    "scatterplot.set_ylim([2000, 4500])\n",
    "scatterplot.set_xlim([45, 100])\n",
    "scatterplot.set(xlabel='Employment Rate(Full Time)',\n",
    "                ylabel='Gross Monthly Mean Salary', \n",
    "                title=\"Trend Of Employment Rate Against Gross Monthly Mean Salary\")\n",
    "plt.show(scatterplot)"
   ]
  },
  {
   "cell_type": "code",
   "execution_count": null,
   "metadata": {},
   "outputs": [],
   "source": [
    "#In accordance to top 3 courses intake in NUS, the graduation will be from these faculties\n",
    "#Engineering Sciences, Humanities & Social Sciences, Natural, Physical & Mathematical Sciences\n",
    "sns.set(style=\"whitegrid\")\n",
    "sns.set(rc={'figure.figsize':(15.7,8.27)})\n",
    "\n",
    "scatterplot = sns.lmplot(x=\"employment_rate_ft_perm\" , \n",
    "                              y=\"gross_monthly_mean\", \n",
    "                              hue=\"school\", \n",
    "                              data=employment,\n",
    "                              fit_reg=True)\n",
    "\n",
    "scatterplot.set(xlabel='Employment Rate(Full Time)',\n",
    "                ylabel='Gross Monthly Mean Salary', \n",
    "                title=\"Trend Of Employment Rate Against Gross Monthly Mean Salary\")\n",
    "plt.show(scatterplot)"
   ]
  }
 ],
 "metadata": {
  "kernelspec": {
   "display_name": "Python 3",
   "language": "python",
   "name": "python3"
  },
  "language_info": {
   "codemirror_mode": {
    "name": "ipython",
    "version": 3
   },
   "file_extension": ".py",
   "mimetype": "text/x-python",
   "name": "python",
   "nbconvert_exporter": "python",
   "pygments_lexer": "ipython3",
   "version": "3.7.4"
  }
 },
 "nbformat": 4,
 "nbformat_minor": 2
}
