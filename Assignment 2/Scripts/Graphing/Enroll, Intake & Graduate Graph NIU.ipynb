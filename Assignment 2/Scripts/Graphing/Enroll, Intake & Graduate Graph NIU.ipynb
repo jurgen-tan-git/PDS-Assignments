{
 "cells": [
  {
   "cell_type": "code",
   "execution_count": null,
   "metadata": {},
   "outputs": [],
   "source": [
    "import pandas as pd\n",
    "import numpy as np\n",
    "import seaborn as sns\n",
    "import matplotlib.pyplot as plt"
   ]
  },
  {
   "cell_type": "code",
   "execution_count": null,
   "metadata": {},
   "outputs": [],
   "source": [
    "merged = pd.read_csv(r\"C:\\Users\\Jurgen\\Desktop\\PDS-Assignment-1\\Assignment 2\\After Cleansing\\Merged.csv\")\n",
    "merged = merged[merged.year >= 2000]"
   ]
  },
  {
   "cell_type": "code",
   "execution_count": null,
   "metadata": {},
   "outputs": [],
   "source": [
    "MF = merged[merged.sex == \"MF\"].reset_index(drop = True)\n",
    "MF"
   ]
  },
  {
   "cell_type": "markdown",
   "metadata": {},
   "source": [
    "# Barplot"
   ]
  },
  {
   "cell_type": "code",
   "execution_count": null,
   "metadata": {},
   "outputs": [],
   "source": [
    "sns.set(style=\"whitegrid\")\n",
    "sns.set(rc={'figure.figsize':(15.7,8.27)})\n",
    "ax = sns.barplot(x=\"year\", y=\"total\", hue= \"type\", data=MF, palette=\"GnBu_d\")\n",
    "\n",
    "ax.set(xlabel='Year', ylabel='Total Number Of Students')\n",
    "plt.title(\"Colors vs Values\")\n",
    "\n",
    "\n",
    "plt.show(ax)\n"
   ]
  },
  {
   "cell_type": "code",
   "execution_count": null,
   "metadata": {},
   "outputs": [],
   "source": [
    "enroll_intake= MF[MF.type !=\"graduate\"].sort_values('year').set_index([\"year\", \"type\"]).drop(columns = \"sex\")\n",
    "enroll_intake"
   ]
  },
  {
   "cell_type": "code",
   "execution_count": null,
   "metadata": {},
   "outputs": [],
   "source": [
    "enroll_intake_diff = enroll_intake.diff()\n",
    "enroll_intake_diff = enroll_intake_diff[enroll_intake_diff.total < 0]\n",
    "\n",
    "enroll_intake_diff"
   ]
  },
  {
   "cell_type": "code",
   "execution_count": null,
   "metadata": {},
   "outputs": [],
   "source": [
    "#Diff in % of the number of students being taken into the uni\n",
    "for i in range(len(enroll_intake_diff)):\n",
    "    print((MF.total[i] + enroll_intake_diff.total[i])/MF.total[i] * 100)"
   ]
  },
  {
   "cell_type": "code",
   "execution_count": null,
   "metadata": {},
   "outputs": [],
   "source": [
    "intake_grad = MF[MF.type !=\"enroll\"]\n",
    "intake_grad"
   ]
  },
  {
   "cell_type": "code",
   "execution_count": null,
   "metadata": {},
   "outputs": [],
   "source": [
    "#Look at the past events in the 14 years\n",
    "ax = sns.lineplot(x=\"year\", y=\"total\", hue = \"type\", style=\"type\", markers = True, palette = \"autumn\", data=intake_grad)\n"
   ]
  }
 ],
 "metadata": {
  "kernelspec": {
   "display_name": "Python 3",
   "language": "python",
   "name": "python3"
  },
  "language_info": {
   "codemirror_mode": {
    "name": "ipython",
    "version": 3
   },
   "file_extension": ".py",
   "mimetype": "text/x-python",
   "name": "python",
   "nbconvert_exporter": "python",
   "pygments_lexer": "ipython3",
   "version": "3.7.3"
  }
 },
 "nbformat": 4,
 "nbformat_minor": 2
}
