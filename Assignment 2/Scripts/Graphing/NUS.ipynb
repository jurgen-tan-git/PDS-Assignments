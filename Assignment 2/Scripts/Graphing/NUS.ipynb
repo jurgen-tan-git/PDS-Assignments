{
 "cells": [
  {
   "cell_type": "code",
   "execution_count": 17,
   "metadata": {},
   "outputs": [],
   "source": [
    "import pandas as pd\n",
    "import numpy as np\n",
    "import seaborn as sns\n",
    "import matplotlib.pyplot as plt\n",
    "\n",
    "merged = pd.read_csv(r\"C:\\Users\\Jurgen\\Desktop\\PDS-Assignment-1\\Assignment 2\\After Cleansing\\Merged.csv\")\n",
    "merged = merged[merged.year >= 2000]\n",
    "# merged"
   ]
  },
  {
   "cell_type": "code",
   "execution_count": 25,
   "metadata": {},
   "outputs": [
    {
     "data": {
      "text/html": [
       "<div>\n",
       "<style scoped>\n",
       "    .dataframe tbody tr th:only-of-type {\n",
       "        vertical-align: middle;\n",
       "    }\n",
       "\n",
       "    .dataframe tbody tr th {\n",
       "        vertical-align: top;\n",
       "    }\n",
       "\n",
       "    .dataframe thead th {\n",
       "        text-align: right;\n",
       "    }\n",
       "</style>\n",
       "<table border=\"1\" class=\"dataframe\">\n",
       "  <thead>\n",
       "    <tr style=\"text-align: right;\">\n",
       "      <th></th>\n",
       "      <th>year</th>\n",
       "      <th>sex</th>\n",
       "      <th>nus</th>\n",
       "      <th>total</th>\n",
       "      <th>type</th>\n",
       "    </tr>\n",
       "  </thead>\n",
       "  <tbody>\n",
       "    <tr>\n",
       "      <td>54</td>\n",
       "      <td>2000</td>\n",
       "      <td>F</td>\n",
       "      <td>11341</td>\n",
       "      <td>20023</td>\n",
       "      <td>enroll</td>\n",
       "    </tr>\n",
       "    <tr>\n",
       "      <td>55</td>\n",
       "      <td>2000</td>\n",
       "      <td>MF</td>\n",
       "      <td>21233</td>\n",
       "      <td>39193</td>\n",
       "      <td>enroll</td>\n",
       "    </tr>\n",
       "    <tr>\n",
       "      <td>56</td>\n",
       "      <td>2000</td>\n",
       "      <td>M</td>\n",
       "      <td>9892</td>\n",
       "      <td>19170</td>\n",
       "      <td>enroll</td>\n",
       "    </tr>\n",
       "    <tr>\n",
       "      <td>57</td>\n",
       "      <td>2001</td>\n",
       "      <td>F</td>\n",
       "      <td>11781</td>\n",
       "      <td>21156</td>\n",
       "      <td>enroll</td>\n",
       "    </tr>\n",
       "    <tr>\n",
       "      <td>58</td>\n",
       "      <td>2001</td>\n",
       "      <td>MF</td>\n",
       "      <td>22172</td>\n",
       "      <td>41078</td>\n",
       "      <td>enroll</td>\n",
       "    </tr>\n",
       "    <tr>\n",
       "      <td>...</td>\n",
       "      <td>...</td>\n",
       "      <td>...</td>\n",
       "      <td>...</td>\n",
       "      <td>...</td>\n",
       "      <td>...</td>\n",
       "    </tr>\n",
       "    <tr>\n",
       "      <td>292</td>\n",
       "      <td>2013</td>\n",
       "      <td>F</td>\n",
       "      <td>3350</td>\n",
       "      <td>9577</td>\n",
       "      <td>graduate</td>\n",
       "    </tr>\n",
       "    <tr>\n",
       "      <td>293</td>\n",
       "      <td>2013</td>\n",
       "      <td>MF</td>\n",
       "      <td>6446</td>\n",
       "      <td>17952</td>\n",
       "      <td>graduate</td>\n",
       "    </tr>\n",
       "    <tr>\n",
       "      <td>294</td>\n",
       "      <td>2014</td>\n",
       "      <td>M</td>\n",
       "      <td>3094</td>\n",
       "      <td>8773</td>\n",
       "      <td>graduate</td>\n",
       "    </tr>\n",
       "    <tr>\n",
       "      <td>295</td>\n",
       "      <td>2014</td>\n",
       "      <td>MF</td>\n",
       "      <td>6700</td>\n",
       "      <td>18420</td>\n",
       "      <td>graduate</td>\n",
       "    </tr>\n",
       "    <tr>\n",
       "      <td>296</td>\n",
       "      <td>2014</td>\n",
       "      <td>F</td>\n",
       "      <td>3606</td>\n",
       "      <td>9647</td>\n",
       "      <td>graduate</td>\n",
       "    </tr>\n",
       "  </tbody>\n",
       "</table>\n",
       "<p>135 rows × 5 columns</p>\n",
       "</div>"
      ],
      "text/plain": [
       "     year sex    nus  total      type\n",
       "54   2000   F  11341  20023    enroll\n",
       "55   2000  MF  21233  39193    enroll\n",
       "56   2000   M   9892  19170    enroll\n",
       "57   2001   F  11781  21156    enroll\n",
       "58   2001  MF  22172  41078    enroll\n",
       "..    ...  ..    ...    ...       ...\n",
       "292  2013   F   3350   9577  graduate\n",
       "293  2013  MF   6446  17952  graduate\n",
       "294  2014   M   3094   8773  graduate\n",
       "295  2014  MF   6700  18420  graduate\n",
       "296  2014   F   3606   9647  graduate\n",
       "\n",
       "[135 rows x 5 columns]"
      ]
     },
     "execution_count": 25,
     "metadata": {},
     "output_type": "execute_result"
    }
   ],
   "source": [
    "NUS = merged[[\"year\", \"sex\",\"nus\", \"total\", \"type\"]]\n",
    "NUS"
   ]
  },
  {
   "cell_type": "code",
   "execution_count": 27,
   "metadata": {},
   "outputs": [
    {
     "data": {
      "image/png": "[encoded data removed]",
      "text/plain": [
       "<Figure size 1130.4x595.44 with 1 Axes>"
      ]
     },
     "metadata": {},
     "output_type": "display_data"
    }
   ],
   "source": [
    "sns.set(style=\"whitegrid\")\n",
    "sns.set(rc={'figure.figsize':(15.7,8.27)})\n",
    "barplot = sns.barplot(x=\"year\", y=\"nus\", hue= \"type\", data=NUS, palette=\"GnBu_d\", ci=None)\n",
    "\n",
    "\n",
    "barplot.set(xlabel='Year', ylabel='Total Number Of Students In NUS', title=\"Enrollment vs Inrolement vs Graduates\")\n",
    "plt.legend(loc='upper left')\n",
    "plt.show(barplot)"
   ]
  },
  {
   "cell_type": "code",
   "execution_count": 85,
   "metadata": {},
   "outputs": [
    {
     "data": {
      "text/html": [
       "<div>\n",
       "<style scoped>\n",
       "    .dataframe tbody tr th:only-of-type {\n",
       "        vertical-align: middle;\n",
       "    }\n",
       "\n",
       "    .dataframe tbody tr th {\n",
       "        vertical-align: top;\n",
       "    }\n",
       "\n",
       "    .dataframe thead th {\n",
       "        text-align: right;\n",
       "    }\n",
       "</style>\n",
       "<table border=\"1\" class=\"dataframe\">\n",
       "  <thead>\n",
       "    <tr style=\"text-align: right;\">\n",
       "      <th></th>\n",
       "      <th>year</th>\n",
       "      <th>sex</th>\n",
       "      <th>nus</th>\n",
       "      <th>total</th>\n",
       "      <th>type</th>\n",
       "    </tr>\n",
       "  </thead>\n",
       "  <tbody>\n",
       "    <tr>\n",
       "      <td>0</td>\n",
       "      <td>2000</td>\n",
       "      <td>F</td>\n",
       "      <td>3437</td>\n",
       "      <td>7326</td>\n",
       "      <td>intake</td>\n",
       "    </tr>\n",
       "    <tr>\n",
       "      <td>1</td>\n",
       "      <td>2000</td>\n",
       "      <td>F</td>\n",
       "      <td>3161</td>\n",
       "      <td>6601</td>\n",
       "      <td>graduate</td>\n",
       "    </tr>\n",
       "    <tr>\n",
       "      <td>2</td>\n",
       "      <td>2000</td>\n",
       "      <td>M</td>\n",
       "      <td>2697</td>\n",
       "      <td>5553</td>\n",
       "      <td>graduate</td>\n",
       "    </tr>\n",
       "    <tr>\n",
       "      <td>3</td>\n",
       "      <td>2000</td>\n",
       "      <td>M</td>\n",
       "      <td>2984</td>\n",
       "      <td>6092</td>\n",
       "      <td>intake</td>\n",
       "    </tr>\n",
       "    <tr>\n",
       "      <td>4</td>\n",
       "      <td>2001</td>\n",
       "      <td>F</td>\n",
       "      <td>3534</td>\n",
       "      <td>7377</td>\n",
       "      <td>intake</td>\n",
       "    </tr>\n",
       "    <tr>\n",
       "      <td>5</td>\n",
       "      <td>2001</td>\n",
       "      <td>M</td>\n",
       "      <td>2524</td>\n",
       "      <td>5380</td>\n",
       "      <td>graduate</td>\n",
       "    </tr>\n",
       "    <tr>\n",
       "      <td>6</td>\n",
       "      <td>2001</td>\n",
       "      <td>F</td>\n",
       "      <td>3051</td>\n",
       "      <td>6671</td>\n",
       "      <td>graduate</td>\n",
       "    </tr>\n",
       "    <tr>\n",
       "      <td>7</td>\n",
       "      <td>2001</td>\n",
       "      <td>M</td>\n",
       "      <td>2945</td>\n",
       "      <td>5869</td>\n",
       "      <td>intake</td>\n",
       "    </tr>\n",
       "    <tr>\n",
       "      <td>8</td>\n",
       "      <td>2002</td>\n",
       "      <td>M</td>\n",
       "      <td>2767</td>\n",
       "      <td>5999</td>\n",
       "      <td>intake</td>\n",
       "    </tr>\n",
       "    <tr>\n",
       "      <td>9</td>\n",
       "      <td>2002</td>\n",
       "      <td>F</td>\n",
       "      <td>3252</td>\n",
       "      <td>7390</td>\n",
       "      <td>intake</td>\n",
       "    </tr>\n",
       "    <tr>\n",
       "      <td>10</td>\n",
       "      <td>2002</td>\n",
       "      <td>F</td>\n",
       "      <td>3055</td>\n",
       "      <td>6844</td>\n",
       "      <td>graduate</td>\n",
       "    </tr>\n",
       "    <tr>\n",
       "      <td>11</td>\n",
       "      <td>2002</td>\n",
       "      <td>M</td>\n",
       "      <td>2566</td>\n",
       "      <td>5679</td>\n",
       "      <td>graduate</td>\n",
       "    </tr>\n",
       "    <tr>\n",
       "      <td>12</td>\n",
       "      <td>2003</td>\n",
       "      <td>F</td>\n",
       "      <td>3413</td>\n",
       "      <td>6950</td>\n",
       "      <td>intake</td>\n",
       "    </tr>\n",
       "    <tr>\n",
       "      <td>13</td>\n",
       "      <td>2003</td>\n",
       "      <td>M</td>\n",
       "      <td>2832</td>\n",
       "      <td>6161</td>\n",
       "      <td>intake</td>\n",
       "    </tr>\n",
       "    <tr>\n",
       "      <td>14</td>\n",
       "      <td>2003</td>\n",
       "      <td>M</td>\n",
       "      <td>2557</td>\n",
       "      <td>6359</td>\n",
       "      <td>graduate</td>\n",
       "    </tr>\n",
       "    <tr>\n",
       "      <td>15</td>\n",
       "      <td>2003</td>\n",
       "      <td>F</td>\n",
       "      <td>2943</td>\n",
       "      <td>7160</td>\n",
       "      <td>graduate</td>\n",
       "    </tr>\n",
       "    <tr>\n",
       "      <td>16</td>\n",
       "      <td>2004</td>\n",
       "      <td>F</td>\n",
       "      <td>2955</td>\n",
       "      <td>7307</td>\n",
       "      <td>intake</td>\n",
       "    </tr>\n",
       "    <tr>\n",
       "      <td>17</td>\n",
       "      <td>2004</td>\n",
       "      <td>F</td>\n",
       "      <td>2982</td>\n",
       "      <td>7440</td>\n",
       "      <td>graduate</td>\n",
       "    </tr>\n",
       "    <tr>\n",
       "      <td>18</td>\n",
       "      <td>2004</td>\n",
       "      <td>M</td>\n",
       "      <td>2619</td>\n",
       "      <td>6220</td>\n",
       "      <td>graduate</td>\n",
       "    </tr>\n",
       "    <tr>\n",
       "      <td>19</td>\n",
       "      <td>2004</td>\n",
       "      <td>M</td>\n",
       "      <td>2767</td>\n",
       "      <td>6470</td>\n",
       "      <td>intake</td>\n",
       "    </tr>\n",
       "    <tr>\n",
       "      <td>20</td>\n",
       "      <td>2005</td>\n",
       "      <td>M</td>\n",
       "      <td>2973</td>\n",
       "      <td>6853</td>\n",
       "      <td>intake</td>\n",
       "    </tr>\n",
       "    <tr>\n",
       "      <td>21</td>\n",
       "      <td>2005</td>\n",
       "      <td>F</td>\n",
       "      <td>3012</td>\n",
       "      <td>7636</td>\n",
       "      <td>graduate</td>\n",
       "    </tr>\n",
       "    <tr>\n",
       "      <td>22</td>\n",
       "      <td>2005</td>\n",
       "      <td>M</td>\n",
       "      <td>2767</td>\n",
       "      <td>6490</td>\n",
       "      <td>graduate</td>\n",
       "    </tr>\n",
       "    <tr>\n",
       "      <td>23</td>\n",
       "      <td>2005</td>\n",
       "      <td>F</td>\n",
       "      <td>3122</td>\n",
       "      <td>7863</td>\n",
       "      <td>intake</td>\n",
       "    </tr>\n",
       "    <tr>\n",
       "      <td>24</td>\n",
       "      <td>2006</td>\n",
       "      <td>F</td>\n",
       "      <td>3618</td>\n",
       "      <td>8285</td>\n",
       "      <td>intake</td>\n",
       "    </tr>\n",
       "    <tr>\n",
       "      <td>25</td>\n",
       "      <td>2006</td>\n",
       "      <td>M</td>\n",
       "      <td>3013</td>\n",
       "      <td>7332</td>\n",
       "      <td>intake</td>\n",
       "    </tr>\n",
       "    <tr>\n",
       "      <td>26</td>\n",
       "      <td>2006</td>\n",
       "      <td>M</td>\n",
       "      <td>2709</td>\n",
       "      <td>7031</td>\n",
       "      <td>graduate</td>\n",
       "    </tr>\n",
       "    <tr>\n",
       "      <td>27</td>\n",
       "      <td>2006</td>\n",
       "      <td>F</td>\n",
       "      <td>3124</td>\n",
       "      <td>7836</td>\n",
       "      <td>graduate</td>\n",
       "    </tr>\n",
       "    <tr>\n",
       "      <td>28</td>\n",
       "      <td>2007</td>\n",
       "      <td>F</td>\n",
       "      <td>3403</td>\n",
       "      <td>8811</td>\n",
       "      <td>graduate</td>\n",
       "    </tr>\n",
       "    <tr>\n",
       "      <td>29</td>\n",
       "      <td>2007</td>\n",
       "      <td>F</td>\n",
       "      <td>3710</td>\n",
       "      <td>9099</td>\n",
       "      <td>intake</td>\n",
       "    </tr>\n",
       "    <tr>\n",
       "      <td>30</td>\n",
       "      <td>2007</td>\n",
       "      <td>M</td>\n",
       "      <td>2685</td>\n",
       "      <td>6929</td>\n",
       "      <td>graduate</td>\n",
       "    </tr>\n",
       "    <tr>\n",
       "      <td>31</td>\n",
       "      <td>2007</td>\n",
       "      <td>M</td>\n",
       "      <td>2844</td>\n",
       "      <td>7106</td>\n",
       "      <td>intake</td>\n",
       "    </tr>\n",
       "    <tr>\n",
       "      <td>32</td>\n",
       "      <td>2008</td>\n",
       "      <td>M</td>\n",
       "      <td>2820</td>\n",
       "      <td>7218</td>\n",
       "      <td>graduate</td>\n",
       "    </tr>\n",
       "    <tr>\n",
       "      <td>33</td>\n",
       "      <td>2008</td>\n",
       "      <td>F</td>\n",
       "      <td>3149</td>\n",
       "      <td>8649</td>\n",
       "      <td>graduate</td>\n",
       "    </tr>\n",
       "    <tr>\n",
       "      <td>34</td>\n",
       "      <td>2008</td>\n",
       "      <td>M</td>\n",
       "      <td>3043</td>\n",
       "      <td>7299</td>\n",
       "      <td>intake</td>\n",
       "    </tr>\n",
       "    <tr>\n",
       "      <td>35</td>\n",
       "      <td>2008</td>\n",
       "      <td>F</td>\n",
       "      <td>3389</td>\n",
       "      <td>8538</td>\n",
       "      <td>intake</td>\n",
       "    </tr>\n",
       "    <tr>\n",
       "      <td>36</td>\n",
       "      <td>2009</td>\n",
       "      <td>F</td>\n",
       "      <td>3281</td>\n",
       "      <td>9731</td>\n",
       "      <td>graduate</td>\n",
       "    </tr>\n",
       "    <tr>\n",
       "      <td>37</td>\n",
       "      <td>2009</td>\n",
       "      <td>F</td>\n",
       "      <td>3426</td>\n",
       "      <td>9084</td>\n",
       "      <td>intake</td>\n",
       "    </tr>\n",
       "    <tr>\n",
       "      <td>38</td>\n",
       "      <td>2009</td>\n",
       "      <td>M</td>\n",
       "      <td>3349</td>\n",
       "      <td>8183</td>\n",
       "      <td>intake</td>\n",
       "    </tr>\n",
       "    <tr>\n",
       "      <td>39</td>\n",
       "      <td>2009</td>\n",
       "      <td>M</td>\n",
       "      <td>3114</td>\n",
       "      <td>8388</td>\n",
       "      <td>graduate</td>\n",
       "    </tr>\n",
       "    <tr>\n",
       "      <td>40</td>\n",
       "      <td>2010</td>\n",
       "      <td>M</td>\n",
       "      <td>2986</td>\n",
       "      <td>8253</td>\n",
       "      <td>graduate</td>\n",
       "    </tr>\n",
       "    <tr>\n",
       "      <td>41</td>\n",
       "      <td>2010</td>\n",
       "      <td>F</td>\n",
       "      <td>3224</td>\n",
       "      <td>9065</td>\n",
       "      <td>graduate</td>\n",
       "    </tr>\n",
       "    <tr>\n",
       "      <td>42</td>\n",
       "      <td>2010</td>\n",
       "      <td>F</td>\n",
       "      <td>3405</td>\n",
       "      <td>8781</td>\n",
       "      <td>intake</td>\n",
       "    </tr>\n",
       "    <tr>\n",
       "      <td>43</td>\n",
       "      <td>2010</td>\n",
       "      <td>M</td>\n",
       "      <td>3163</td>\n",
       "      <td>8067</td>\n",
       "      <td>intake</td>\n",
       "    </tr>\n",
       "    <tr>\n",
       "      <td>44</td>\n",
       "      <td>2011</td>\n",
       "      <td>M</td>\n",
       "      <td>2987</td>\n",
       "      <td>8357</td>\n",
       "      <td>graduate</td>\n",
       "    </tr>\n",
       "    <tr>\n",
       "      <td>45</td>\n",
       "      <td>2011</td>\n",
       "      <td>F</td>\n",
       "      <td>3192</td>\n",
       "      <td>9146</td>\n",
       "      <td>graduate</td>\n",
       "    </tr>\n",
       "    <tr>\n",
       "      <td>46</td>\n",
       "      <td>2011</td>\n",
       "      <td>M</td>\n",
       "      <td>3158</td>\n",
       "      <td>8213</td>\n",
       "      <td>intake</td>\n",
       "    </tr>\n",
       "    <tr>\n",
       "      <td>47</td>\n",
       "      <td>2011</td>\n",
       "      <td>F</td>\n",
       "      <td>3566</td>\n",
       "      <td>9200</td>\n",
       "      <td>intake</td>\n",
       "    </tr>\n",
       "    <tr>\n",
       "      <td>48</td>\n",
       "      <td>2012</td>\n",
       "      <td>F</td>\n",
       "      <td>3332</td>\n",
       "      <td>9440</td>\n",
       "      <td>graduate</td>\n",
       "    </tr>\n",
       "    <tr>\n",
       "      <td>49</td>\n",
       "      <td>2012</td>\n",
       "      <td>M</td>\n",
       "      <td>2973</td>\n",
       "      <td>8116</td>\n",
       "      <td>graduate</td>\n",
       "    </tr>\n",
       "    <tr>\n",
       "      <td>50</td>\n",
       "      <td>2012</td>\n",
       "      <td>F</td>\n",
       "      <td>3545</td>\n",
       "      <td>9929</td>\n",
       "      <td>intake</td>\n",
       "    </tr>\n",
       "    <tr>\n",
       "      <td>51</td>\n",
       "      <td>2012</td>\n",
       "      <td>M</td>\n",
       "      <td>3188</td>\n",
       "      <td>8475</td>\n",
       "      <td>intake</td>\n",
       "    </tr>\n",
       "    <tr>\n",
       "      <td>52</td>\n",
       "      <td>2013</td>\n",
       "      <td>F</td>\n",
       "      <td>3350</td>\n",
       "      <td>9577</td>\n",
       "      <td>graduate</td>\n",
       "    </tr>\n",
       "    <tr>\n",
       "      <td>53</td>\n",
       "      <td>2013</td>\n",
       "      <td>M</td>\n",
       "      <td>3207</td>\n",
       "      <td>8948</td>\n",
       "      <td>intake</td>\n",
       "    </tr>\n",
       "    <tr>\n",
       "      <td>54</td>\n",
       "      <td>2013</td>\n",
       "      <td>M</td>\n",
       "      <td>3096</td>\n",
       "      <td>8375</td>\n",
       "      <td>graduate</td>\n",
       "    </tr>\n",
       "    <tr>\n",
       "      <td>55</td>\n",
       "      <td>2013</td>\n",
       "      <td>F</td>\n",
       "      <td>3685</td>\n",
       "      <td>10175</td>\n",
       "      <td>intake</td>\n",
       "    </tr>\n",
       "    <tr>\n",
       "      <td>56</td>\n",
       "      <td>2014</td>\n",
       "      <td>F</td>\n",
       "      <td>3857</td>\n",
       "      <td>10423</td>\n",
       "      <td>intake</td>\n",
       "    </tr>\n",
       "    <tr>\n",
       "      <td>57</td>\n",
       "      <td>2014</td>\n",
       "      <td>M</td>\n",
       "      <td>3251</td>\n",
       "      <td>9544</td>\n",
       "      <td>intake</td>\n",
       "    </tr>\n",
       "    <tr>\n",
       "      <td>58</td>\n",
       "      <td>2014</td>\n",
       "      <td>M</td>\n",
       "      <td>3094</td>\n",
       "      <td>8773</td>\n",
       "      <td>graduate</td>\n",
       "    </tr>\n",
       "    <tr>\n",
       "      <td>59</td>\n",
       "      <td>2014</td>\n",
       "      <td>F</td>\n",
       "      <td>3606</td>\n",
       "      <td>9647</td>\n",
       "      <td>graduate</td>\n",
       "    </tr>\n",
       "  </tbody>\n",
       "</table>\n",
       "</div>"
      ],
      "text/plain": [
       "    year sex   nus  total      type\n",
       "0   2000   F  3437   7326    intake\n",
       "1   2000   F  3161   6601  graduate\n",
       "2   2000   M  2697   5553  graduate\n",
       "3   2000   M  2984   6092    intake\n",
       "4   2001   F  3534   7377    intake\n",
       "5   2001   M  2524   5380  graduate\n",
       "6   2001   F  3051   6671  graduate\n",
       "7   2001   M  2945   5869    intake\n",
       "8   2002   M  2767   5999    intake\n",
       "9   2002   F  3252   7390    intake\n",
       "10  2002   F  3055   6844  graduate\n",
       "11  2002   M  2566   5679  graduate\n",
       "12  2003   F  3413   6950    intake\n",
       "13  2003   M  2832   6161    intake\n",
       "14  2003   M  2557   6359  graduate\n",
       "15  2003   F  2943   7160  graduate\n",
       "16  2004   F  2955   7307    intake\n",
       "17  2004   F  2982   7440  graduate\n",
       "18  2004   M  2619   6220  graduate\n",
       "19  2004   M  2767   6470    intake\n",
       "20  2005   M  2973   6853    intake\n",
       "21  2005   F  3012   7636  graduate\n",
       "22  2005   M  2767   6490  graduate\n",
       "23  2005   F  3122   7863    intake\n",
       "24  2006   F  3618   8285    intake\n",
       "25  2006   M  3013   7332    intake\n",
       "26  2006   M  2709   7031  graduate\n",
       "27  2006   F  3124   7836  graduate\n",
       "28  2007   F  3403   8811  graduate\n",
       "29  2007   F  3710   9099    intake\n",
       "30  2007   M  2685   6929  graduate\n",
       "31  2007   M  2844   7106    intake\n",
       "32  2008   M  2820   7218  graduate\n",
       "33  2008   F  3149   8649  graduate\n",
       "34  2008   M  3043   7299    intake\n",
       "35  2008   F  3389   8538    intake\n",
       "36  2009   F  3281   9731  graduate\n",
       "37  2009   F  3426   9084    intake\n",
       "38  2009   M  3349   8183    intake\n",
       "39  2009   M  3114   8388  graduate\n",
       "40  2010   M  2986   8253  graduate\n",
       "41  2010   F  3224   9065  graduate\n",
       "42  2010   F  3405   8781    intake\n",
       "43  2010   M  3163   8067    intake\n",
       "44  2011   M  2987   8357  graduate\n",
       "45  2011   F  3192   9146  graduate\n",
       "46  2011   M  3158   8213    intake\n",
       "47  2011   F  3566   9200    intake\n",
       "48  2012   F  3332   9440  graduate\n",
       "49  2012   M  2973   8116  graduate\n",
       "50  2012   F  3545   9929    intake\n",
       "51  2012   M  3188   8475    intake\n",
       "52  2013   F  3350   9577  graduate\n",
       "53  2013   M  3207   8948    intake\n",
       "54  2013   M  3096   8375  graduate\n",
       "55  2013   F  3685  10175    intake\n",
       "56  2014   F  3857  10423    intake\n",
       "57  2014   M  3251   9544    intake\n",
       "58  2014   M  3094   8773  graduate\n",
       "59  2014   F  3606   9647  graduate"
      ]
     },
     "execution_count": 85,
     "metadata": {},
     "output_type": "execute_result"
    }
   ],
   "source": [
    "intake_grad = NUS[NUS.type !=\"enroll\"]\n",
    "intake_grad = intake_grad[intake_grad.sex != \"MF\"].sort_values(\"year\").reset_index(drop = True)\n",
    "intake_grad"
   ]
  },
  {
   "cell_type": "code",
   "execution_count": 73,
   "metadata": {
    "scrolled": true
   },
   "outputs": [
    {
     "data": {
      "image/png": "[encoded data removed]",
      "text/plain": [
       "<Figure size 1130.4x595.44 with 1 Axes>"
      ]
     },
     "metadata": {},
     "output_type": "display_data"
    }
   ],
   "source": [
    "#Look at the past events in the 14 years\n",
    "boxplot = sns.boxplot(x=\"total\", y=\"type\", hue = \"sex\", palette = \"hls\", data=intake_grad)\n",
    "\n",
    "\n",
    "plt.legend(loc='upper left')\n",
    "boxplot.set(xlabel='Number Of Students', ylabel='Gender', title=\"Number Of That Were Intaked vs Graduated After 4 Years\")\n",
    "plt.show(boxplot)\n"
   ]
  },
  {
   "cell_type": "code",
   "execution_count": 75,
   "metadata": {},
   "outputs": [
    {
     "name": "stdout",
     "output_type": "stream",
     "text": [
      "type      sex\n",
      "graduate  F      8649\n",
      "          M      7031\n",
      "intake    F      8538\n",
      "          M      7299\n",
      "Name: total, dtype: int64\n"
     ]
    }
   ],
   "source": [
    "medians = intake_grad.groupby(['type',\"sex\"])[\"total\"].median()\n",
    "print(medians)"
   ]
  },
  {
   "cell_type": "code",
   "execution_count": 89,
   "metadata": {},
   "outputs": [
    {
     "data": {
      "application/vnd.plotly.v1+json": {
       "config": {
        "plotlyServerURL": "https://plot.ly"
       },
       "data": [
        {
         "alignmentgroup": "True",
         "hoverlabel": {
          "namelength": 0
         },
         "hovertemplate": "sex=F<br>type=%{x}<br>total=%{y}",
         "legendgroup": "F",
         "marker": {
          "color": "#636efa"
         },
         "name": "F",
         "notched": true,
         "offsetgroup": "F",
         "orientation": "v",
         "showlegend": true,
         "type": "box",
         "x": [
          "intake",
          "graduate",
          "intake",
          "graduate",
          "intake",
          "graduate",
          "intake",
          "graduate",
          "intake",
          "graduate",
          "graduate",
          "intake",
          "intake",
          "graduate",
          "graduate",
          "intake",
          "graduate",
          "intake",
          "graduate",
          "intake",
          "graduate",
          "intake",
          "graduate",
          "intake",
          "graduate",
          "intake",
          "graduate",
          "intake",
          "intake",
          "graduate"
         ],
         "x0": " ",
         "xaxis": "x",
         "y": [
          7326,
          6601,
          7377,
          6671,
          7390,
          6844,
          6950,
          7160,
          7307,
          7440,
          7636,
          7863,
          8285,
          7836,
          8811,
          9099,
          8649,
          8538,
          9731,
          9084,
          9065,
          8781,
          9146,
          9200,
          9440,
          9929,
          9577,
          10175,
          10423,
          9647
         ],
         "y0": " ",
         "yaxis": "y"
        },
        {
         "alignmentgroup": "True",
         "hoverlabel": {
          "namelength": 0
         },
         "hovertemplate": "sex=M<br>type=%{x}<br>total=%{y}",
         "legendgroup": "M",
         "marker": {
          "color": "#EF553B"
         },
         "name": "M",
         "notched": true,
         "offsetgroup": "M",
         "orientation": "v",
         "showlegend": true,
         "type": "box",
         "x": [
          "graduate",
          "intake",
          "graduate",
          "intake",
          "intake",
          "graduate",
          "intake",
          "graduate",
          "graduate",
          "intake",
          "intake",
          "graduate",
          "intake",
          "graduate",
          "graduate",
          "intake",
          "graduate",
          "intake",
          "intake",
          "graduate",
          "graduate",
          "intake",
          "graduate",
          "intake",
          "graduate",
          "intake",
          "intake",
          "graduate",
          "intake",
          "graduate"
         ],
         "x0": " ",
         "xaxis": "x",
         "y": [
          5553,
          6092,
          5380,
          5869,
          5999,
          5679,
          6161,
          6359,
          6220,
          6470,
          6853,
          6490,
          7332,
          7031,
          6929,
          7106,
          7218,
          7299,
          8183,
          8388,
          8253,
          8067,
          8357,
          8213,
          8116,
          8475,
          8948,
          8375,
          9544,
          8773
         ],
         "y0": " ",
         "yaxis": "y"
        }
       ],
       "layout": {
        "boxmode": "group",
        "legend": {
         "title": {
          "text": "sex"
         },
         "tracegroupgap": 0
        },
        "template": {
         "data": {
          "bar": [
           {
            "error_x": {
             "color": "#2a3f5f"
            },
            "error_y": {
             "color": "#2a3f5f"
            },
            "marker": {
             "line": {
              "color": "#E5ECF6",
              "width": 0.5
             }
            },
            "type": "bar"
           }
          ],
          "barpolar": [
           {
            "marker": {
             "line": {
              "color": "#E5ECF6",
              "width": 0.5
             }
            },
            "type": "barpolar"
           }
          ],
          "carpet": [
           {
            "aaxis": {
             "endlinecolor": "#2a3f5f",
             "gridcolor": "white",
             "linecolor": "white",
             "minorgridcolor": "white",
             "startlinecolor": "#2a3f5f"
            },
            "baxis": {
             "endlinecolor": "#2a3f5f",
             "gridcolor": "white",
             "linecolor": "white",
             "minorgridcolor": "white",
             "startlinecolor": "#2a3f5f"
            },
            "type": "carpet"
           }
          ],
          "choropleth": [
           {
            "colorbar": {
             "outlinewidth": 0,
             "ticks": ""
            },
            "type": "choropleth"
           }
          ],
          "contour": [
           {
            "colorbar": {
             "outlinewidth": 0,
             "ticks": ""
            },
            "colorscale": [
             [
              0,
              "#0d0887"
             ],
             [
              0.1111111111111111,
              "#46039f"
             ],
             [
              0.2222222222222222,
              "#7201a8"
             ],
             [
              0.3333333333333333,
              "#9c179e"
             ],
             [
              0.4444444444444444,
              "#bd3786"
             ],
             [
              0.5555555555555556,
              "#d8576b"
             ],
             [
              0.6666666666666666,
              "#ed7953"
             ],
             [
              0.7777777777777778,
              "#fb9f3a"
             ],
             [
              0.8888888888888888,
              "#fdca26"
             ],
             [
              1,
              "#f0f921"
             ]
            ],
            "type": "contour"
           }
          ],
          "contourcarpet": [
           {
            "colorbar": {
             "outlinewidth": 0,
             "ticks": ""
            },
            "type": "contourcarpet"
           }
          ],
          "heatmap": [
           {
            "colorbar": {
             "outlinewidth": 0,
             "ticks": ""
            },
            "colorscale": [
             [
              0,
              "#0d0887"
             ],
             [
              0.1111111111111111,
              "#46039f"
             ],
             [
              0.2222222222222222,
              "#7201a8"
             ],
             [
              0.3333333333333333,
              "#9c179e"
             ],
             [
              0.4444444444444444,
              "#bd3786"
             ],
             [
              0.5555555555555556,
              "#d8576b"
             ],
             [
              0.6666666666666666,
              "#ed7953"
             ],
             [
              0.7777777777777778,
              "#fb9f3a"
             ],
             [
              0.8888888888888888,
              "#fdca26"
             ],
             [
              1,
              "#f0f921"
             ]
            ],
            "type": "heatmap"
           }
          ],
          "heatmapgl": [
           {
            "colorbar": {
             "outlinewidth": 0,
             "ticks": ""
            },
            "colorscale": [
             [
              0,
              "#0d0887"
             ],
             [
              0.1111111111111111,
              "#46039f"
             ],
             [
              0.2222222222222222,
              "#7201a8"
             ],
             [
              0.3333333333333333,
              "#9c179e"
             ],
             [
              0.4444444444444444,
              "#bd3786"
             ],
             [
              0.5555555555555556,
              "#d8576b"
             ],
             [
              0.6666666666666666,
              "#ed7953"
             ],
             [
              0.7777777777777778,
              "#fb9f3a"
             ],
             [
              0.8888888888888888,
              "#fdca26"
             ],
             [
              1,
              "#f0f921"
             ]
            ],
            "type": "heatmapgl"
           }
          ],
          "histogram": [
           {
            "marker": {
             "colorbar": {
              "outlinewidth": 0,
              "ticks": ""
             }
            },
            "type": "histogram"
           }
          ],
          "histogram2d": [
           {
            "colorbar": {
             "outlinewidth": 0,
             "ticks": ""
            },
            "colorscale": [
             [
              0,
              "#0d0887"
             ],
             [
              0.1111111111111111,
              "#46039f"
             ],
             [
              0.2222222222222222,
              "#7201a8"
             ],
             [
              0.3333333333333333,
              "#9c179e"
             ],
             [
              0.4444444444444444,
              "#bd3786"
             ],
             [
              0.5555555555555556,
              "#d8576b"
             ],
             [
              0.6666666666666666,
              "#ed7953"
             ],
             [
              0.7777777777777778,
              "#fb9f3a"
             ],
             [
              0.8888888888888888,
              "#fdca26"
             ],
             [
              1,
              "#f0f921"
             ]
            ],
            "type": "histogram2d"
           }
          ],
          "histogram2dcontour": [
           {
            "colorbar": {
             "outlinewidth": 0,
             "ticks": ""
            },
            "colorscale": [
             [
              0,
              "#0d0887"
             ],
             [
              0.1111111111111111,
              "#46039f"
             ],
             [
              0.2222222222222222,
              "#7201a8"
             ],
             [
              0.3333333333333333,
              "#9c179e"
             ],
             [
              0.4444444444444444,
              "#bd3786"
             ],
             [
              0.5555555555555556,
              "#d8576b"
             ],
             [
              0.6666666666666666,
              "#ed7953"
             ],
             [
              0.7777777777777778,
              "#fb9f3a"
             ],
             [
              0.8888888888888888,
              "#fdca26"
             ],
             [
              1,
              "#f0f921"
             ]
            ],
            "type": "histogram2dcontour"
           }
          ],
          "mesh3d": [
           {
            "colorbar": {
             "outlinewidth": 0,
             "ticks": ""
            },
            "type": "mesh3d"
           }
          ],
          "parcoords": [
           {
            "line": {
             "colorbar": {
              "outlinewidth": 0,
              "ticks": ""
             }
            },
            "type": "parcoords"
           }
          ],
          "pie": [
           {
            "automargin": true,
            "type": "pie"
           }
          ],
          "scatter": [
           {
            "marker": {
             "colorbar": {
              "outlinewidth": 0,
              "ticks": ""
             }
            },
            "type": "scatter"
           }
          ],
          "scatter3d": [
           {
            "line": {
             "colorbar": {
              "outlinewidth": 0,
              "ticks": ""
             }
            },
            "marker": {
             "colorbar": {
              "outlinewidth": 0,
              "ticks": ""
             }
            },
            "type": "scatter3d"
           }
          ],
          "scattercarpet": [
           {
            "marker": {
             "colorbar": {
              "outlinewidth": 0,
              "ticks": ""
             }
            },
            "type": "scattercarpet"
           }
          ],
          "scattergeo": [
           {
            "marker": {
             "colorbar": {
              "outlinewidth": 0,
              "ticks": ""
             }
            },
            "type": "scattergeo"
           }
          ],
          "scattergl": [
           {
            "marker": {
             "colorbar": {
              "outlinewidth": 0,
              "ticks": ""
             }
            },
            "type": "scattergl"
           }
          ],
          "scattermapbox": [
           {
            "marker": {
             "colorbar": {
              "outlinewidth": 0,
              "ticks": ""
             }
            },
            "type": "scattermapbox"
           }
          ],
          "scatterpolar": [
           {
            "marker": {
             "colorbar": {
              "outlinewidth": 0,
              "ticks": ""
             }
            },
            "type": "scatterpolar"
           }
          ],
          "scatterpolargl": [
           {
            "marker": {
             "colorbar": {
              "outlinewidth": 0,
              "ticks": ""
             }
            },
            "type": "scatterpolargl"
           }
          ],
          "scatterternary": [
           {
            "marker": {
             "colorbar": {
              "outlinewidth": 0,
              "ticks": ""
             }
            },
            "type": "scatterternary"
           }
          ],
          "surface": [
           {
            "colorbar": {
             "outlinewidth": 0,
             "ticks": ""
            },
            "colorscale": [
             [
              0,
              "#0d0887"
             ],
             [
              0.1111111111111111,
              "#46039f"
             ],
             [
              0.2222222222222222,
              "#7201a8"
             ],
             [
              0.3333333333333333,
              "#9c179e"
             ],
             [
              0.4444444444444444,
              "#bd3786"
             ],
             [
              0.5555555555555556,
              "#d8576b"
             ],
             [
              0.6666666666666666,
              "#ed7953"
             ],
             [
              0.7777777777777778,
              "#fb9f3a"
             ],
             [
              0.8888888888888888,
              "#fdca26"
             ],
             [
              1,
              "#f0f921"
             ]
            ],
            "type": "surface"
           }
          ],
          "table": [
           {
            "cells": {
             "fill": {
              "color": "#EBF0F8"
             },
             "line": {
              "color": "white"
             }
            },
            "header": {
             "fill": {
              "color": "#C8D4E3"
             },
             "line": {
              "color": "white"
             }
            },
            "type": "table"
           }
          ]
         },
         "layout": {
          "annotationdefaults": {
           "arrowcolor": "#2a3f5f",
           "arrowhead": 0,
           "arrowwidth": 1
          },
          "coloraxis": {
           "colorbar": {
            "outlinewidth": 0,
            "ticks": ""
           }
          },
          "colorscale": {
           "diverging": [
            [
             0,
             "#8e0152"
            ],
            [
             0.1,
             "#c51b7d"
            ],
            [
             0.2,
             "#de77ae"
            ],
            [
             0.3,
             "#f1b6da"
            ],
            [
             0.4,
             "#fde0ef"
            ],
            [
             0.5,
             "#f7f7f7"
            ],
            [
             0.6,
             "#e6f5d0"
            ],
            [
             0.7,
             "#b8e186"
            ],
            [
             0.8,
             "#7fbc41"
            ],
            [
             0.9,
             "#4d9221"
            ],
            [
             1,
             "#276419"
            ]
           ],
           "sequential": [
            [
             0,
             "#0d0887"
            ],
            [
             0.1111111111111111,
             "#46039f"
            ],
            [
             0.2222222222222222,
             "#7201a8"
            ],
            [
             0.3333333333333333,
             "#9c179e"
            ],
            [
             0.4444444444444444,
             "#bd3786"
            ],
            [
             0.5555555555555556,
             "#d8576b"
            ],
            [
             0.6666666666666666,
             "#ed7953"
            ],
            [
             0.7777777777777778,
             "#fb9f3a"
            ],
            [
             0.8888888888888888,
             "#fdca26"
            ],
            [
             1,
             "#f0f921"
            ]
           ],
           "sequentialminus": [
            [
             0,
             "#0d0887"
            ],
            [
             0.1111111111111111,
             "#46039f"
            ],
            [
             0.2222222222222222,
             "#7201a8"
            ],
            [
             0.3333333333333333,
             "#9c179e"
            ],
            [
             0.4444444444444444,
             "#bd3786"
            ],
            [
             0.5555555555555556,
             "#d8576b"
            ],
            [
             0.6666666666666666,
             "#ed7953"
            ],
            [
             0.7777777777777778,
             "#fb9f3a"
            ],
            [
             0.8888888888888888,
             "#fdca26"
            ],
            [
             1,
             "#f0f921"
            ]
           ]
          },
          "colorway": [
           "#636efa",
           "#EF553B",
           "#00cc96",
           "#ab63fa",
           "#FFA15A",
           "#19d3f3",
           "#FF6692",
           "#B6E880",
           "#FF97FF",
           "#FECB52"
          ],
          "font": {
           "color": "#2a3f5f"
          },
          "geo": {
           "bgcolor": "white",
           "lakecolor": "white",
           "landcolor": "#E5ECF6",
           "showlakes": true,
           "showland": true,
           "subunitcolor": "white"
          },
          "hoverlabel": {
           "align": "left"
          },
          "hovermode": "closest",
          "mapbox": {
           "style": "light"
          },
          "paper_bgcolor": "white",
          "plot_bgcolor": "#E5ECF6",
          "polar": {
           "angularaxis": {
            "gridcolor": "white",
            "linecolor": "white",
            "ticks": ""
           },
           "bgcolor": "#E5ECF6",
           "radialaxis": {
            "gridcolor": "white",
            "linecolor": "white",
            "ticks": ""
           }
          },
          "scene": {
           "xaxis": {
            "backgroundcolor": "#E5ECF6",
            "gridcolor": "white",
            "gridwidth": 2,
            "linecolor": "white",
            "showbackground": true,
            "ticks": "",
            "zerolinecolor": "white"
           },
           "yaxis": {
            "backgroundcolor": "#E5ECF6",
            "gridcolor": "white",
            "gridwidth": 2,
            "linecolor": "white",
            "showbackground": true,
            "ticks": "",
            "zerolinecolor": "white"
           },
           "zaxis": {
            "backgroundcolor": "#E5ECF6",
            "gridcolor": "white",
            "gridwidth": 2,
            "linecolor": "white",
            "showbackground": true,
            "ticks": "",
            "zerolinecolor": "white"
           }
          },
          "shapedefaults": {
           "line": {
            "color": "#2a3f5f"
           }
          },
          "ternary": {
           "aaxis": {
            "gridcolor": "white",
            "linecolor": "white",
            "ticks": ""
           },
           "baxis": {
            "gridcolor": "white",
            "linecolor": "white",
            "ticks": ""
           },
           "bgcolor": "#E5ECF6",
           "caxis": {
            "gridcolor": "white",
            "linecolor": "white",
            "ticks": ""
           }
          },
          "title": {
           "x": 0.05
          },
          "xaxis": {
           "automargin": true,
           "gridcolor": "white",
           "linecolor": "white",
           "ticks": "",
           "title": {
            "standoff": 15
           },
           "zerolinecolor": "white",
           "zerolinewidth": 2
          },
          "yaxis": {
           "automargin": true,
           "gridcolor": "white",
           "linecolor": "white",
           "ticks": "",
           "title": {
            "standoff": 15
           },
           "zerolinecolor": "white",
           "zerolinewidth": 2
          }
         }
        },
        "title": {
         "text": "Box plot of total bill"
        },
        "xaxis": {
         "anchor": "y",
         "domain": [
          0,
          1
         ],
         "title": {
          "text": "type"
         }
        },
        "yaxis": {
         "anchor": "x",
         "domain": [
          0,
          1
         ],
         "title": {
          "text": "total"
         }
        }
       }
      },
      "text/html": [
       "<div>\n",
       "        \n",
       "        \n",
       "            <div id=\"14070fc1-8cf6-4db2-8647-a8c1b5cce9b9\" class=\"plotly-graph-div\" style=\"height:525px; width:100%;\"></div>\n",
       "            <script type=\"text/javascript\">\n",
       "                require([\"plotly\"], function(Plotly) {\n",
       "                    window.PLOTLYENV=window.PLOTLYENV || {};\n",
       "                    \n",
       "                if (document.getElementById(\"14070fc1-8cf6-4db2-8647-a8c1b5cce9b9\")) {\n",
       "                    Plotly.newPlot(\n",
       "                        '14070fc1-8cf6-4db2-8647-a8c1b5cce9b9',\n",
       "                        [{\"alignmentgroup\": \"True\", \"hoverlabel\": {\"namelength\": 0}, \"hovertemplate\": \"sex=F<br>type=%{x}<br>total=%{y}\", \"legendgroup\": \"F\", \"marker\": {\"color\": \"#636efa\"}, \"name\": \"F\", \"notched\": true, \"offsetgroup\": \"F\", \"orientation\": \"v\", \"showlegend\": true, \"type\": \"box\", \"x\": [\"intake\", \"graduate\", \"intake\", \"graduate\", \"intake\", \"graduate\", \"intake\", \"graduate\", \"intake\", \"graduate\", \"graduate\", \"intake\", \"intake\", \"graduate\", \"graduate\", \"intake\", \"graduate\", \"intake\", \"graduate\", \"intake\", \"graduate\", \"intake\", \"graduate\", \"intake\", \"graduate\", \"intake\", \"graduate\", \"intake\", \"intake\", \"graduate\"], \"x0\": \" \", \"xaxis\": \"x\", \"y\": [7326, 6601, 7377, 6671, 7390, 6844, 6950, 7160, 7307, 7440, 7636, 7863, 8285, 7836, 8811, 9099, 8649, 8538, 9731, 9084, 9065, 8781, 9146, 9200, 9440, 9929, 9577, 10175, 10423, 9647], \"y0\": \" \", \"yaxis\": \"y\"}, {\"alignmentgroup\": \"True\", \"hoverlabel\": {\"namelength\": 0}, \"hovertemplate\": \"sex=M<br>type=%{x}<br>total=%{y}\", \"legendgroup\": \"M\", \"marker\": {\"color\": \"#EF553B\"}, \"name\": \"M\", \"notched\": true, \"offsetgroup\": \"M\", \"orientation\": \"v\", \"showlegend\": true, \"type\": \"box\", \"x\": [\"graduate\", \"intake\", \"graduate\", \"intake\", \"intake\", \"graduate\", \"intake\", \"graduate\", \"graduate\", \"intake\", \"intake\", \"graduate\", \"intake\", \"graduate\", \"graduate\", \"intake\", \"graduate\", \"intake\", \"intake\", \"graduate\", \"graduate\", \"intake\", \"graduate\", \"intake\", \"graduate\", \"intake\", \"intake\", \"graduate\", \"intake\", \"graduate\"], \"x0\": \" \", \"xaxis\": \"x\", \"y\": [5553, 6092, 5380, 5869, 5999, 5679, 6161, 6359, 6220, 6470, 6853, 6490, 7332, 7031, 6929, 7106, 7218, 7299, 8183, 8388, 8253, 8067, 8357, 8213, 8116, 8475, 8948, 8375, 9544, 8773], \"y0\": \" \", \"yaxis\": \"y\"}],\n",
       "                        {\"boxmode\": \"group\", \"legend\": {\"title\": {\"text\": \"sex\"}, \"tracegroupgap\": 0}, \"template\": {\"data\": {\"bar\": [{\"error_x\": {\"color\": \"#2a3f5f\"}, \"error_y\": {\"color\": \"#2a3f5f\"}, \"marker\": {\"line\": {\"color\": \"#E5ECF6\", \"width\": 0.5}}, \"type\": \"bar\"}], \"barpolar\": [{\"marker\": {\"line\": {\"color\": \"#E5ECF6\", \"width\": 0.5}}, \"type\": \"barpolar\"}], \"carpet\": [{\"aaxis\": {\"endlinecolor\": \"#2a3f5f\", \"gridcolor\": \"white\", \"linecolor\": \"white\", \"minorgridcolor\": \"white\", \"startlinecolor\": \"#2a3f5f\"}, \"baxis\": {\"endlinecolor\": \"#2a3f5f\", \"gridcolor\": \"white\", \"linecolor\": \"white\", \"minorgridcolor\": \"white\", \"startlinecolor\": \"#2a3f5f\"}, \"type\": \"carpet\"}], \"choropleth\": [{\"colorbar\": {\"outlinewidth\": 0, \"ticks\": \"\"}, \"type\": \"choropleth\"}], \"contour\": [{\"colorbar\": {\"outlinewidth\": 0, \"ticks\": \"\"}, \"colorscale\": [[0.0, \"#0d0887\"], [0.1111111111111111, \"#46039f\"], [0.2222222222222222, \"#7201a8\"], [0.3333333333333333, \"#9c179e\"], [0.4444444444444444, \"#bd3786\"], [0.5555555555555556, \"#d8576b\"], [0.6666666666666666, \"#ed7953\"], [0.7777777777777778, \"#fb9f3a\"], [0.8888888888888888, \"#fdca26\"], [1.0, \"#f0f921\"]], \"type\": \"contour\"}], \"contourcarpet\": [{\"colorbar\": {\"outlinewidth\": 0, \"ticks\": \"\"}, \"type\": \"contourcarpet\"}], \"heatmap\": [{\"colorbar\": {\"outlinewidth\": 0, \"ticks\": \"\"}, \"colorscale\": [[0.0, \"#0d0887\"], [0.1111111111111111, \"#46039f\"], [0.2222222222222222, \"#7201a8\"], [0.3333333333333333, \"#9c179e\"], [0.4444444444444444, \"#bd3786\"], [0.5555555555555556, \"#d8576b\"], [0.6666666666666666, \"#ed7953\"], [0.7777777777777778, \"#fb9f3a\"], [0.8888888888888888, \"#fdca26\"], [1.0, \"#f0f921\"]], \"type\": \"heatmap\"}], \"heatmapgl\": [{\"colorbar\": {\"outlinewidth\": 0, \"ticks\": \"\"}, \"colorscale\": [[0.0, \"#0d0887\"], [0.1111111111111111, \"#46039f\"], [0.2222222222222222, \"#7201a8\"], [0.3333333333333333, \"#9c179e\"], [0.4444444444444444, \"#bd3786\"], [0.5555555555555556, \"#d8576b\"], [0.6666666666666666, \"#ed7953\"], [0.7777777777777778, \"#fb9f3a\"], [0.8888888888888888, \"#fdca26\"], [1.0, \"#f0f921\"]], \"type\": \"heatmapgl\"}], \"histogram\": [{\"marker\": {\"colorbar\": {\"outlinewidth\": 0, \"ticks\": \"\"}}, \"type\": \"histogram\"}], \"histogram2d\": [{\"colorbar\": {\"outlinewidth\": 0, \"ticks\": \"\"}, \"colorscale\": [[0.0, \"#0d0887\"], [0.1111111111111111, \"#46039f\"], [0.2222222222222222, \"#7201a8\"], [0.3333333333333333, \"#9c179e\"], [0.4444444444444444, \"#bd3786\"], [0.5555555555555556, \"#d8576b\"], [0.6666666666666666, \"#ed7953\"], [0.7777777777777778, \"#fb9f3a\"], [0.8888888888888888, \"#fdca26\"], [1.0, \"#f0f921\"]], \"type\": \"histogram2d\"}], \"histogram2dcontour\": [{\"colorbar\": {\"outlinewidth\": 0, \"ticks\": \"\"}, \"colorscale\": [[0.0, \"#0d0887\"], [0.1111111111111111, \"#46039f\"], [0.2222222222222222, \"#7201a8\"], [0.3333333333333333, \"#9c179e\"], [0.4444444444444444, \"#bd3786\"], [0.5555555555555556, \"#d8576b\"], [0.6666666666666666, \"#ed7953\"], [0.7777777777777778, \"#fb9f3a\"], [0.8888888888888888, \"#fdca26\"], [1.0, \"#f0f921\"]], \"type\": \"histogram2dcontour\"}], \"mesh3d\": [{\"colorbar\": {\"outlinewidth\": 0, \"ticks\": \"\"}, \"type\": \"mesh3d\"}], \"parcoords\": [{\"line\": {\"colorbar\": {\"outlinewidth\": 0, \"ticks\": \"\"}}, \"type\": \"parcoords\"}], \"pie\": [{\"automargin\": true, \"type\": \"pie\"}], \"scatter\": [{\"marker\": {\"colorbar\": {\"outlinewidth\": 0, \"ticks\": \"\"}}, \"type\": \"scatter\"}], \"scatter3d\": [{\"line\": {\"colorbar\": {\"outlinewidth\": 0, \"ticks\": \"\"}}, \"marker\": {\"colorbar\": {\"outlinewidth\": 0, \"ticks\": \"\"}}, \"type\": \"scatter3d\"}], \"scattercarpet\": [{\"marker\": {\"colorbar\": {\"outlinewidth\": 0, \"ticks\": \"\"}}, \"type\": \"scattercarpet\"}], \"scattergeo\": [{\"marker\": {\"colorbar\": {\"outlinewidth\": 0, \"ticks\": \"\"}}, \"type\": \"scattergeo\"}], \"scattergl\": [{\"marker\": {\"colorbar\": {\"outlinewidth\": 0, \"ticks\": \"\"}}, \"type\": \"scattergl\"}], \"scattermapbox\": [{\"marker\": {\"colorbar\": {\"outlinewidth\": 0, \"ticks\": \"\"}}, \"type\": \"scattermapbox\"}], \"scatterpolar\": [{\"marker\": {\"colorbar\": {\"outlinewidth\": 0, \"ticks\": \"\"}}, \"type\": \"scatterpolar\"}], \"scatterpolargl\": [{\"marker\": {\"colorbar\": {\"outlinewidth\": 0, \"ticks\": \"\"}}, \"type\": \"scatterpolargl\"}], \"scatterternary\": [{\"marker\": {\"colorbar\": {\"outlinewidth\": 0, \"ticks\": \"\"}}, \"type\": \"scatterternary\"}], \"surface\": [{\"colorbar\": {\"outlinewidth\": 0, \"ticks\": \"\"}, \"colorscale\": [[0.0, \"#0d0887\"], [0.1111111111111111, \"#46039f\"], [0.2222222222222222, \"#7201a8\"], [0.3333333333333333, \"#9c179e\"], [0.4444444444444444, \"#bd3786\"], [0.5555555555555556, \"#d8576b\"], [0.6666666666666666, \"#ed7953\"], [0.7777777777777778, \"#fb9f3a\"], [0.8888888888888888, \"#fdca26\"], [1.0, \"#f0f921\"]], \"type\": \"surface\"}], \"table\": [{\"cells\": {\"fill\": {\"color\": \"#EBF0F8\"}, \"line\": {\"color\": \"white\"}}, \"header\": {\"fill\": {\"color\": \"#C8D4E3\"}, \"line\": {\"color\": \"white\"}}, \"type\": \"table\"}]}, \"layout\": {\"annotationdefaults\": {\"arrowcolor\": \"#2a3f5f\", \"arrowhead\": 0, \"arrowwidth\": 1}, \"coloraxis\": {\"colorbar\": {\"outlinewidth\": 0, \"ticks\": \"\"}}, \"colorscale\": {\"diverging\": [[0, \"#8e0152\"], [0.1, \"#c51b7d\"], [0.2, \"#de77ae\"], [0.3, \"#f1b6da\"], [0.4, \"#fde0ef\"], [0.5, \"#f7f7f7\"], [0.6, \"#e6f5d0\"], [0.7, \"#b8e186\"], [0.8, \"#7fbc41\"], [0.9, \"#4d9221\"], [1, \"#276419\"]], \"sequential\": [[0.0, \"#0d0887\"], [0.1111111111111111, \"#46039f\"], [0.2222222222222222, \"#7201a8\"], [0.3333333333333333, \"#9c179e\"], [0.4444444444444444, \"#bd3786\"], [0.5555555555555556, \"#d8576b\"], [0.6666666666666666, \"#ed7953\"], [0.7777777777777778, \"#fb9f3a\"], [0.8888888888888888, \"#fdca26\"], [1.0, \"#f0f921\"]], \"sequentialminus\": [[0.0, \"#0d0887\"], [0.1111111111111111, \"#46039f\"], [0.2222222222222222, \"#7201a8\"], [0.3333333333333333, \"#9c179e\"], [0.4444444444444444, \"#bd3786\"], [0.5555555555555556, \"#d8576b\"], [0.6666666666666666, \"#ed7953\"], [0.7777777777777778, \"#fb9f3a\"], [0.8888888888888888, \"#fdca26\"], [1.0, \"#f0f921\"]]}, \"colorway\": [\"#636efa\", \"#EF553B\", \"#00cc96\", \"#ab63fa\", \"#FFA15A\", \"#19d3f3\", \"#FF6692\", \"#B6E880\", \"#FF97FF\", \"#FECB52\"], \"font\": {\"color\": \"#2a3f5f\"}, \"geo\": {\"bgcolor\": \"white\", \"lakecolor\": \"white\", \"landcolor\": \"#E5ECF6\", \"showlakes\": true, \"showland\": true, \"subunitcolor\": \"white\"}, \"hoverlabel\": {\"align\": \"left\"}, \"hovermode\": \"closest\", \"mapbox\": {\"style\": \"light\"}, \"paper_bgcolor\": \"white\", \"plot_bgcolor\": \"#E5ECF6\", \"polar\": {\"angularaxis\": {\"gridcolor\": \"white\", \"linecolor\": \"white\", \"ticks\": \"\"}, \"bgcolor\": \"#E5ECF6\", \"radialaxis\": {\"gridcolor\": \"white\", \"linecolor\": \"white\", \"ticks\": \"\"}}, \"scene\": {\"xaxis\": {\"backgroundcolor\": \"#E5ECF6\", \"gridcolor\": \"white\", \"gridwidth\": 2, \"linecolor\": \"white\", \"showbackground\": true, \"ticks\": \"\", \"zerolinecolor\": \"white\"}, \"yaxis\": {\"backgroundcolor\": \"#E5ECF6\", \"gridcolor\": \"white\", \"gridwidth\": 2, \"linecolor\": \"white\", \"showbackground\": true, \"ticks\": \"\", \"zerolinecolor\": \"white\"}, \"zaxis\": {\"backgroundcolor\": \"#E5ECF6\", \"gridcolor\": \"white\", \"gridwidth\": 2, \"linecolor\": \"white\", \"showbackground\": true, \"ticks\": \"\", \"zerolinecolor\": \"white\"}}, \"shapedefaults\": {\"line\": {\"color\": \"#2a3f5f\"}}, \"ternary\": {\"aaxis\": {\"gridcolor\": \"white\", \"linecolor\": \"white\", \"ticks\": \"\"}, \"baxis\": {\"gridcolor\": \"white\", \"linecolor\": \"white\", \"ticks\": \"\"}, \"bgcolor\": \"#E5ECF6\", \"caxis\": {\"gridcolor\": \"white\", \"linecolor\": \"white\", \"ticks\": \"\"}}, \"title\": {\"x\": 0.05}, \"xaxis\": {\"automargin\": true, \"gridcolor\": \"white\", \"linecolor\": \"white\", \"ticks\": \"\", \"title\": {\"standoff\": 15}, \"zerolinecolor\": \"white\", \"zerolinewidth\": 2}, \"yaxis\": {\"automargin\": true, \"gridcolor\": \"white\", \"linecolor\": \"white\", \"ticks\": \"\", \"title\": {\"standoff\": 15}, \"zerolinecolor\": \"white\", \"zerolinewidth\": 2}}}, \"title\": {\"text\": \"Box plot of total bill\"}, \"xaxis\": {\"anchor\": \"y\", \"domain\": [0.0, 1.0], \"title\": {\"text\": \"type\"}}, \"yaxis\": {\"anchor\": \"x\", \"domain\": [0.0, 1.0], \"title\": {\"text\": \"total\"}}},\n",
       "                        {\"responsive\": true}\n",
       "                    ).then(function(){\n",
       "                            \n",
       "var gd = document.getElementById('14070fc1-8cf6-4db2-8647-a8c1b5cce9b9');\n",
       "var x = new MutationObserver(function (mutations, observer) {{\n",
       "        var display = window.getComputedStyle(gd).display;\n",
       "        if (!display || display === 'none') {{\n",
       "            console.log([gd, 'removed!']);\n",
       "            Plotly.purge(gd);\n",
       "            observer.disconnect();\n",
       "        }}\n",
       "}});\n",
       "\n",
       "// Listen for the removal of the full notebook cells\n",
       "var notebookContainer = gd.closest('#notebook-container');\n",
       "if (notebookContainer) {{\n",
       "    x.observe(notebookContainer, {childList: true});\n",
       "}}\n",
       "\n",
       "// Listen for the clearing of the current output cell\n",
       "var outputEl = gd.closest('.output');\n",
       "if (outputEl) {{\n",
       "    x.observe(outputEl, {childList: true});\n",
       "}}\n",
       "\n",
       "                        })\n",
       "                };\n",
       "                });\n",
       "            </script>\n",
       "        </div>"
      ]
     },
     "metadata": {},
     "output_type": "display_data"
    }
   ],
   "source": [
    "import plotly.express as px\n",
    "fig = px.box(intake_grad, x=\"type\", y=\"total\", color=\"sex\",\n",
    "             notched = True, # used notched shape\n",
    "             title=\"Box plot of total bill\") \n",
    "fig.show()"
   ]
  },
  {
   "cell_type": "code",
   "execution_count": 22,
   "metadata": {},
   "outputs": [
    {
     "data": {
      "text/html": [
       "<div>\n",
       "<style scoped>\n",
       "    .dataframe tbody tr th:only-of-type {\n",
       "        vertical-align: middle;\n",
       "    }\n",
       "\n",
       "    .dataframe tbody tr th {\n",
       "        vertical-align: top;\n",
       "    }\n",
       "\n",
       "    .dataframe thead th {\n",
       "        text-align: right;\n",
       "    }\n",
       "</style>\n",
       "<table border=\"1\" class=\"dataframe\">\n",
       "  <thead>\n",
       "    <tr style=\"text-align: right;\">\n",
       "      <th></th>\n",
       "      <th></th>\n",
       "      <th>sex</th>\n",
       "      <th>no_of_graduates</th>\n",
       "    </tr>\n",
       "    <tr>\n",
       "      <th>year</th>\n",
       "      <th>type_of_course</th>\n",
       "      <th></th>\n",
       "      <th></th>\n",
       "    </tr>\n",
       "  </thead>\n",
       "  <tbody>\n",
       "    <tr>\n",
       "      <td rowspan=\"5\" valign=\"top\">2000</td>\n",
       "      <td>Education</td>\n",
       "      <td>Males</td>\n",
       "      <td>35</td>\n",
       "    </tr>\n",
       "    <tr>\n",
       "      <td>Applied Arts</td>\n",
       "      <td>Males</td>\n",
       "      <td>0</td>\n",
       "    </tr>\n",
       "    <tr>\n",
       "      <td>Humanities &amp; Social Sciences</td>\n",
       "      <td>Males</td>\n",
       "      <td>574</td>\n",
       "    </tr>\n",
       "    <tr>\n",
       "      <td>Mass Communication</td>\n",
       "      <td>Males</td>\n",
       "      <td>34</td>\n",
       "    </tr>\n",
       "    <tr>\n",
       "      <td>Accountancy</td>\n",
       "      <td>Males</td>\n",
       "      <td>250</td>\n",
       "    </tr>\n",
       "    <tr>\n",
       "      <td>...</td>\n",
       "      <td>...</td>\n",
       "      <td>...</td>\n",
       "      <td>...</td>\n",
       "    </tr>\n",
       "    <tr>\n",
       "      <td rowspan=\"5\" valign=\"top\">2014</td>\n",
       "      <td>Health Sciences</td>\n",
       "      <td>Females</td>\n",
       "      <td>309</td>\n",
       "    </tr>\n",
       "    <tr>\n",
       "      <td>Information Technology</td>\n",
       "      <td>Females</td>\n",
       "      <td>289</td>\n",
       "    </tr>\n",
       "    <tr>\n",
       "      <td>Architecture &amp; Building</td>\n",
       "      <td>Females</td>\n",
       "      <td>258</td>\n",
       "    </tr>\n",
       "    <tr>\n",
       "      <td>Engineering Sciences</td>\n",
       "      <td>Females</td>\n",
       "      <td>1251</td>\n",
       "    </tr>\n",
       "    <tr>\n",
       "      <td>Services</td>\n",
       "      <td>Females</td>\n",
       "      <td>219</td>\n",
       "    </tr>\n",
       "  </tbody>\n",
       "</table>\n",
       "<p>450 rows × 2 columns</p>\n",
       "</div>"
      ],
      "text/plain": [
       "                                       sex  no_of_graduates\n",
       "year type_of_course                                        \n",
       "2000 Education                       Males               35\n",
       "     Applied Arts                    Males                0\n",
       "     Humanities & Social Sciences    Males              574\n",
       "     Mass Communication              Males               34\n",
       "     Accountancy                     Males              250\n",
       "...                                    ...              ...\n",
       "2014 Health Sciences               Females              309\n",
       "     Information Technology        Females              289\n",
       "     Architecture & Building       Females              258\n",
       "     Engineering Sciences          Females             1251\n",
       "     Services                      Females              219\n",
       "\n",
       "[450 rows x 2 columns]"
      ]
     },
     "execution_count": 22,
     "metadata": {},
     "output_type": "execute_result"
    }
   ],
   "source": [
    "firstgrad = pd.read_csv(r\"C:\\Users\\Jurgen\\Desktop\\PDS-Assignment-1\\Assignment 2\\Raw Data\\graduates-from-university-first-degree-courses-by-type-of-course.csv\",\n",
    "                       na_values = \"na\")\n",
    "firstgrad = firstgrad[firstgrad.year >= 2000].reset_index(drop = True).set_index([\"year\", \"type_of_course\"])\n",
    "# firstgrad = firstgrad[firstgrad.type_of_course.isin([\"Engineering Sciences\", \n",
    "#                                                      \"Humanities & Social Sciences\", \n",
    "#                                                      \"Natural, Physical & Mathematical Sciences\"])].reset_index(drop = True).set_index([\"year\", \"type_of_course\"])\n",
    "firstgrad.no_of_graduates = firstgrad.no_of_graduates.fillna(0).astype(int)\n",
    "firstgrad"
   ]
  },
  {
   "cell_type": "code",
   "execution_count": null,
   "metadata": {},
   "outputs": [],
   "source": [
    "\n",
    "firstgrad[\"total\"] = firstgrad.no_of_graduates.groupby(level=[\"year\", \"type_of_course\"]).sum()\n",
    "# firstgrad\n",
    "# type(total)"
   ]
  },
  {
   "cell_type": "code",
   "execution_count": null,
   "metadata": {},
   "outputs": [],
   "source": [
    "firstgrad = firstgrad.reset_index()\n",
    "# firstgrad"
   ]
  },
  {
   "cell_type": "code",
   "execution_count": null,
   "metadata": {},
   "outputs": [],
   "source": [
    "lineplot = sns.lineplot(x=\"year\", y=\"total\", hue = \"type_of_course\", marker = \"o\", data=firstgrad, palette=\"nipy_spectral\")\n",
    "\n",
    "\n",
    "plt.legend(loc='upper left')\n",
    "boxplot.set(xlabel='Year', ylabel='Graduates', title=\"Number Of Graduates In Different Faculties Over The Years\")\n",
    "plt.show(lineplot)"
   ]
  },
  {
   "cell_type": "code",
   "execution_count": null,
   "metadata": {},
   "outputs": [],
   "source": [
    "employment = pd.read_csv(r\"C:\\Users\\jurge\\Desktop\\School Related\\PDS-Assignment-1\\Assignment 2\\Raw Data\\graduate-employment-survey-ntu-nus-sit-smu-sutd.csv\", \n",
    "                         na_values = \"na\").fillna(0)\n",
    "employment = employment[employment.university == \"National University of Singapore\"]\n",
    "employment = employment[employment.school.isin([\"Faculty of Arts & Social Sciences\", \"Faculty of Engineering\", \"Faculty of Science\"])]\n",
    "# employment"
   ]
  },
  {
   "cell_type": "code",
   "execution_count": null,
   "metadata": {},
   "outputs": [],
   "source": []
  },
  {
   "cell_type": "code",
   "execution_count": null,
   "metadata": {},
   "outputs": [],
   "source": [
    "#In accordance to top 3 courses intake in NUS, the graduation will be from these faculties\n",
    "#Engineering Sciences, Humanities & Social Sciences, Natural, Physical & Mathematical Sciences\n",
    "\n",
    "scatterplot = sns.scatterplot(x=employment.employment_rate_ft_perm , \n",
    "                              y=employment.gross_monthly_mean, \n",
    "                              hue=employment.school, \n",
    "                              style = employment.school,\n",
    "                              data=employment)\n",
    "\n",
    "\n",
    "scatterplot.set_ylim([2000, 4500])\n",
    "scatterplot.set_xlim([45, 100])\n",
    "scatterplot.set(xlabel='Employment Rate(Full Time)',\n",
    "                ylabel='Gross Monthly Mean Salary', \n",
    "                title=\"Trend Of Employment Rate Against Gross Monthly Mean Salary\")\n",
    "plt.show(scatterplot)"
   ]
  },
  {
   "cell_type": "code",
   "execution_count": null,
   "metadata": {},
   "outputs": [],
   "source": [
    "overseas = pd.read_csv(r\"C:\\Users\\Jurgen\\Desktop\\PDS-Assignment-1\\Assignment 2\\After Cleansing\\overseas_data.csv\")\n",
    "overseas"
   ]
  },
  {
   "cell_type": "code",
   "execution_count": null,
   "metadata": {},
   "outputs": [],
   "source": [
    "labels = overseas.Field.unique()\n",
    "sg = overseas[overseas.Country == \"Singapore\"]\n",
    "overseas = overseas[overseas.Country == \"Outside Singapore- Total\"]"
   ]
  },
  {
   "cell_type": "code",
   "execution_count": null,
   "metadata": {},
   "outputs": [],
   "source": [
    "import plotly.graph_objects as go\n",
    "from plotly.subplots import make_subplots\n",
    "\n",
    "\n",
    "fig = make_subplots(rows=1, cols=2, specs=[[{'type':'domain'}, {'type':'domain'}]])\n",
    "fig.add_trace(go.Pie(labels=labels, values=sg[\"Graduates (Thousands)\"], name=\"Singapore\"),\n",
    "              1, 1)\n",
    "fig.add_trace(go.Pie(labels=labels, values=overseas[\"Graduates (Thousands)\"], name=\"Abroad\"),\n",
    "              1, 2)\n",
    "\n",
    "\n",
    "fig.update_traces(hole=.4, hoverinfo=\"label+percent+name\")\n",
    "\n",
    "fig.update_layout(\n",
    "    title_text=\"Singapore vs Abroad\",\n",
    "    # Add annotations in the center of the donut pies.\n",
    "    annotations=[dict(text='Singapore', x=0.15, y=0.5, font_size=15, showarrow=False),\n",
    "                 dict(text='Abroad', x=0.83, y=0.5, font_size=15, showarrow=False)])\n",
    "fig.show()\n",
    "\n",
    "\n",
    "# Use `hole` to create a donut-like pie chart\n",
    "# fig = go.Figure(data=[go.Pie(labels=labels, values=values, hole=.3)])\n",
    "# fig.update_traces(textposition='inside', textinfo='percent+label', title_text='Types Of Courses Chosen For Overseas University In 2015')\n",
    "# fig.show()"
   ]
  },
  {
   "cell_type": "code",
   "execution_count": null,
   "metadata": {},
   "outputs": [],
   "source": [
    "# import plotly.express as px\n",
    "\n",
    "# # df = px.data.gapminder().query(\"year == 2007\").query(\"continent == 'Europe'\")\n",
    "# # df.loc[df['pop'] < 2.e6, 'country'] = 'Other countries' # Represent only large countries\n",
    "# fig = px.pie(overseas, values = \"Graduates (Thousands)\", names=\"Field\",\n",
    "#              title='Types Of Courses Chosen For Overseas University In 2015')\n",
    "\n",
    "# fig.update_traces(textposition='inside', textinfo='percent+label')\n",
    "# fig.show()"
   ]
  },
  {
   "cell_type": "code",
   "execution_count": null,
   "metadata": {},
   "outputs": [],
   "source": [
    "!pip install plotly"
   ]
  }
 ],
 "metadata": {
  "kernelspec": {
   "display_name": "Python 3",
   "language": "python",
   "name": "python3"
  },
  "language_info": {
   "codemirror_mode": {
    "name": "ipython",
    "version": 3
   },
   "file_extension": ".py",
   "mimetype": "text/x-python",
   "name": "python",
   "nbconvert_exporter": "python",
   "pygments_lexer": "ipython3",
   "version": "3.7.4"
  }
 },
 "nbformat": 4,
 "nbformat_minor": 2
}
