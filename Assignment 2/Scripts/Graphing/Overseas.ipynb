{
 "cells": [
  {
   "cell_type": "code",
   "execution_count": null,
   "metadata": {},
   "outputs": [],
   "source": [
    "import pandas as pd\n",
    "import numpy as np\n",
    "import seaborn as sns\n",
    "import matplotlib.pyplot as plt\n",
    "\n",
    "overseas = pd.read_csv(r\"~\\Desktop\\PDS-Assignment-1\\Assignment 2\\After Cleansing\\overseas_data.csv\")\n",
    "overseas"
   ]
  },
  {
   "cell_type": "code",
   "execution_count": null,
   "metadata": {},
   "outputs": [],
   "source": [
    "labels = overseas.Field.unique()\n",
    "sg = overseas[overseas.Country == \"Singapore\"]\n",
    "overseas = overseas[overseas.Country == \"Outside Singapore- Total\"]"
   ]
  },
  {
   "cell_type": "code",
   "execution_count": null,
   "metadata": {},
   "outputs": [],
   "source": [
    "import plotly.graph_objects as go\n",
    "from plotly.subplots import make_subplots\n",
    "\n",
    "\n",
    "fig = make_subplots(rows=1, cols=2, specs=[[{'type':'domain'}, {'type':'domain'}]])\n",
    "fig.add_trace(go.Pie(labels=labels, values=sg[\"Graduates (Thousands)\"], name=\"Singapore\"),\n",
    "              1, 1)\n",
    "fig.add_trace(go.Pie(labels=labels, values=overseas[\"Graduates (Thousands)\"], name=\"Abroad\"),\n",
    "              1, 2)\n",
    "\n",
    "\n",
    "fig.update_traces(hole=.4, hoverinfo=\"label+percent\")\n",
    "\n",
    "fig.update_layout(\n",
    "    title_text=\"Singapore vs Abroad\",\n",
    "    annotations=[dict(text='Singapore', x=0.15, y=0.5, font_size=15, showarrow=False),\n",
    "                 dict(text='Abroad', x=0.83, y=0.5, font_size=15, showarrow=False)])\n",
    "fig.show()\n"
   ]
  }
 ],
 "metadata": {
  "kernelspec": {
   "display_name": "Python 3",
   "language": "python",
   "name": "python3"
  },
  "language_info": {
   "codemirror_mode": {
    "name": "ipython",
    "version": 3
   },
   "file_extension": ".py",
   "mimetype": "text/x-python",
   "name": "python",
   "nbconvert_exporter": "python",
   "pygments_lexer": "ipython3",
   "version": "3.7.4"
  }
 },
 "nbformat": 4,
 "nbformat_minor": 2
}
