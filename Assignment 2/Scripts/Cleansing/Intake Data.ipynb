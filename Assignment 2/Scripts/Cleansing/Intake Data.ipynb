{
 "cells": [
  {
   "cell_type": "code",
   "execution_count": null,
   "metadata": {},
   "outputs": [],
   "source": [
    "import pandas as pd\n",
    "import numpy as np\n"
   ]
  },
  {
   "cell_type": "code",
   "execution_count": null,
   "metadata": {
    "scrolled": true
   },
   "outputs": [],
   "source": [
    "intake = pd.read_csv(r\"C:\\Users\\Jurgen\\Desktop\\PDS-Assignment-1\\Assignment 2\\Raw Data\\intake-by-institutions.csv\", na_values = \"-\")\n",
    "intake = intake[intake.year <= 2014].set_index(\"year\")\n",
    "intake = intake.fillna(0)\n",
    "\n",
    "intake"
   ]
  },
  {
   "cell_type": "code",
   "execution_count": null,
   "metadata": {},
   "outputs": [],
   "source": [
    "intake_f = intake[intake.sex.isin([\"F\"])].drop(columns = \"sex\")\n",
    "intake_mf = intake[intake.sex.isin([\"MF\"])].drop(columns = \"sex\")\n",
    "intake_m = intake_mf.subtract(intake_f, axis = 0)\n",
    "\n",
    "intake_m[\"sex\"] = \"M\"\n",
    "intake_m"
   ]
  },
  {
   "cell_type": "code",
   "execution_count": null,
   "metadata": {},
   "outputs": [],
   "source": [
    "intake_all = pd.concat([intake_m, intake], sort = True).sort_index()\n",
    "intake_all = intake_all.reset_index().set_index([\"year\", \"sex\"])\n",
    "\n",
    "\n",
    "col = intake_all.columns\n",
    "for value in col:\n",
    "    intake_all[value] = intake_all[value].astype(\"int32\")\n",
    "intake_all.info()\n",
    "\n",
    "intake_all.to_csv(r\"C:\\Users\\Jurgen\\Desktop\\PDS-Assignment-1\\Assignment 2\\After Cleansing\\intake_data.csv\")\n",
    "# intake_all"
   ]
  },
  {
   "cell_type": "code",
   "execution_count": null,
   "metadata": {},
   "outputs": [],
   "source": [
    "intake.to_csv(r\"C:\\Users\\Jurgen\\Desktop\\PDS-Assignment-1\\Assignment 2\\After Cleansing\\intake_data.csv\")"
   ]
  },
  {
   "cell_type": "code",
   "execution_count": null,
   "metadata": {},
   "outputs": [],
   "source": [
    "# male = []\n",
    "# for i in range(len(intake)-1):\n",
    "#     if intake.index[i][0] == intake.index[i+1][0]:\n",
    "#         male.append((intake.iloc[i] - intake.iloc[i + 1]))"
   ]
  },
  {
   "cell_type": "code",
   "execution_count": null,
   "metadata": {},
   "outputs": [],
   "source": [
    "# male_data = pd.DataFrame(columns = [\"year\",\n",
    "#                                \"sex\",\n",
    "#                                \"nus\", \n",
    "#                                \"ntu\",\n",
    "#                                \"smu\", \n",
    "#                                \"sit\", \n",
    "#                                \"sutd\",\n",
    "#                                \"suss\", \n",
    "#                                \"nie\", \n",
    "#                                \"singapore_polytechnic\",\n",
    "#                                \"ngee_ann_polytechnic\", \n",
    "#                                \"temasek_polytechnic\",\n",
    "#                                \"nanyang_polytechnic\", \n",
    "#                                \"republic_polytechnic\", \n",
    "#                                \"lasalle_diploma\",\n",
    "#                                \"lasalle_degree\", \n",
    "#                                \"nafa_diploma\", \n",
    "#                                \"nafa_degree\", \n",
    "#                                \"ite\"])\n",
    "\n",
    "# for i in range(len(male)):\n",
    "#     male_data = male_data.append({\"year\" : intake.index[i*2][0],\n",
    "#                 \"sex\" : \"M\",\n",
    "#                 \"nus\" : int(male[i][0]),\n",
    "#                 \"ntu\" : int(male[i][1]),\n",
    "#                 \"smu\" : int(male[i][2]),\n",
    "#                 \"sit\" : int(male[i][3]),\n",
    "#                 \"sutd\": int(male[i][4]),\n",
    "#                 \"suss\" : int(male[i][5]),\n",
    "#                 \"nie\" : int(male[i][6]),\n",
    "#                 \"singapore_polytechnic\" : int(male[i][7]),\n",
    "#                 \"ngee_ann_polytechnic\" : int(male[i][8]),\n",
    "#                 \"temasek_polytechnic\" : int(male[i][9]),\n",
    "#                 \"nanyang_polytechnic\" : int(male[i][10]),\n",
    "#                 \"republic_polytechnic\" : int(male[i][11]),\n",
    "#                 \"lasalle_diploma\" : int(male[i][12]),\n",
    "#                 \"lasalle_degree\" : int(male[i][13]),\n",
    "#                 \"nafa_diploma\" : int(male[i][14]),\n",
    "#                 \"nafa_degree\" : int(male[i][15]),\n",
    "#                 \"ite\" :  int(male[i][16])}, ignore_index=True)"
   ]
  },
  {
   "cell_type": "code",
   "execution_count": null,
   "metadata": {
    "scrolled": false
   },
   "outputs": [],
   "source": [
    "# male_data = male_data.set_index([\"year\", \"sex\"])\n",
    "# male_data"
   ]
  },
  {
   "cell_type": "code",
   "execution_count": null,
   "metadata": {
    "scrolled": true
   },
   "outputs": [],
   "source": [
    "# intake = pd.concat([male_data, intake], sort = True).sort_index()\n",
    "# intake"
   ]
  }
 ],
 "metadata": {
  "kernelspec": {
   "display_name": "Python 3",
   "language": "python",
   "name": "python3"
  },
  "language_info": {
   "codemirror_mode": {
    "name": "ipython",
    "version": 3
   },
   "file_extension": ".py",
   "mimetype": "text/x-python",
   "name": "python",
   "nbconvert_exporter": "python",
   "pygments_lexer": "ipython3",
   "version": "3.7.4"
  }
 },
 "nbformat": 4,
 "nbformat_minor": 2
}
