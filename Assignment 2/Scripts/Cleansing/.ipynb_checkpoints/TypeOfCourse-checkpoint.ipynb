{
 "cells": [
  {
   "cell_type": "code",
   "execution_count": null,
   "metadata": {},
   "outputs": [],
   "source": [
    "import pandas as pd"
   ]
  },
  {
   "cell_type": "code",
   "execution_count": null,
   "metadata": {},
   "outputs": [],
   "source": [
    "coursegrad = pd.read_csv(r\"C:\\Users\\Jurgen\\Desktop\\PDS-Assignment-1\\Assignment 2\\Raw Data\\graduates-from-university-first-degree-courses-by-type-of-course.csv\",\n",
    "                        na_values = \"na\")\n",
    "coursegrad = coursegrad[coursegrad.year >= 2014].set_index(\"year\")\n",
    "coursegrad = coursegrad.fillna(0)\n",
    "coursegrad.no_of_graduates = coursegrad.no_of_graduates.astype(\"int32\")\n",
    "coursegrad"
   ]
  },
  {
   "cell_type": "code",
   "execution_count": null,
   "metadata": {},
   "outputs": [],
   "source": []
  }
 ],
 "metadata": {
  "kernelspec": {
   "display_name": "Python 3",
   "language": "python",
   "name": "python3"
  },
  "language_info": {
   "codemirror_mode": {
    "name": "ipython",
    "version": 3
   },
   "file_extension": ".py",
   "mimetype": "text/x-python",
   "name": "python",
   "nbconvert_exporter": "python",
   "pygments_lexer": "ipython3",
   "version": "3.7.4"
  }
 },
 "nbformat": 4,
 "nbformat_minor": 2
}
