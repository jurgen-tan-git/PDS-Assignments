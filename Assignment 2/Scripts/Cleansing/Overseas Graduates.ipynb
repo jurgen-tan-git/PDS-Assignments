{
 "cells": [
  {
   "cell_type": "code",
   "execution_count": null,
   "metadata": {},
   "outputs": [],
   "source": [
    "import pandas as pd"
   ]
  },
  {
   "cell_type": "code",
   "execution_count": null,
   "metadata": {},
   "outputs": [],
   "source": [
    "overseasgrad = pd.read_csv(r\"C:\\Users\\Jurgen\\Desktop\\PDS-Assignment-1\\Assignment 2\\Raw Data\\resident-uni-grads-aged-15-yrs-over-by-field-of-study-country-where-hqa-sex.csv\",\n",
    "                          index_col = [\"year\"]).rename(columns = {\"level_1\" : \"Country\",\n",
    "                                                                  \"level_2\" : \"Gender\",\n",
    "                                                                  \"level_4\" : \"Field\",\n",
    "                                                                  \"value\" : \"Graduates (Thousands)\"}).drop(columns = \"level_3\")\n",
    "overseasgrad"
   ]
  },
  {
   "cell_type": "code",
   "execution_count": null,
   "metadata": {},
   "outputs": [],
   "source": [
    "# overseasgrad = overseasgrad[overseasgrad.Country.str.contains('^Outside')]"
   ]
  },
  {
   "cell_type": "code",
   "execution_count": null,
   "metadata": {},
   "outputs": [],
   "source": [
    "overseasgrad = overseasgrad[overseasgrad.Country.isin([\"Outside Singapore- Total\", \"Singapore\"])]\n",
    "overseasgrad = overseasgrad[overseasgrad.Gender == \"Total\"]\n",
    "overseasgrad"
   ]
  },
  {
   "cell_type": "code",
   "execution_count": null,
   "metadata": {},
   "outputs": [],
   "source": [
    "overseasgrad.to_csv(r\"C:\\Users\\jurge\\Desktop\\School Related\\PDS-Assignment-1\\Assignment 2\\After Cleansing\\oveseas_data.csv\")"
   ]
  }
 ],
 "metadata": {
  "kernelspec": {
   "display_name": "Python 3",
   "language": "python",
   "name": "python3"
  },
  "language_info": {
   "codemirror_mode": {
    "name": "ipython",
    "version": 3
   },
   "file_extension": ".py",
   "mimetype": "text/x-python",
   "name": "python",
   "nbconvert_exporter": "python",
   "pygments_lexer": "ipython3",
   "version": "3.7.4"
  }
 },
 "nbformat": 4,
 "nbformat_minor": 2
}
