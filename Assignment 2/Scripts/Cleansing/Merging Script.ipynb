{
 "cells": [
  {
   "cell_type": "code",
   "execution_count": 2,
   "metadata": {},
   "outputs": [],
   "source": [
    "import pandas as pd"
   ]
  },
  {
   "cell_type": "code",
   "execution_count": 4,
   "metadata": {},
   "outputs": [],
   "source": [
    "path = r\"C:\\Users\\Jurgen\\Desktop\\PDS-Assignment-1\\Assignment 2\\After Cleansing\"\n",
    "columns = [\"ite\", \"lasalle_diploma\", \"nafa_diploma\", \"nanyang_polytechnic\", \"ngee_ann_polytechnic\", \n",
    "           \"republic_polytechnic\", \"singapore_polytechnic\", \"temasek_polytechnic\"]\n",
    "enroll = pd.read_csv(path + \"\\enroll_data.csv\").drop(columns = columns).set_index([\"year\", \"sex\"])\n",
    "intake = pd.read_csv(path + \"\\intake_data.csv\").drop(columns = columns).set_index([\"year\", \"sex\"])\n",
    "graduate = pd.read_csv(path + \"\\graduate_data.csv\").drop(columns = columns)\n",
    "graduate.year = (graduate.year)-4\n",
    "graduate = graduate.set_index([\"year\", \"sex\"])"
   ]
  },
  {
   "cell_type": "code",
   "execution_count": 5,
   "metadata": {},
   "outputs": [],
   "source": [
    "enroll[\"total\"] = enroll.sum(axis=1)\n",
    "intake[\"total\"] = intake.sum(axis=1)\n",
    "graduate[\"total\"] = graduate.sum(axis=1)"
   ]
  },
  {
   "cell_type": "code",
   "execution_count": 6,
   "metadata": {},
   "outputs": [],
   "source": [
    "enroll[\"type\"] = \"enroll\"\n",
    "intake[\"type\"] = \"intake\"\n",
    "graduate[\"type\"] = \"graduate\""
   ]
  },
  {
   "cell_type": "code",
   "execution_count": 12,
   "metadata": {},
   "outputs": [],
   "source": [
    "pd.concat([enroll, intake, graduate]).to_csv(r\"C:\\Users\\Jurgen\\Desktop\\PDS-Assignment-1\\Assignment 2\\After Cleansing\\Merged.csv\")"
   ]
  }
 ],
 "metadata": {
  "kernelspec": {
   "display_name": "Python 3",
   "language": "python",
   "name": "python3"
  },
  "language_info": {
   "codemirror_mode": {
    "name": "ipython",
    "version": 3
   },
   "file_extension": ".py",
   "mimetype": "text/x-python",
   "name": "python",
   "nbconvert_exporter": "python",
   "pygments_lexer": "ipython3",
   "version": "3.7.3"
  }
 },
 "nbformat": 4,
 "nbformat_minor": 2
}
