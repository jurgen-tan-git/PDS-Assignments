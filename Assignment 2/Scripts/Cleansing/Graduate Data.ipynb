{
 "cells": [
  {
   "cell_type": "code",
   "execution_count": null,
   "metadata": {},
   "outputs": [],
   "source": [
    "import pandas as pd\n",
    "import numpy as np"
   ]
  },
  {
   "cell_type": "code",
   "execution_count": null,
   "metadata": {
    "scrolled": true
   },
   "outputs": [],
   "source": [
    "graduate = pd.read_csv(r\"C:\\Users\\Jurgen\\Desktop\\PDS-Assignment-1\\Assignment 2\\Raw Data\\graduates-by-institutions.csv\", \n",
    "                       na_values = \"-\")\n",
    "graduate = graduate[graduate.year >= 1986].set_index(\"year\")\n",
    "graduate = graduate.fillna(0)\n",
    "# graduate = graduate.dropna()\n",
    "graduate\n"
   ]
  },
  {
   "cell_type": "code",
   "execution_count": null,
   "metadata": {},
   "outputs": [],
   "source": [
    "graduate_f = graduate[graduate.sex.isin([\"F\"])].drop(columns = \"sex\")\n",
    "graduate_mf = graduate[graduate.sex.isin([\"MF\"])].drop(columns = \"sex\")\n",
    "graduate_m = graduate.subtract(graduate_f, axis = 0)\n",
    "graduate_m[\"sex\"] = \"M\"\n",
    "\n",
    "# graduate_m"
   ]
  },
  {
   "cell_type": "code",
   "execution_count": null,
   "metadata": {},
   "outputs": [],
   "source": [
    "graduate_f = graduate[graduate.sex.isin([\"F\"])].drop(columns = \"sex\")\n",
    "graduate_mf = graduate[graduate.sex.isin([\"MF\"])].drop(columns = \"sex\")\n",
    "graduate_m = graduate_mf.subtract(graduate_f, axis = 0)\n",
    "graduate_m[\"sex\"] = \"M\"\n",
    "graduate_m"
   ]
  },
  {
   "cell_type": "code",
   "execution_count": null,
   "metadata": {},
   "outputs": [],
   "source": [
    "graduate_all = pd.concat([graduate_m, graduate], sort = True).sort_index()\n",
    "graduate_all = graduate_all.reset_index().set_index([\"year\", \"sex\"])\n",
    "\n",
    "\n",
    "col = graduate_all.columns\n",
    "for value in col:\n",
    "    graduate_all[value] = graduate_all[value].astype(\"int32\")\n",
    "graduate_all.info()\n",
    "\n",
    "graduate_all.to_csv(r\"C:\\Users\\Jurgen\\Desktop\\PDS-Assignment-1\\Assignment 2\\After Cleansing\\graduate_data.csv\")"
   ]
  },
  {
   "cell_type": "code",
   "execution_count": null,
   "metadata": {},
   "outputs": [],
   "source": [
    "# male = []\n",
    "# for i in range(len(graduate)-1):\n",
    "#     if graduate.index[i][0] == graduate.index[i+1][0]:\n",
    "#         male.append((graduate.iloc[i] - graduate.iloc[i + 1]))"
   ]
  },
  {
   "cell_type": "code",
   "execution_count": null,
   "metadata": {},
   "outputs": [],
   "source": [
    "# male_data = pd.DataFrame(columns = [\"year\",\n",
    "#                                \"sex\",\n",
    "#                                \"nus\", \n",
    "#                                \"ntu\",\n",
    "#                                \"smu\", \n",
    "#                                \"sit\", \n",
    "#                                \"sutd\",\n",
    "#                                \"suss\", \n",
    "#                                \"nie\", \n",
    "#                                \"singapore_polytechnic\",\n",
    "#                                \"ngee_ann_polytechnic\", \n",
    "#                                \"temasek_polytechnic\",\n",
    "#                                \"nanyang_polytechnic\", \n",
    "#                                \"republic_polytechnic\", \n",
    "#                                \"lasalle_diploma\",\n",
    "#                                \"lasalle_degree\", \n",
    "#                                \"nafa_diploma\", \n",
    "#                                \"nafa_degree\", \n",
    "#                                \"ite\"])\n",
    "\n",
    "# for i in range(len(male)):\n",
    "#     male_data = male_data.append({\"year\" : graduate.index[i*2][0],\n",
    "#                 \"sex\" : \"M\",\n",
    "#                 \"nus\" : int(male[i][0]),\n",
    "#                 \"ntu\" : int(male[i][1]),\n",
    "#                 \"smu\" : int(male[i][2]),\n",
    "#                 \"sit\" : int(male[i][3]),\n",
    "#                 \"sutd\": int(male[i][4]),\n",
    "#                 \"suss\" : int(male[i][5]),\n",
    "#                 \"nie\" : int(male[i][6]),\n",
    "#                 \"singapore_polytechnic\" : int(male[i][7]),\n",
    "#                 \"ngee_ann_polytechnic\" : int(male[i][8]),\n",
    "#                 \"temasek_polytechnic\" : int(male[i][9]),\n",
    "#                 \"nanyang_polytechnic\" : int(male[i][10]),\n",
    "#                 \"republic_polytechnic\" : int(male[i][11]),\n",
    "#                 \"lasalle_diploma\" : int(male[i][12]),\n",
    "#                 \"lasalle_degree\" : int(male[i][13]),\n",
    "#                 \"nafa_diploma\" : int(male[i][14]),\n",
    "#                 \"nafa_degree\" : int(male[i][15]),\n",
    "#                 \"ite\" :  int(male[i][16])}, ignore_index=True)"
   ]
  },
  {
   "cell_type": "code",
   "execution_count": null,
   "metadata": {
    "scrolled": false
   },
   "outputs": [],
   "source": [
    "# male_data = male_data.set_index([\"year\", \"sex\"])\n",
    "# male_data"
   ]
  },
  {
   "cell_type": "code",
   "execution_count": null,
   "metadata": {
    "scrolled": true
   },
   "outputs": [],
   "source": [
    "# graduate = pd.concat([male_data, graduate], sort = True).sort_index()\n",
    "# graduate"
   ]
  },
  {
   "cell_type": "code",
   "execution_count": null,
   "metadata": {},
   "outputs": [],
   "source": [
    "# graduate.to_csv(r\"~/graduate_data.csv\")"
   ]
  }
 ],
 "metadata": {
  "kernelspec": {
   "display_name": "Python 3",
   "language": "python",
   "name": "python3"
  },
  "language_info": {
   "codemirror_mode": {
    "name": "ipython",
    "version": 3
   },
   "file_extension": ".py",
   "mimetype": "text/x-python",
   "name": "python",
   "nbconvert_exporter": "python",
   "pygments_lexer": "ipython3",
   "version": "3.7.4"
  }
 },
 "nbformat": 4,
 "nbformat_minor": 2
}
